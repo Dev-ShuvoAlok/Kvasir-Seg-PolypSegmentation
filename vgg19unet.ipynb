{
 "cells": [
  {
   "cell_type": "code",
   "execution_count": 1,
   "id": "3f679a99",
   "metadata": {
    "_cell_guid": "b1076dfc-b9ad-4769-8c92-a6c4dae69d19",
    "_uuid": "8f2839f25d086af736a60e9eeb907d3b93b6e0e5",
    "execution": {
     "iopub.execute_input": "2023-12-27T21:31:13.326839Z",
     "iopub.status.busy": "2023-12-27T21:31:13.326548Z",
     "iopub.status.idle": "2023-12-27T21:31:27.653385Z",
     "shell.execute_reply": "2023-12-27T21:31:27.652243Z"
    },
    "papermill": {
     "duration": 14.336684,
     "end_time": "2023-12-27T21:31:27.656012",
     "exception": false,
     "start_time": "2023-12-27T21:31:13.319328",
     "status": "completed"
    },
    "tags": []
   },
   "outputs": [
    {
     "name": "stderr",
     "output_type": "stream",
     "text": [
      "/opt/conda/lib/python3.10/site-packages/scipy/__init__.py:146: UserWarning: A NumPy version >=1.16.5 and <1.23.0 is required for this version of SciPy (detected version 1.24.3\n",
      "  warnings.warn(f\"A NumPy version >={np_minversion} and <{np_maxversion}\"\n"
     ]
    }
   ],
   "source": [
    "import os\n",
    "import numpy as np\n",
    "import cv2\n",
    "from glob import glob\n",
    "import tensorflow as tf\n",
    "from sklearn.model_selection import train_test_split"
   ]
  },
  {
   "cell_type": "code",
   "execution_count": 2,
   "id": "ae2afdc2",
   "metadata": {
    "execution": {
     "iopub.execute_input": "2023-12-27T21:31:27.670077Z",
     "iopub.status.busy": "2023-12-27T21:31:27.669544Z",
     "iopub.status.idle": "2023-12-27T21:31:27.677184Z",
     "shell.execute_reply": "2023-12-27T21:31:27.676356Z"
    },
    "papermill": {
     "duration": 0.016685,
     "end_time": "2023-12-27T21:31:27.679173",
     "exception": false,
     "start_time": "2023-12-27T21:31:27.662488",
     "status": "completed"
    },
    "tags": []
   },
   "outputs": [],
   "source": [
    "def load_data(path, split=0.1):\n",
    "    images = sorted(glob(os.path.join(path, \"images/*\")))\n",
    "    masks = sorted(glob(os.path.join(path, \"masks/*\")))\n",
    "\n",
    "    total_size = len(images)\n",
    "    valid_size = int(split * total_size)\n",
    "    test_size = int(split * total_size)\n",
    "\n",
    "    train_x, valid_x = train_test_split(images, test_size=valid_size, random_state=42)\n",
    "    train_y, valid_y = train_test_split(masks, test_size=valid_size, random_state=42)\n",
    "\n",
    "    train_x, test_x = train_test_split(train_x, test_size=test_size, random_state=42)\n",
    "    train_y, test_y = train_test_split(train_y, test_size=test_size, random_state=42)\n",
    "\n",
    "    return (train_x, train_y), (valid_x, valid_y), (test_x, test_y)"
   ]
  },
  {
   "cell_type": "code",
   "execution_count": 3,
   "id": "1dedc2e6",
   "metadata": {
    "execution": {
     "iopub.execute_input": "2023-12-27T21:31:27.691134Z",
     "iopub.status.busy": "2023-12-27T21:31:27.690864Z",
     "iopub.status.idle": "2023-12-27T21:31:27.699542Z",
     "shell.execute_reply": "2023-12-27T21:31:27.698771Z"
    },
    "papermill": {
     "duration": 0.016719,
     "end_time": "2023-12-27T21:31:27.701412",
     "exception": false,
     "start_time": "2023-12-27T21:31:27.684693",
     "status": "completed"
    },
    "tags": []
   },
   "outputs": [],
   "source": [
    "def read_image(path):\n",
    "    path = path.decode()\n",
    "    x = cv2.imread(path, cv2.IMREAD_COLOR)\n",
    "    x = cv2.resize(x, (256, 256))\n",
    "    x = x/255.0\n",
    "    return x\n",
    "\n",
    "def read_mask(path):\n",
    "    path = path.decode()\n",
    "    x = cv2.imread(path, cv2.IMREAD_GRAYSCALE)\n",
    "    x = cv2.resize(x, (256, 256))\n",
    "    x = x/255.0\n",
    "    x = np.expand_dims(x, axis=-1)\n",
    "    return x\n",
    "\n",
    "def tf_parse(x, y):\n",
    "    def _parse(x, y):\n",
    "        x = read_image(x)\n",
    "        y = read_mask(y)\n",
    "        return x, y\n",
    "\n",
    "    x, y = tf.numpy_function(_parse, [x, y], [tf.float64, tf.float64])\n",
    "    x.set_shape([256, 256, 3])\n",
    "    y.set_shape([256, 256, 1])\n",
    "    return x, y\n",
    "\n",
    "def tf_dataset(x, y, batch=8):\n",
    "    dataset = tf.data.Dataset.from_tensor_slices((x, y))\n",
    "    dataset = dataset.map(tf_parse)\n",
    "    dataset = dataset.batch(batch)\n",
    "    dataset = dataset.repeat()\n",
    "    return dataset"
   ]
  },
  {
   "cell_type": "markdown",
   "id": "43c59e85",
   "metadata": {
    "papermill": {
     "duration": 0.005165,
     "end_time": "2023-12-27T21:31:27.711925",
     "exception": false,
     "start_time": "2023-12-27T21:31:27.706760",
     "status": "completed"
    },
    "tags": []
   },
   "source": [
    "# model"
   ]
  },
  {
   "cell_type": "code",
   "execution_count": 4,
   "id": "b650bbdd",
   "metadata": {
    "execution": {
     "iopub.execute_input": "2023-12-27T21:31:27.723600Z",
     "iopub.status.busy": "2023-12-27T21:31:27.723359Z",
     "iopub.status.idle": "2023-12-27T21:31:27.843341Z",
     "shell.execute_reply": "2023-12-27T21:31:27.842609Z"
    },
    "papermill": {
     "duration": 0.128065,
     "end_time": "2023-12-27T21:31:27.845368",
     "exception": false,
     "start_time": "2023-12-27T21:31:27.717303",
     "status": "completed"
    },
    "tags": []
   },
   "outputs": [],
   "source": [
    "import tensorflow as tf\n",
    "from tensorflow.keras.layers import *\n",
    "from tensorflow.keras.models import Model\n",
    "from tensorflow.keras.applications import VGG19"
   ]
  },
  {
   "cell_type": "code",
   "execution_count": 5,
   "id": "a72f2429",
   "metadata": {
    "execution": {
     "iopub.execute_input": "2023-12-27T21:31:27.858043Z",
     "iopub.status.busy": "2023-12-27T21:31:27.857792Z",
     "iopub.status.idle": "2023-12-27T21:31:27.864056Z",
     "shell.execute_reply": "2023-12-27T21:31:27.863348Z"
    },
    "papermill": {
     "duration": 0.014476,
     "end_time": "2023-12-27T21:31:27.865890",
     "exception": false,
     "start_time": "2023-12-27T21:31:27.851414",
     "status": "completed"
    },
    "tags": []
   },
   "outputs": [],
   "source": [
    "def conv_block(input, num_filters):\n",
    "    x = Conv2D(num_filters, 3, padding=\"same\")(input)\n",
    "    x = BatchNormalization()(x)\n",
    "    x = Activation(\"relu\")(x)\n",
    "\n",
    "    x = Conv2D(num_filters, 3, padding=\"same\")(x)\n",
    "    x = BatchNormalization()(x)\n",
    "    x = Activation(\"relu\")(x)\n",
    "\n",
    "    return x\n",
    "\n",
    "def decoder_block(input, skip_features, num_filters):\n",
    "    x = Conv2DTranspose(num_filters, (2, 2), strides=2, padding=\"same\")(input)\n",
    "    x = Concatenate()([x, skip_features])\n",
    "    x = conv_block(x, num_filters)\n",
    "    return x"
   ]
  },
  {
   "cell_type": "code",
   "execution_count": 6,
   "id": "4f2100ab",
   "metadata": {
    "execution": {
     "iopub.execute_input": "2023-12-27T21:31:27.877724Z",
     "iopub.status.busy": "2023-12-27T21:31:27.877454Z",
     "iopub.status.idle": "2023-12-27T21:31:27.884640Z",
     "shell.execute_reply": "2023-12-27T21:31:27.883926Z"
    },
    "papermill": {
     "duration": 0.01511,
     "end_time": "2023-12-27T21:31:27.886474",
     "exception": false,
     "start_time": "2023-12-27T21:31:27.871364",
     "status": "completed"
    },
    "tags": []
   },
   "outputs": [],
   "source": [
    "def build_vgg19_unet(input_shape):\n",
    "    \"\"\" Input \"\"\"\n",
    "    inputs = Input(input_shape)\n",
    "\n",
    "    \"\"\" Pre-trained VGG19 Model \"\"\"\n",
    "    vgg19 = VGG19(include_top=False, weights=\"imagenet\", input_tensor=inputs)\n",
    "\n",
    "    \"\"\" Encoder \"\"\"\n",
    "    s1 = vgg19.get_layer(\"block1_conv2\").output         ## (512 x 512)\n",
    "    s2 = vgg19.get_layer(\"block2_conv2\").output         ## (256 x 256)\n",
    "    s3 = vgg19.get_layer(\"block3_conv4\").output         ## (128 x 128)\n",
    "    s4 = vgg19.get_layer(\"block4_conv4\").output         ## (64 x 64)\n",
    "\n",
    "    \"\"\" Bridge \"\"\"\n",
    "    b1 = vgg19.get_layer(\"block5_conv4\").output         ## (32 x 32)\n",
    "\n",
    "    \"\"\" Decoder \"\"\"\n",
    "    d1 = decoder_block(b1, s4, 256)                     ## (64 x 64)\n",
    "    d2 = decoder_block(d1, s3, 128)                     ## (128 x 128)\n",
    "    d3 = decoder_block(d2, s2, 64)                     ## (256 x 256)\n",
    "    d4 = decoder_block(d3, s1, 32)                      ## (512 x 512)\n",
    "\n",
    "    \"\"\" Output \"\"\"\n",
    "    outputs = Conv2D(1, 1, padding=\"same\", activation=\"sigmoid\")(d4)\n",
    "\n",
    "    model = Model(inputs, outputs, name=\"VGG19_U-Net\")\n",
    "    return model"
   ]
  },
  {
   "cell_type": "code",
   "execution_count": 7,
   "id": "91be8930",
   "metadata": {
    "execution": {
     "iopub.execute_input": "2023-12-27T21:31:27.898512Z",
     "iopub.status.busy": "2023-12-27T21:31:27.898248Z",
     "iopub.status.idle": "2023-12-27T21:31:33.640240Z",
     "shell.execute_reply": "2023-12-27T21:31:33.639198Z"
    },
    "papermill": {
     "duration": 5.777,
     "end_time": "2023-12-27T21:31:33.669049",
     "exception": false,
     "start_time": "2023-12-27T21:31:27.892049",
     "status": "completed"
    },
    "tags": []
   },
   "outputs": [
    {
     "name": "stdout",
     "output_type": "stream",
     "text": [
      "Downloading data from https://storage.googleapis.com/tensorflow/keras-applications/vgg19/vgg19_weights_tf_dim_ordering_tf_kernels_notop.h5\n",
      "80134624/80134624 [==============================] - 0s 0us/step\n",
      "Model: \"VGG19_U-Net\"\n",
      "__________________________________________________________________________________________________\n",
      " Layer (type)                Output Shape                 Param #   Connected to                  \n",
      "==================================================================================================\n",
      " input_1 (InputLayer)        [(None, 256, 256, 3)]        0         []                            \n",
      "                                                                                                  \n",
      " block1_conv1 (Conv2D)       (None, 256, 256, 64)         1792      ['input_1[0][0]']             \n",
      "                                                                                                  \n",
      " block1_conv2 (Conv2D)       (None, 256, 256, 64)         36928     ['block1_conv1[0][0]']        \n",
      "                                                                                                  \n",
      " block1_pool (MaxPooling2D)  (None, 128, 128, 64)         0         ['block1_conv2[0][0]']        \n",
      "                                                                                                  \n",
      " block2_conv1 (Conv2D)       (None, 128, 128, 128)        73856     ['block1_pool[0][0]']         \n",
      "                                                                                                  \n",
      " block2_conv2 (Conv2D)       (None, 128, 128, 128)        147584    ['block2_conv1[0][0]']        \n",
      "                                                                                                  \n",
      " block2_pool (MaxPooling2D)  (None, 64, 64, 128)          0         ['block2_conv2[0][0]']        \n",
      "                                                                                                  \n",
      " block3_conv1 (Conv2D)       (None, 64, 64, 256)          295168    ['block2_pool[0][0]']         \n",
      "                                                                                                  \n",
      " block3_conv2 (Conv2D)       (None, 64, 64, 256)          590080    ['block3_conv1[0][0]']        \n",
      "                                                                                                  \n",
      " block3_conv3 (Conv2D)       (None, 64, 64, 256)          590080    ['block3_conv2[0][0]']        \n",
      "                                                                                                  \n",
      " block3_conv4 (Conv2D)       (None, 64, 64, 256)          590080    ['block3_conv3[0][0]']        \n",
      "                                                                                                  \n",
      " block3_pool (MaxPooling2D)  (None, 32, 32, 256)          0         ['block3_conv4[0][0]']        \n",
      "                                                                                                  \n",
      " block4_conv1 (Conv2D)       (None, 32, 32, 512)          1180160   ['block3_pool[0][0]']         \n",
      "                                                                                                  \n",
      " block4_conv2 (Conv2D)       (None, 32, 32, 512)          2359808   ['block4_conv1[0][0]']        \n",
      "                                                                                                  \n",
      " block4_conv3 (Conv2D)       (None, 32, 32, 512)          2359808   ['block4_conv2[0][0]']        \n",
      "                                                                                                  \n",
      " block4_conv4 (Conv2D)       (None, 32, 32, 512)          2359808   ['block4_conv3[0][0]']        \n",
      "                                                                                                  \n",
      " block4_pool (MaxPooling2D)  (None, 16, 16, 512)          0         ['block4_conv4[0][0]']        \n",
      "                                                                                                  \n",
      " block5_conv1 (Conv2D)       (None, 16, 16, 512)          2359808   ['block4_pool[0][0]']         \n",
      "                                                                                                  \n",
      " block5_conv2 (Conv2D)       (None, 16, 16, 512)          2359808   ['block5_conv1[0][0]']        \n",
      "                                                                                                  \n",
      " block5_conv3 (Conv2D)       (None, 16, 16, 512)          2359808   ['block5_conv2[0][0]']        \n",
      "                                                                                                  \n",
      " block5_conv4 (Conv2D)       (None, 16, 16, 512)          2359808   ['block5_conv3[0][0]']        \n",
      "                                                                                                  \n",
      " conv2d_transpose (Conv2DTr  (None, 32, 32, 256)          524544    ['block5_conv4[0][0]']        \n",
      " anspose)                                                                                         \n",
      "                                                                                                  \n",
      " concatenate (Concatenate)   (None, 32, 32, 768)          0         ['conv2d_transpose[0][0]',    \n",
      "                                                                     'block4_conv4[0][0]']        \n",
      "                                                                                                  \n",
      " conv2d (Conv2D)             (None, 32, 32, 256)          1769728   ['concatenate[0][0]']         \n",
      "                                                                                                  \n",
      " batch_normalization (Batch  (None, 32, 32, 256)          1024      ['conv2d[0][0]']              \n",
      " Normalization)                                                                                   \n",
      "                                                                                                  \n",
      " activation (Activation)     (None, 32, 32, 256)          0         ['batch_normalization[0][0]'] \n",
      "                                                                                                  \n",
      " conv2d_1 (Conv2D)           (None, 32, 32, 256)          590080    ['activation[0][0]']          \n",
      "                                                                                                  \n",
      " batch_normalization_1 (Bat  (None, 32, 32, 256)          1024      ['conv2d_1[0][0]']            \n",
      " chNormalization)                                                                                 \n",
      "                                                                                                  \n",
      " activation_1 (Activation)   (None, 32, 32, 256)          0         ['batch_normalization_1[0][0]'\n",
      "                                                                    ]                             \n",
      "                                                                                                  \n",
      " conv2d_transpose_1 (Conv2D  (None, 64, 64, 128)          131200    ['activation_1[0][0]']        \n",
      " Transpose)                                                                                       \n",
      "                                                                                                  \n",
      " concatenate_1 (Concatenate  (None, 64, 64, 384)          0         ['conv2d_transpose_1[0][0]',  \n",
      " )                                                                   'block3_conv4[0][0]']        \n",
      "                                                                                                  \n",
      " conv2d_2 (Conv2D)           (None, 64, 64, 128)          442496    ['concatenate_1[0][0]']       \n",
      "                                                                                                  \n",
      " batch_normalization_2 (Bat  (None, 64, 64, 128)          512       ['conv2d_2[0][0]']            \n",
      " chNormalization)                                                                                 \n",
      "                                                                                                  \n",
      " activation_2 (Activation)   (None, 64, 64, 128)          0         ['batch_normalization_2[0][0]'\n",
      "                                                                    ]                             \n",
      "                                                                                                  \n",
      " conv2d_3 (Conv2D)           (None, 64, 64, 128)          147584    ['activation_2[0][0]']        \n",
      "                                                                                                  \n",
      " batch_normalization_3 (Bat  (None, 64, 64, 128)          512       ['conv2d_3[0][0]']            \n",
      " chNormalization)                                                                                 \n",
      "                                                                                                  \n",
      " activation_3 (Activation)   (None, 64, 64, 128)          0         ['batch_normalization_3[0][0]'\n",
      "                                                                    ]                             \n",
      "                                                                                                  \n",
      " conv2d_transpose_2 (Conv2D  (None, 128, 128, 64)         32832     ['activation_3[0][0]']        \n",
      " Transpose)                                                                                       \n",
      "                                                                                                  \n",
      " concatenate_2 (Concatenate  (None, 128, 128, 192)        0         ['conv2d_transpose_2[0][0]',  \n",
      " )                                                                   'block2_conv2[0][0]']        \n",
      "                                                                                                  \n",
      " conv2d_4 (Conv2D)           (None, 128, 128, 64)         110656    ['concatenate_2[0][0]']       \n",
      "                                                                                                  \n",
      " batch_normalization_4 (Bat  (None, 128, 128, 64)         256       ['conv2d_4[0][0]']            \n",
      " chNormalization)                                                                                 \n",
      "                                                                                                  \n",
      " activation_4 (Activation)   (None, 128, 128, 64)         0         ['batch_normalization_4[0][0]'\n",
      "                                                                    ]                             \n",
      "                                                                                                  \n",
      " conv2d_5 (Conv2D)           (None, 128, 128, 64)         36928     ['activation_4[0][0]']        \n",
      "                                                                                                  \n",
      " batch_normalization_5 (Bat  (None, 128, 128, 64)         256       ['conv2d_5[0][0]']            \n",
      " chNormalization)                                                                                 \n",
      "                                                                                                  \n",
      " activation_5 (Activation)   (None, 128, 128, 64)         0         ['batch_normalization_5[0][0]'\n",
      "                                                                    ]                             \n",
      "                                                                                                  \n",
      " conv2d_transpose_3 (Conv2D  (None, 256, 256, 32)         8224      ['activation_5[0][0]']        \n",
      " Transpose)                                                                                       \n",
      "                                                                                                  \n",
      " concatenate_3 (Concatenate  (None, 256, 256, 96)         0         ['conv2d_transpose_3[0][0]',  \n",
      " )                                                                   'block1_conv2[0][0]']        \n",
      "                                                                                                  \n",
      " conv2d_6 (Conv2D)           (None, 256, 256, 32)         27680     ['concatenate_3[0][0]']       \n",
      "                                                                                                  \n",
      " batch_normalization_6 (Bat  (None, 256, 256, 32)         128       ['conv2d_6[0][0]']            \n",
      " chNormalization)                                                                                 \n",
      "                                                                                                  \n",
      " activation_6 (Activation)   (None, 256, 256, 32)         0         ['batch_normalization_6[0][0]'\n",
      "                                                                    ]                             \n",
      "                                                                                                  \n",
      " conv2d_7 (Conv2D)           (None, 256, 256, 32)         9248      ['activation_6[0][0]']        \n",
      "                                                                                                  \n",
      " batch_normalization_7 (Bat  (None, 256, 256, 32)         128       ['conv2d_7[0][0]']            \n",
      " chNormalization)                                                                                 \n",
      "                                                                                                  \n",
      " activation_7 (Activation)   (None, 256, 256, 32)         0         ['batch_normalization_7[0][0]'\n",
      "                                                                    ]                             \n",
      "                                                                                                  \n",
      " conv2d_8 (Conv2D)           (None, 256, 256, 1)          33        ['activation_7[0][0]']        \n",
      "                                                                                                  \n",
      "==================================================================================================\n",
      "Total params: 23859457 (91.02 MB)\n",
      "Trainable params: 23857537 (91.01 MB)\n",
      "Non-trainable params: 1920 (7.50 KB)\n",
      "__________________________________________________________________________________________________\n"
     ]
    }
   ],
   "source": [
    "input_shape = (256, 256, 3)\n",
    "model = build_vgg19_unet(input_shape)\n",
    "model.summary()"
   ]
  },
  {
   "cell_type": "markdown",
   "id": "2eb9d041",
   "metadata": {
    "papermill": {
     "duration": 0.017149,
     "end_time": "2023-12-27T21:31:33.703609",
     "exception": false,
     "start_time": "2023-12-27T21:31:33.686460",
     "status": "completed"
    },
    "tags": []
   },
   "source": [
    "# train"
   ]
  },
  {
   "cell_type": "code",
   "execution_count": 8,
   "id": "5791a90a",
   "metadata": {
    "execution": {
     "iopub.execute_input": "2023-12-27T21:31:33.739429Z",
     "iopub.status.busy": "2023-12-27T21:31:33.738919Z",
     "iopub.status.idle": "2023-12-27T21:31:33.744667Z",
     "shell.execute_reply": "2023-12-27T21:31:33.743911Z"
    },
    "papermill": {
     "duration": 0.02564,
     "end_time": "2023-12-27T21:31:33.746701",
     "exception": false,
     "start_time": "2023-12-27T21:31:33.721061",
     "status": "completed"
    },
    "tags": []
   },
   "outputs": [],
   "source": [
    "import os\n",
    "import numpy as np\n",
    "import cv2\n",
    "from glob import glob\n",
    "import tensorflow as tf\n",
    "from tensorflow.keras.callbacks import EarlyStopping, ModelCheckpoint, ReduceLROnPlateau, CSVLogger, TensorBoard\n",
    "# from data import load_data, tf_dataset\n",
    "# from model import build_model"
   ]
  },
  {
   "cell_type": "code",
   "execution_count": 9,
   "id": "c93ebac2",
   "metadata": {
    "execution": {
     "iopub.execute_input": "2023-12-27T21:31:33.783107Z",
     "iopub.status.busy": "2023-12-27T21:31:33.782822Z",
     "iopub.status.idle": "2023-12-27T21:31:33.788305Z",
     "shell.execute_reply": "2023-12-27T21:31:33.787257Z"
    },
    "papermill": {
     "duration": 0.025647,
     "end_time": "2023-12-27T21:31:33.790376",
     "exception": false,
     "start_time": "2023-12-27T21:31:33.764729",
     "status": "completed"
    },
    "tags": []
   },
   "outputs": [],
   "source": [
    "def iou(y_true, y_pred):\n",
    "    def f(y_true, y_pred):\n",
    "        intersection = (y_true * y_pred).sum()\n",
    "        union = y_true.sum() + y_pred.sum() - intersection\n",
    "        x = (intersection + 1e-15) / (union + 1e-15)\n",
    "        x = x.astype(np.float32)\n",
    "        return x\n",
    "    return tf.numpy_function(f, [y_true, y_pred], tf.float32)\n"
   ]
  },
  {
   "cell_type": "code",
   "execution_count": 10,
   "id": "b5b41ded",
   "metadata": {
    "execution": {
     "iopub.execute_input": "2023-12-27T21:31:33.826305Z",
     "iopub.status.busy": "2023-12-27T21:31:33.825825Z",
     "iopub.status.idle": "2023-12-27T21:31:33.958230Z",
     "shell.execute_reply": "2023-12-27T21:31:33.957376Z"
    },
    "papermill": {
     "duration": 0.152447,
     "end_time": "2023-12-27T21:31:33.960232",
     "exception": false,
     "start_time": "2023-12-27T21:31:33.807785",
     "status": "completed"
    },
    "tags": []
   },
   "outputs": [
    {
     "name": "stdout",
     "output_type": "stream",
     "text": [
      "800 800 100 100 100 100\n"
     ]
    }
   ],
   "source": [
    "path = \"/kaggle/input/kvasirseg/Kvasir-SEG/\"\n",
    "(train_x, train_y), (valid_x, valid_y), (test_x, test_y) = load_data(path)\n",
    "\n",
    "print(len(train_x),len(train_y),len(valid_x),len(valid_y),len(test_x),len(test_y))\n",
    "\n"
   ]
  },
  {
   "cell_type": "code",
   "execution_count": 11,
   "id": "dd9c5a2c",
   "metadata": {
    "execution": {
     "iopub.execute_input": "2023-12-27T21:31:33.996533Z",
     "iopub.status.busy": "2023-12-27T21:31:33.995622Z",
     "iopub.status.idle": "2023-12-27T21:31:34.398353Z",
     "shell.execute_reply": "2023-12-27T21:31:34.397322Z"
    },
    "papermill": {
     "duration": 0.422816,
     "end_time": "2023-12-27T21:31:34.400428",
     "exception": false,
     "start_time": "2023-12-27T21:31:33.977612",
     "status": "completed"
    },
    "tags": []
   },
   "outputs": [
    {
     "name": "stdout",
     "output_type": "stream",
     "text": [
      "(8, 256, 256, 3) (8, 256, 256, 1)\n"
     ]
    }
   ],
   "source": [
    "## Hyperparameters\n",
    "batch = 8\n",
    "lr = 1e-4\n",
    "epochs = 400\n",
    "\n",
    "train_dataset = tf_dataset(train_x, train_y, batch=batch)\n",
    "valid_dataset = tf_dataset(valid_x, valid_y, batch=batch)\n",
    "\n",
    "for x,y in train_dataset:\n",
    "    print(x.shape,y.shape)\n",
    "    break;"
   ]
  },
  {
   "cell_type": "code",
   "execution_count": 12,
   "id": "54afe2aa",
   "metadata": {
    "execution": {
     "iopub.execute_input": "2023-12-27T21:31:34.438158Z",
     "iopub.status.busy": "2023-12-27T21:31:34.437861Z",
     "iopub.status.idle": "2023-12-27T21:31:34.467834Z",
     "shell.execute_reply": "2023-12-27T21:31:34.466993Z"
    },
    "papermill": {
     "duration": 0.050792,
     "end_time": "2023-12-27T21:31:34.469841",
     "exception": false,
     "start_time": "2023-12-27T21:31:34.419049",
     "status": "completed"
    },
    "tags": []
   },
   "outputs": [],
   "source": [
    "opt = tf.keras.optimizers.Adam(lr)\n",
    "metrics = [\"acc\", tf.keras.metrics.Recall(), tf.keras.metrics.Precision(), iou]\n",
    "model.compile(loss=\"binary_crossentropy\", optimizer=opt, metrics=metrics)\n",
    "\n",
    "callbacks = [\n",
    "        ModelCheckpoint(\"files/model.h5\",monitor=\"val_acc\", mode=\"max\", \n",
    "                         save_best_only=True, verbose=1),\n",
    "        ReduceLROnPlateau(monitor='val_loss', factor = 0.5, patience = 15, \n",
    "                         min_delta = 0.001,min_lr = 1e-10,verbose = 1),\n",
    "        CSVLogger(\"files/data.csv\"),\n",
    "        TensorBoard()\n",
    "    ]\n",
    "\n"
   ]
  },
  {
   "cell_type": "code",
   "execution_count": 13,
   "id": "200b0e45",
   "metadata": {
    "execution": {
     "iopub.execute_input": "2023-12-27T21:31:34.505767Z",
     "iopub.status.busy": "2023-12-27T21:31:34.505229Z",
     "iopub.status.idle": "2023-12-28T01:28:26.813741Z",
     "shell.execute_reply": "2023-12-28T01:28:26.812685Z"
    },
    "papermill": {
     "duration": 14212.329391,
     "end_time": "2023-12-28T01:28:26.816228",
     "exception": false,
     "start_time": "2023-12-27T21:31:34.486837",
     "status": "completed"
    },
    "tags": []
   },
   "outputs": [
    {
     "name": "stdout",
     "output_type": "stream",
     "text": [
      "Epoch 1/400\n",
      "100/100 [==============================] - ETA: 0s - loss: 0.5098 - acc: 0.7767 - recall: 0.5510 - precision: 0.3701 - iou: 0.1779\n",
      "Epoch 1: val_acc improved from -inf to 0.36105, saving model to files/model.h5\n"
     ]
    },
    {
     "name": "stderr",
     "output_type": "stream",
     "text": [
      "/opt/conda/lib/python3.10/site-packages/keras/src/engine/training.py:3000: UserWarning: You are saving your model as an HDF5 file via `model.save()`. This file format is considered legacy. We recommend using instead the native Keras format, e.g. `model.save('my_model.keras')`.\n",
      "  saving_api.save_model(\n"
     ]
    },
    {
     "name": "stdout",
     "output_type": "stream",
     "text": [
      "100/100 [==============================] - 69s 374ms/step - loss: 0.5098 - acc: 0.7767 - recall: 0.5510 - precision: 0.3701 - iou: 0.1779 - val_loss: 1.6061 - val_acc: 0.3611 - val_recall: 0.9862 - val_precision: 0.2112 - val_iou: 0.1985 - lr: 1.0000e-04\n",
      "Epoch 2/400\n",
      "100/100 [==============================] - ETA: 0s - loss: 0.3356 - acc: 0.8770 - recall: 0.5230 - precision: 0.6475 - iou: 0.2402\n",
      "Epoch 2: val_acc improved from 0.36105 to 0.48769, saving model to files/model.h5\n",
      "100/100 [==============================] - 34s 336ms/step - loss: 0.3356 - acc: 0.8770 - recall: 0.5230 - precision: 0.6475 - iou: 0.2402 - val_loss: 1.4246 - val_acc: 0.4877 - val_recall: 0.9764 - val_precision: 0.2500 - val_iou: 0.2222 - lr: 1.0000e-04\n",
      "Epoch 3/400\n",
      "100/100 [==============================] - ETA: 0s - loss: 0.2842 - acc: 0.8971 - recall: 0.6005 - precision: 0.7227 - iou: 0.2961\n",
      "Epoch 3: val_acc improved from 0.48769 to 0.89171, saving model to files/model.h5\n",
      "100/100 [==============================] - 34s 342ms/step - loss: 0.2842 - acc: 0.8971 - recall: 0.6005 - precision: 0.7227 - iou: 0.2961 - val_loss: 0.3098 - val_acc: 0.8917 - val_recall: 0.5506 - val_precision: 0.7694 - val_iou: 0.2843 - lr: 1.0000e-04\n",
      "Epoch 4/400\n",
      "100/100 [==============================] - ETA: 0s - loss: 0.2485 - acc: 0.9116 - recall: 0.6608 - precision: 0.7741 - iou: 0.3462\n",
      "Epoch 4: val_acc improved from 0.89171 to 0.89515, saving model to files/model.h5\n",
      "100/100 [==============================] - 35s 346ms/step - loss: 0.2485 - acc: 0.9116 - recall: 0.6608 - precision: 0.7741 - iou: 0.3462 - val_loss: 0.2738 - val_acc: 0.8951 - val_recall: 0.7433 - val_precision: 0.6964 - val_iou: 0.3910 - lr: 1.0000e-04\n",
      "Epoch 5/400\n",
      "100/100 [==============================] - ETA: 0s - loss: 0.2199 - acc: 0.9242 - recall: 0.7079 - precision: 0.8182 - iou: 0.3929\n",
      "Epoch 5: val_acc improved from 0.89515 to 0.91078, saving model to files/model.h5\n",
      "100/100 [==============================] - 35s 349ms/step - loss: 0.2199 - acc: 0.9242 - recall: 0.7079 - precision: 0.8182 - iou: 0.3929 - val_loss: 0.2405 - val_acc: 0.9108 - val_recall: 0.5358 - val_precision: 0.9245 - val_iou: 0.3623 - lr: 1.0000e-04\n",
      "Epoch 6/400\n",
      "100/100 [==============================] - ETA: 0s - loss: 0.1988 - acc: 0.9321 - recall: 0.7379 - precision: 0.8449 - iou: 0.4311\n",
      "Epoch 6: val_acc did not improve from 0.91078\n",
      "100/100 [==============================] - 34s 344ms/step - loss: 0.1988 - acc: 0.9321 - recall: 0.7379 - precision: 0.8449 - iou: 0.4311 - val_loss: 0.2559 - val_acc: 0.9030 - val_recall: 0.4650 - val_precision: 0.9499 - val_iou: 0.3426 - lr: 1.0000e-04\n",
      "Epoch 7/400\n",
      "100/100 [==============================] - ETA: 0s - loss: 0.1822 - acc: 0.9370 - recall: 0.7553 - precision: 0.8618 - iou: 0.4609\n",
      "Epoch 7: val_acc did not improve from 0.91078\n",
      "100/100 [==============================] - 35s 346ms/step - loss: 0.1822 - acc: 0.9370 - recall: 0.7553 - precision: 0.8618 - iou: 0.4609 - val_loss: 0.3486 - val_acc: 0.8663 - val_recall: 0.2193 - val_precision: 0.9880 - val_iou: 0.2105 - lr: 1.0000e-04\n",
      "Epoch 8/400\n",
      "100/100 [==============================] - ETA: 0s - loss: 0.1642 - acc: 0.9424 - recall: 0.7756 - precision: 0.8799 - iou: 0.4949\n",
      "Epoch 8: val_acc did not improve from 0.91078\n",
      "100/100 [==============================] - 35s 347ms/step - loss: 0.1642 - acc: 0.9424 - recall: 0.7756 - precision: 0.8799 - iou: 0.4949 - val_loss: 0.3198 - val_acc: 0.8746 - val_recall: 0.2720 - val_precision: 0.9888 - val_iou: 0.2548 - lr: 1.0000e-04\n",
      "Epoch 9/400\n",
      "100/100 [==============================] - ETA: 0s - loss: 0.1534 - acc: 0.9451 - recall: 0.7866 - precision: 0.8878 - iou: 0.5173\n",
      "Epoch 9: val_acc did not improve from 0.91078\n",
      "100/100 [==============================] - 35s 348ms/step - loss: 0.1534 - acc: 0.9451 - recall: 0.7866 - precision: 0.8878 - iou: 0.5173 - val_loss: 0.2565 - val_acc: 0.8974 - val_recall: 0.4175 - val_precision: 0.9750 - val_iou: 0.3325 - lr: 1.0000e-04\n",
      "Epoch 10/400\n",
      "100/100 [==============================] - ETA: 0s - loss: 0.1399 - acc: 0.9497 - recall: 0.8068 - precision: 0.8995 - iou: 0.5476\n",
      "Epoch 10: val_acc did not improve from 0.91078\n",
      "100/100 [==============================] - 35s 349ms/step - loss: 0.1399 - acc: 0.9497 - recall: 0.8068 - precision: 0.8995 - iou: 0.5476 - val_loss: 0.2724 - val_acc: 0.8925 - val_recall: 0.3909 - val_precision: 0.9710 - val_iou: 0.3271 - lr: 1.0000e-04\n",
      "Epoch 11/400\n",
      "100/100 [==============================] - ETA: 0s - loss: 0.1259 - acc: 0.9540 - recall: 0.8255 - precision: 0.9114 - iou: 0.5784\n",
      "Epoch 11: val_acc did not improve from 0.91078\n",
      "100/100 [==============================] - 35s 349ms/step - loss: 0.1259 - acc: 0.9540 - recall: 0.8255 - precision: 0.9114 - iou: 0.5784 - val_loss: 0.2656 - val_acc: 0.8985 - val_recall: 0.4192 - val_precision: 0.9860 - val_iou: 0.3536 - lr: 1.0000e-04\n",
      "Epoch 12/400\n",
      "100/100 [==============================] - ETA: 0s - loss: 0.1173 - acc: 0.9567 - recall: 0.8358 - precision: 0.9194 - iou: 0.6020\n",
      "Epoch 12: val_acc did not improve from 0.91078\n",
      "100/100 [==============================] - 35s 349ms/step - loss: 0.1173 - acc: 0.9567 - recall: 0.8358 - precision: 0.9194 - iou: 0.6020 - val_loss: 0.2540 - val_acc: 0.8978 - val_recall: 0.4246 - val_precision: 0.9706 - val_iou: 0.3589 - lr: 1.0000e-04\n",
      "Epoch 13/400\n",
      "100/100 [==============================] - ETA: 0s - loss: 0.1135 - acc: 0.9572 - recall: 0.8378 - precision: 0.9210 - iou: 0.6121\n",
      "Epoch 13: val_acc improved from 0.91078 to 0.92106, saving model to files/model.h5\n",
      "100/100 [==============================] - 36s 357ms/step - loss: 0.1135 - acc: 0.9572 - recall: 0.8378 - precision: 0.9210 - iou: 0.6121 - val_loss: 0.1891 - val_acc: 0.9211 - val_recall: 0.8431 - val_precision: 0.7567 - val_iou: 0.5469 - lr: 1.0000e-04\n",
      "Epoch 14/400\n",
      "100/100 [==============================] - ETA: 0s - loss: 0.1006 - acc: 0.9616 - recall: 0.8593 - precision: 0.9294 - iou: 0.6436\n",
      "Epoch 14: val_acc improved from 0.92106 to 0.93815, saving model to files/model.h5\n",
      "100/100 [==============================] - 36s 357ms/step - loss: 0.1006 - acc: 0.9616 - recall: 0.8593 - precision: 0.9294 - iou: 0.6436 - val_loss: 0.1522 - val_acc: 0.9381 - val_recall: 0.7472 - val_precision: 0.9016 - val_iou: 0.5708 - lr: 1.0000e-04\n",
      "Epoch 15/400\n",
      "100/100 [==============================] - ETA: 0s - loss: 0.0925 - acc: 0.9644 - recall: 0.8703 - precision: 0.9374 - iou: 0.6663\n",
      "Epoch 15: val_acc did not improve from 0.93815\n",
      "100/100 [==============================] - 35s 349ms/step - loss: 0.0925 - acc: 0.9644 - recall: 0.8703 - precision: 0.9374 - iou: 0.6663 - val_loss: 0.2135 - val_acc: 0.9176 - val_recall: 0.5444 - val_precision: 0.9763 - val_iou: 0.4642 - lr: 1.0000e-04\n",
      "Epoch 16/400\n",
      "100/100 [==============================] - ETA: 0s - loss: 0.0868 - acc: 0.9658 - recall: 0.8767 - precision: 0.9404 - iou: 0.6843\n",
      "Epoch 16: val_acc improved from 0.93815 to 0.94059, saving model to files/model.h5\n",
      "100/100 [==============================] - 37s 368ms/step - loss: 0.0868 - acc: 0.9658 - recall: 0.8767 - precision: 0.9404 - iou: 0.6843 - val_loss: 0.1517 - val_acc: 0.9406 - val_recall: 0.7163 - val_precision: 0.9479 - val_iou: 0.5884 - lr: 1.0000e-04\n",
      "Epoch 17/400\n",
      "100/100 [==============================] - ETA: 0s - loss: 0.0799 - acc: 0.9677 - recall: 0.8872 - precision: 0.9442 - iou: 0.7033\n",
      "Epoch 17: val_acc improved from 0.94059 to 0.94458, saving model to files/model.h5\n",
      "100/100 [==============================] - 36s 356ms/step - loss: 0.0799 - acc: 0.9677 - recall: 0.8872 - precision: 0.9442 - iou: 0.7033 - val_loss: 0.1358 - val_acc: 0.9446 - val_recall: 0.7615 - val_precision: 0.9274 - val_iou: 0.6168 - lr: 1.0000e-04\n",
      "Epoch 18/400\n",
      "100/100 [==============================] - ETA: 0s - loss: 0.0761 - acc: 0.9685 - recall: 0.8888 - precision: 0.9473 - iou: 0.7148\n",
      "Epoch 18: val_acc did not improve from 0.94458\n",
      "100/100 [==============================] - 35s 350ms/step - loss: 0.0761 - acc: 0.9685 - recall: 0.8888 - precision: 0.9473 - iou: 0.7148 - val_loss: 0.1479 - val_acc: 0.9376 - val_recall: 0.7935 - val_precision: 0.8567 - val_iou: 0.6139 - lr: 1.0000e-04\n",
      "Epoch 19/400\n",
      "100/100 [==============================] - ETA: 0s - loss: 0.0732 - acc: 0.9688 - recall: 0.8907 - precision: 0.9475 - iou: 0.7250\n",
      "Epoch 19: val_acc improved from 0.94458 to 0.94713, saving model to files/model.h5\n",
      "100/100 [==============================] - 36s 357ms/step - loss: 0.0732 - acc: 0.9688 - recall: 0.8907 - precision: 0.9475 - iou: 0.7250 - val_loss: 0.1312 - val_acc: 0.9471 - val_recall: 0.7760 - val_precision: 0.9336 - val_iou: 0.6419 - lr: 1.0000e-04\n",
      "Epoch 20/400\n",
      "100/100 [==============================] - ETA: 0s - loss: 0.0631 - acc: 0.9728 - recall: 0.9060 - precision: 0.9591 - iou: 0.7538\n",
      "Epoch 20: val_acc did not improve from 0.94713\n",
      "100/100 [==============================] - 35s 350ms/step - loss: 0.0631 - acc: 0.9728 - recall: 0.9060 - precision: 0.9591 - iou: 0.7538 - val_loss: 0.1519 - val_acc: 0.9353 - val_recall: 0.8687 - val_precision: 0.8040 - val_iou: 0.6227 - lr: 1.0000e-04\n",
      "Epoch 21/400\n",
      "100/100 [==============================] - ETA: 0s - loss: 0.0595 - acc: 0.9737 - recall: 0.9137 - precision: 0.9577 - iou: 0.7678\n",
      "Epoch 21: val_acc did not improve from 0.94713\n",
      "100/100 [==============================] - 35s 350ms/step - loss: 0.0595 - acc: 0.9737 - recall: 0.9137 - precision: 0.9577 - iou: 0.7678 - val_loss: 0.1596 - val_acc: 0.9398 - val_recall: 0.7369 - val_precision: 0.9246 - val_iou: 0.6223 - lr: 1.0000e-04\n",
      "Epoch 22/400\n",
      "100/100 [==============================] - ETA: 0s - loss: 0.0543 - acc: 0.9752 - recall: 0.9164 - precision: 0.9651 - iou: 0.7826\n",
      "Epoch 22: val_acc did not improve from 0.94713\n",
      "100/100 [==============================] - 35s 350ms/step - loss: 0.0543 - acc: 0.9752 - recall: 0.9164 - precision: 0.9651 - iou: 0.7826 - val_loss: 0.1656 - val_acc: 0.9394 - val_recall: 0.6948 - val_precision: 0.9624 - val_iou: 0.6237 - lr: 1.0000e-04\n",
      "Epoch 23/400\n",
      "100/100 [==============================] - ETA: 0s - loss: 0.0486 - acc: 0.9768 - recall: 0.9258 - precision: 0.9667 - iou: 0.8012\n",
      "Epoch 23: val_acc did not improve from 0.94713\n",
      "100/100 [==============================] - 36s 362ms/step - loss: 0.0486 - acc: 0.9768 - recall: 0.9258 - precision: 0.9667 - iou: 0.8012 - val_loss: 0.1578 - val_acc: 0.9418 - val_recall: 0.7478 - val_precision: 0.9224 - val_iou: 0.6496 - lr: 1.0000e-04\n",
      "Epoch 24/400\n",
      "100/100 [==============================] - ETA: 0s - loss: 0.0476 - acc: 0.9768 - recall: 0.9249 - precision: 0.9676 - iou: 0.8047\n",
      "Epoch 24: val_acc did not improve from 0.94713\n",
      "100/100 [==============================] - 35s 350ms/step - loss: 0.0476 - acc: 0.9768 - recall: 0.9249 - precision: 0.9676 - iou: 0.8047 - val_loss: 0.1518 - val_acc: 0.9425 - val_recall: 0.8104 - val_precision: 0.8759 - val_iou: 0.6625 - lr: 1.0000e-04\n",
      "Epoch 25/400\n",
      "100/100 [==============================] - ETA: 0s - loss: 0.0435 - acc: 0.9780 - recall: 0.9287 - precision: 0.9716 - iou: 0.8187\n",
      "Epoch 25: val_acc did not improve from 0.94713\n",
      "100/100 [==============================] - 35s 350ms/step - loss: 0.0435 - acc: 0.9780 - recall: 0.9287 - precision: 0.9716 - iou: 0.8187 - val_loss: 0.1726 - val_acc: 0.9384 - val_recall: 0.7108 - val_precision: 0.9351 - val_iou: 0.6388 - lr: 1.0000e-04\n",
      "Epoch 26/400\n",
      "100/100 [==============================] - ETA: 0s - loss: 0.0410 - acc: 0.9785 - recall: 0.9315 - precision: 0.9725 - iou: 0.8291\n",
      "Epoch 26: val_acc did not improve from 0.94713\n",
      "100/100 [==============================] - 35s 351ms/step - loss: 0.0410 - acc: 0.9785 - recall: 0.9315 - precision: 0.9725 - iou: 0.8291 - val_loss: 0.1412 - val_acc: 0.9455 - val_recall: 0.7844 - val_precision: 0.9118 - val_iou: 0.6763 - lr: 1.0000e-04\n",
      "Epoch 27/400\n",
      "100/100 [==============================] - ETA: 0s - loss: 0.0384 - acc: 0.9792 - recall: 0.9339 - precision: 0.9747 - iou: 0.8378\n",
      "Epoch 27: val_acc did not improve from 0.94713\n",
      "100/100 [==============================] - 35s 350ms/step - loss: 0.0384 - acc: 0.9792 - recall: 0.9339 - precision: 0.9747 - iou: 0.8378 - val_loss: 0.1555 - val_acc: 0.9423 - val_recall: 0.7473 - val_precision: 0.9260 - val_iou: 0.6512 - lr: 1.0000e-04\n",
      "Epoch 28/400\n",
      "100/100 [==============================] - ETA: 0s - loss: 0.0341 - acc: 0.9806 - recall: 0.9399 - precision: 0.9781 - iou: 0.8533\n",
      "Epoch 28: val_acc did not improve from 0.94713\n",
      "100/100 [==============================] - 35s 350ms/step - loss: 0.0341 - acc: 0.9806 - recall: 0.9399 - precision: 0.9781 - iou: 0.8533 - val_loss: 0.1418 - val_acc: 0.9463 - val_recall: 0.7993 - val_precision: 0.9048 - val_iou: 0.6893 - lr: 1.0000e-04\n",
      "Epoch 29/400\n",
      "100/100 [==============================] - ETA: 0s - loss: 0.0305 - acc: 0.9816 - recall: 0.9432 - precision: 0.9811 - iou: 0.8650\n",
      "Epoch 29: val_acc did not improve from 0.94713\n",
      "100/100 [==============================] - 35s 350ms/step - loss: 0.0305 - acc: 0.9816 - recall: 0.9432 - precision: 0.9811 - iou: 0.8650 - val_loss: 0.1433 - val_acc: 0.9461 - val_recall: 0.7727 - val_precision: 0.9302 - val_iou: 0.6807 - lr: 1.0000e-04\n",
      "Epoch 30/400\n",
      "100/100 [==============================] - ETA: 0s - loss: 0.0279 - acc: 0.9823 - recall: 0.9459 - precision: 0.9835 - iou: 0.8751\n",
      "Epoch 30: val_acc improved from 0.94713 to 0.94736, saving model to files/model.h5\n",
      "100/100 [==============================] - 36s 358ms/step - loss: 0.0279 - acc: 0.9823 - recall: 0.9459 - precision: 0.9835 - iou: 0.8751 - val_loss: 0.1500 - val_acc: 0.9474 - val_recall: 0.7864 - val_precision: 0.9232 - val_iou: 0.6973 - lr: 1.0000e-04\n",
      "Epoch 31/400\n",
      "100/100 [==============================] - ETA: 0s - loss: 0.0266 - acc: 0.9825 - recall: 0.9463 - precision: 0.9840 - iou: 0.8807\n",
      "Epoch 31: val_acc improved from 0.94736 to 0.95012, saving model to files/model.h5\n",
      "100/100 [==============================] - 36s 361ms/step - loss: 0.0266 - acc: 0.9825 - recall: 0.9463 - precision: 0.9840 - iou: 0.8807 - val_loss: 0.1331 - val_acc: 0.9501 - val_recall: 0.8452 - val_precision: 0.8924 - val_iou: 0.7161 - lr: 1.0000e-04\n",
      "Epoch 32/400\n",
      "100/100 [==============================] - ETA: 0s - loss: 0.0258 - acc: 0.9826 - recall: 0.9467 - precision: 0.9847 - iou: 0.8849\n",
      "Epoch 32: val_acc did not improve from 0.95012\n",
      "100/100 [==============================] - 36s 365ms/step - loss: 0.0258 - acc: 0.9826 - recall: 0.9467 - precision: 0.9847 - iou: 0.8849 - val_loss: 0.1383 - val_acc: 0.9501 - val_recall: 0.8021 - val_precision: 0.9246 - val_iou: 0.7116 - lr: 1.0000e-04\n",
      "Epoch 33/400\n",
      "100/100 [==============================] - ETA: 0s - loss: 0.0239 - acc: 0.9831 - recall: 0.9481 - precision: 0.9861 - iou: 0.8922\n",
      "Epoch 33: val_acc did not improve from 0.95012\n",
      "100/100 [==============================] - 35s 354ms/step - loss: 0.0239 - acc: 0.9831 - recall: 0.9481 - precision: 0.9861 - iou: 0.8922 - val_loss: 0.1424 - val_acc: 0.9477 - val_recall: 0.7867 - val_precision: 0.9262 - val_iou: 0.7015 - lr: 1.0000e-04\n",
      "Epoch 34/400\n",
      "100/100 [==============================] - ETA: 0s - loss: 0.0219 - acc: 0.9836 - recall: 0.9504 - precision: 0.9874 - iou: 0.8995\n",
      "Epoch 34: val_acc did not improve from 0.95012\n",
      "\n",
      "Epoch 34: ReduceLROnPlateau reducing learning rate to 4.999999873689376e-05.\n",
      "100/100 [==============================] - 35s 354ms/step - loss: 0.0219 - acc: 0.9836 - recall: 0.9504 - precision: 0.9874 - iou: 0.8995 - val_loss: 0.1588 - val_acc: 0.9468 - val_recall: 0.7582 - val_precision: 0.9476 - val_iou: 0.6988 - lr: 1.0000e-04\n",
      "Epoch 35/400\n",
      "100/100 [==============================] - ETA: 0s - loss: 0.0211 - acc: 0.9837 - recall: 0.9505 - precision: 0.9881 - iou: 0.9034\n",
      "Epoch 35: val_acc improved from 0.95012 to 0.95227, saving model to files/model.h5\n",
      "100/100 [==============================] - 36s 360ms/step - loss: 0.0211 - acc: 0.9837 - recall: 0.9505 - precision: 0.9881 - iou: 0.9034 - val_loss: 0.1349 - val_acc: 0.9523 - val_recall: 0.8355 - val_precision: 0.9131 - val_iou: 0.7325 - lr: 5.0000e-05\n",
      "Epoch 36/400\n",
      "100/100 [==============================] - ETA: 0s - loss: 0.0207 - acc: 0.9839 - recall: 0.9511 - precision: 0.9890 - iou: 0.9058\n",
      "Epoch 36: val_acc did not improve from 0.95227\n",
      "100/100 [==============================] - 35s 354ms/step - loss: 0.0207 - acc: 0.9839 - recall: 0.9511 - precision: 0.9890 - iou: 0.9058 - val_loss: 0.1542 - val_acc: 0.9488 - val_recall: 0.8077 - val_precision: 0.9195 - val_iou: 0.7150 - lr: 5.0000e-05\n",
      "Epoch 37/400\n",
      "100/100 [==============================] - ETA: 0s - loss: 0.0192 - acc: 0.9842 - recall: 0.9524 - precision: 0.9901 - iou: 0.9107\n",
      "Epoch 37: val_acc did not improve from 0.95227\n",
      "100/100 [==============================] - 36s 364ms/step - loss: 0.0192 - acc: 0.9842 - recall: 0.9524 - precision: 0.9901 - iou: 0.9107 - val_loss: 0.1504 - val_acc: 0.9492 - val_recall: 0.8200 - val_precision: 0.9081 - val_iou: 0.7219 - lr: 5.0000e-05\n",
      "Epoch 38/400\n",
      "100/100 [==============================] - ETA: 0s - loss: 0.0179 - acc: 0.9846 - recall: 0.9539 - precision: 0.9910 - iou: 0.9154\n",
      "Epoch 38: val_acc did not improve from 0.95227\n",
      "100/100 [==============================] - 35s 354ms/step - loss: 0.0179 - acc: 0.9846 - recall: 0.9539 - precision: 0.9910 - iou: 0.9154 - val_loss: 0.1534 - val_acc: 0.9493 - val_recall: 0.8055 - val_precision: 0.9203 - val_iou: 0.7212 - lr: 5.0000e-05\n",
      "Epoch 39/400\n",
      "100/100 [==============================] - ETA: 0s - loss: 0.0170 - acc: 0.9848 - recall: 0.9547 - precision: 0.9918 - iou: 0.9191\n",
      "Epoch 39: val_acc did not improve from 0.95227\n",
      "100/100 [==============================] - 35s 354ms/step - loss: 0.0170 - acc: 0.9848 - recall: 0.9547 - precision: 0.9918 - iou: 0.9191 - val_loss: 0.1636 - val_acc: 0.9483 - val_recall: 0.8015 - val_precision: 0.9181 - val_iou: 0.7184 - lr: 5.0000e-05\n",
      "Epoch 40/400\n",
      "100/100 [==============================] - ETA: 0s - loss: 0.0162 - acc: 0.9850 - recall: 0.9552 - precision: 0.9925 - iou: 0.9225\n",
      "Epoch 40: val_acc did not improve from 0.95227\n",
      "100/100 [==============================] - 35s 354ms/step - loss: 0.0162 - acc: 0.9850 - recall: 0.9552 - precision: 0.9925 - iou: 0.9225 - val_loss: 0.1608 - val_acc: 0.9494 - val_recall: 0.8092 - val_precision: 0.9174 - val_iou: 0.7258 - lr: 5.0000e-05\n",
      "Epoch 41/400\n",
      "100/100 [==============================] - ETA: 0s - loss: 0.0156 - acc: 0.9851 - recall: 0.9558 - precision: 0.9927 - iou: 0.9251\n",
      "Epoch 41: val_acc did not improve from 0.95227\n",
      "100/100 [==============================] - 35s 354ms/step - loss: 0.0156 - acc: 0.9851 - recall: 0.9558 - precision: 0.9927 - iou: 0.9251 - val_loss: 0.1765 - val_acc: 0.9474 - val_recall: 0.7926 - val_precision: 0.9184 - val_iou: 0.7173 - lr: 5.0000e-05\n",
      "Epoch 42/400\n",
      "100/100 [==============================] - ETA: 0s - loss: 0.0151 - acc: 0.9852 - recall: 0.9558 - precision: 0.9931 - iou: 0.9272\n",
      "Epoch 42: val_acc did not improve from 0.95227\n",
      "100/100 [==============================] - 35s 354ms/step - loss: 0.0151 - acc: 0.9852 - recall: 0.9558 - precision: 0.9931 - iou: 0.9272 - val_loss: 0.1641 - val_acc: 0.9500 - val_recall: 0.8269 - val_precision: 0.9067 - val_iou: 0.7336 - lr: 5.0000e-05\n",
      "Epoch 43/400\n",
      "100/100 [==============================] - ETA: 0s - loss: 0.0148 - acc: 0.9852 - recall: 0.9560 - precision: 0.9931 - iou: 0.9289\n",
      "Epoch 43: val_acc did not improve from 0.95227\n",
      "100/100 [==============================] - 35s 354ms/step - loss: 0.0148 - acc: 0.9852 - recall: 0.9560 - precision: 0.9931 - iou: 0.9289 - val_loss: 0.1809 - val_acc: 0.9472 - val_recall: 0.7998 - val_precision: 0.9114 - val_iou: 0.7212 - lr: 5.0000e-05\n",
      "Epoch 44/400\n",
      "100/100 [==============================] - ETA: 0s - loss: 0.0144 - acc: 0.9853 - recall: 0.9564 - precision: 0.9934 - iou: 0.9311\n",
      "Epoch 44: val_acc did not improve from 0.95227\n",
      "100/100 [==============================] - 35s 354ms/step - loss: 0.0144 - acc: 0.9853 - recall: 0.9564 - precision: 0.9934 - iou: 0.9311 - val_loss: 0.1720 - val_acc: 0.9491 - val_recall: 0.8011 - val_precision: 0.9222 - val_iou: 0.7289 - lr: 5.0000e-05\n",
      "Epoch 45/400\n",
      "100/100 [==============================] - ETA: 0s - loss: 0.0140 - acc: 0.9854 - recall: 0.9565 - precision: 0.9936 - iou: 0.9328\n",
      "Epoch 45: val_acc did not improve from 0.95227\n",
      "100/100 [==============================] - 35s 354ms/step - loss: 0.0140 - acc: 0.9854 - recall: 0.9565 - precision: 0.9936 - iou: 0.9328 - val_loss: 0.1802 - val_acc: 0.9475 - val_recall: 0.8059 - val_precision: 0.9090 - val_iou: 0.7263 - lr: 5.0000e-05\n",
      "Epoch 46/400\n",
      "100/100 [==============================] - ETA: 0s - loss: 0.0139 - acc: 0.9854 - recall: 0.9564 - precision: 0.9936 - iou: 0.9340\n",
      "Epoch 46: val_acc did not improve from 0.95227\n",
      "100/100 [==============================] - 36s 362ms/step - loss: 0.0139 - acc: 0.9854 - recall: 0.9564 - precision: 0.9936 - iou: 0.9340 - val_loss: 0.1803 - val_acc: 0.9485 - val_recall: 0.8077 - val_precision: 0.9101 - val_iou: 0.7284 - lr: 5.0000e-05\n",
      "Epoch 47/400\n",
      "100/100 [==============================] - ETA: 0s - loss: 0.0135 - acc: 0.9854 - recall: 0.9570 - precision: 0.9937 - iou: 0.9359\n",
      "Epoch 47: val_acc did not improve from 0.95227\n",
      "100/100 [==============================] - 35s 354ms/step - loss: 0.0135 - acc: 0.9854 - recall: 0.9570 - precision: 0.9937 - iou: 0.9359 - val_loss: 0.1706 - val_acc: 0.9500 - val_recall: 0.8283 - val_precision: 0.9033 - val_iou: 0.7392 - lr: 5.0000e-05\n",
      "Epoch 48/400\n",
      "100/100 [==============================] - ETA: 0s - loss: 0.0132 - acc: 0.9855 - recall: 0.9565 - precision: 0.9941 - iou: 0.9373\n",
      "Epoch 48: val_acc did not improve from 0.95227\n",
      "100/100 [==============================] - 35s 354ms/step - loss: 0.0132 - acc: 0.9855 - recall: 0.9565 - precision: 0.9941 - iou: 0.9373 - val_loss: 0.1843 - val_acc: 0.9473 - val_recall: 0.8156 - val_precision: 0.8996 - val_iou: 0.7284 - lr: 5.0000e-05\n",
      "Epoch 49/400\n",
      "100/100 [==============================] - ETA: 0s - loss: 0.0131 - acc: 0.9855 - recall: 0.9566 - precision: 0.9939 - iou: 0.9382\n",
      "Epoch 49: val_acc did not improve from 0.95227\n",
      "\n",
      "Epoch 49: ReduceLROnPlateau reducing learning rate to 2.499999936844688e-05.\n",
      "100/100 [==============================] - 35s 355ms/step - loss: 0.0131 - acc: 0.9855 - recall: 0.9566 - precision: 0.9939 - iou: 0.9382 - val_loss: 0.1762 - val_acc: 0.9490 - val_recall: 0.8159 - val_precision: 0.9078 - val_iou: 0.7357 - lr: 5.0000e-05\n",
      "Epoch 50/400\n",
      "100/100 [==============================] - ETA: 0s - loss: 0.0125 - acc: 0.9856 - recall: 0.9576 - precision: 0.9942 - iou: 0.9403\n",
      "Epoch 50: val_acc did not improve from 0.95227\n",
      "100/100 [==============================] - 35s 355ms/step - loss: 0.0125 - acc: 0.9856 - recall: 0.9576 - precision: 0.9942 - iou: 0.9403 - val_loss: 0.1873 - val_acc: 0.9479 - val_recall: 0.8156 - val_precision: 0.9008 - val_iou: 0.7315 - lr: 2.5000e-05\n",
      "Epoch 51/400\n",
      "100/100 [==============================] - ETA: 0s - loss: 0.0114 - acc: 0.9859 - recall: 0.9580 - precision: 0.9955 - iou: 0.9438\n",
      "Epoch 51: val_acc did not improve from 0.95227\n",
      "100/100 [==============================] - 35s 355ms/step - loss: 0.0114 - acc: 0.9859 - recall: 0.9580 - precision: 0.9955 - iou: 0.9438 - val_loss: 0.1909 - val_acc: 0.9473 - val_recall: 0.8025 - val_precision: 0.9076 - val_iou: 0.7279 - lr: 2.5000e-05\n",
      "Epoch 52/400\n",
      "100/100 [==============================] - ETA: 0s - loss: 0.0109 - acc: 0.9860 - recall: 0.9585 - precision: 0.9959 - iou: 0.9460\n",
      "Epoch 52: val_acc did not improve from 0.95227\n",
      "100/100 [==============================] - 36s 365ms/step - loss: 0.0109 - acc: 0.9860 - recall: 0.9585 - precision: 0.9959 - iou: 0.9460 - val_loss: 0.1948 - val_acc: 0.9473 - val_recall: 0.8041 - val_precision: 0.9068 - val_iou: 0.7284 - lr: 2.5000e-05\n",
      "Epoch 53/400\n",
      "100/100 [==============================] - ETA: 0s - loss: 0.0106 - acc: 0.9861 - recall: 0.9588 - precision: 0.9962 - iou: 0.9477\n",
      "Epoch 53: val_acc did not improve from 0.95227\n",
      "100/100 [==============================] - 35s 354ms/step - loss: 0.0106 - acc: 0.9861 - recall: 0.9588 - precision: 0.9962 - iou: 0.9477 - val_loss: 0.1974 - val_acc: 0.9476 - val_recall: 0.8083 - val_precision: 0.9057 - val_iou: 0.7309 - lr: 2.5000e-05\n",
      "Epoch 54/400\n",
      "100/100 [==============================] - ETA: 0s - loss: 0.0103 - acc: 0.9861 - recall: 0.9590 - precision: 0.9964 - iou: 0.9491\n",
      "Epoch 54: val_acc did not improve from 0.95227\n",
      "100/100 [==============================] - 35s 354ms/step - loss: 0.0103 - acc: 0.9861 - recall: 0.9590 - precision: 0.9964 - iou: 0.9491 - val_loss: 0.2013 - val_acc: 0.9473 - val_recall: 0.8156 - val_precision: 0.8981 - val_iou: 0.7315 - lr: 2.5000e-05\n",
      "Epoch 55/400\n",
      "100/100 [==============================] - ETA: 0s - loss: 0.0100 - acc: 0.9862 - recall: 0.9590 - precision: 0.9966 - iou: 0.9503\n",
      "Epoch 55: val_acc did not improve from 0.95227\n",
      "100/100 [==============================] - 35s 354ms/step - loss: 0.0100 - acc: 0.9862 - recall: 0.9590 - precision: 0.9966 - iou: 0.9503 - val_loss: 0.2010 - val_acc: 0.9479 - val_recall: 0.8226 - val_precision: 0.8966 - val_iou: 0.7357 - lr: 2.5000e-05\n",
      "Epoch 56/400\n",
      "100/100 [==============================] - ETA: 0s - loss: 0.0098 - acc: 0.9862 - recall: 0.9591 - precision: 0.9966 - iou: 0.9513\n",
      "Epoch 56: val_acc did not improve from 0.95227\n",
      "100/100 [==============================] - 35s 354ms/step - loss: 0.0098 - acc: 0.9862 - recall: 0.9591 - precision: 0.9966 - iou: 0.9513 - val_loss: 0.2030 - val_acc: 0.9477 - val_recall: 0.8257 - val_precision: 0.8939 - val_iou: 0.7357 - lr: 2.5000e-05\n",
      "Epoch 57/400\n",
      "100/100 [==============================] - ETA: 0s - loss: 0.0097 - acc: 0.9862 - recall: 0.9591 - precision: 0.9966 - iou: 0.9520\n",
      "Epoch 57: val_acc did not improve from 0.95227\n",
      "100/100 [==============================] - 35s 354ms/step - loss: 0.0097 - acc: 0.9862 - recall: 0.9591 - precision: 0.9966 - iou: 0.9520 - val_loss: 0.2089 - val_acc: 0.9475 - val_recall: 0.8266 - val_precision: 0.8913 - val_iou: 0.7356 - lr: 2.5000e-05\n",
      "Epoch 58/400\n",
      "100/100 [==============================] - ETA: 0s - loss: 0.0099 - acc: 0.9861 - recall: 0.9589 - precision: 0.9963 - iou: 0.9520\n",
      "Epoch 58: val_acc did not improve from 0.95227\n",
      "100/100 [==============================] - 35s 354ms/step - loss: 0.0099 - acc: 0.9861 - recall: 0.9589 - precision: 0.9963 - iou: 0.9520 - val_loss: 0.2045 - val_acc: 0.9475 - val_recall: 0.8092 - val_precision: 0.9042 - val_iou: 0.7329 - lr: 2.5000e-05\n",
      "Epoch 59/400\n",
      "100/100 [==============================] - ETA: 0s - loss: 0.0103 - acc: 0.9860 - recall: 0.9587 - precision: 0.9959 - iou: 0.9512\n",
      "Epoch 59: val_acc did not improve from 0.95227\n",
      "100/100 [==============================] - 37s 365ms/step - loss: 0.0103 - acc: 0.9860 - recall: 0.9587 - precision: 0.9959 - iou: 0.9512 - val_loss: 0.2071 - val_acc: 0.9478 - val_recall: 0.8418 - val_precision: 0.8825 - val_iou: 0.7390 - lr: 2.5000e-05\n",
      "Epoch 60/400\n",
      "100/100 [==============================] - ETA: 0s - loss: 0.0103 - acc: 0.9860 - recall: 0.9582 - precision: 0.9959 - iou: 0.9511\n",
      "Epoch 60: val_acc did not improve from 0.95227\n",
      "100/100 [==============================] - 35s 354ms/step - loss: 0.0103 - acc: 0.9860 - recall: 0.9582 - precision: 0.9959 - iou: 0.9511 - val_loss: 0.1991 - val_acc: 0.9480 - val_recall: 0.8311 - val_precision: 0.8926 - val_iou: 0.7380 - lr: 2.5000e-05\n",
      "Epoch 61/400\n",
      "100/100 [==============================] - ETA: 0s - loss: 0.0103 - acc: 0.9860 - recall: 0.9585 - precision: 0.9957 - iou: 0.9514\n",
      "Epoch 61: val_acc did not improve from 0.95227\n",
      "100/100 [==============================] - 35s 354ms/step - loss: 0.0103 - acc: 0.9860 - recall: 0.9585 - precision: 0.9957 - iou: 0.9514 - val_loss: 0.1984 - val_acc: 0.9479 - val_recall: 0.8304 - val_precision: 0.8919 - val_iou: 0.7382 - lr: 2.5000e-05\n",
      "Epoch 62/400\n",
      "100/100 [==============================] - ETA: 0s - loss: 0.0104 - acc: 0.9859 - recall: 0.9583 - precision: 0.9956 - iou: 0.9514\n",
      "Epoch 62: val_acc did not improve from 0.95227\n",
      "100/100 [==============================] - 36s 365ms/step - loss: 0.0104 - acc: 0.9859 - recall: 0.9583 - precision: 0.9956 - iou: 0.9514 - val_loss: 0.1976 - val_acc: 0.9482 - val_recall: 0.8231 - val_precision: 0.8987 - val_iou: 0.7386 - lr: 2.5000e-05\n",
      "Epoch 63/400\n",
      "100/100 [==============================] - ETA: 0s - loss: 0.0098 - acc: 0.9861 - recall: 0.9588 - precision: 0.9961 - iou: 0.9530\n",
      "Epoch 63: val_acc did not improve from 0.95227\n",
      "100/100 [==============================] - 35s 353ms/step - loss: 0.0098 - acc: 0.9861 - recall: 0.9588 - precision: 0.9961 - iou: 0.9530 - val_loss: 0.2065 - val_acc: 0.9474 - val_recall: 0.7998 - val_precision: 0.9104 - val_iou: 0.7322 - lr: 2.5000e-05\n",
      "Epoch 64/400\n",
      "100/100 [==============================] - ETA: 0s - loss: 0.0096 - acc: 0.9861 - recall: 0.9591 - precision: 0.9962 - iou: 0.9541\n",
      "Epoch 64: val_acc did not improve from 0.95227\n",
      "\n",
      "Epoch 64: ReduceLROnPlateau reducing learning rate to 1.249999968422344e-05.\n",
      "100/100 [==============================] - 35s 353ms/step - loss: 0.0096 - acc: 0.9861 - recall: 0.9591 - precision: 0.9962 - iou: 0.9541 - val_loss: 0.2086 - val_acc: 0.9473 - val_recall: 0.7907 - val_precision: 0.9183 - val_iou: 0.7295 - lr: 2.5000e-05\n",
      "Epoch 65/400\n",
      "100/100 [==============================] - ETA: 0s - loss: 0.0103 - acc: 0.9859 - recall: 0.9582 - precision: 0.9955 - iou: 0.9529\n",
      "Epoch 65: val_acc did not improve from 0.95227\n",
      "100/100 [==============================] - 36s 364ms/step - loss: 0.0103 - acc: 0.9859 - recall: 0.9582 - precision: 0.9955 - iou: 0.9529 - val_loss: 0.2077 - val_acc: 0.9473 - val_recall: 0.8051 - val_precision: 0.9039 - val_iou: 0.7328 - lr: 1.2500e-05\n",
      "Epoch 66/400\n",
      "100/100 [==============================] - ETA: 0s - loss: 0.0098 - acc: 0.9860 - recall: 0.9588 - precision: 0.9959 - iou: 0.9538\n",
      "Epoch 66: val_acc did not improve from 0.95227\n",
      "100/100 [==============================] - 35s 353ms/step - loss: 0.0098 - acc: 0.9860 - recall: 0.9588 - precision: 0.9959 - iou: 0.9538 - val_loss: 0.2080 - val_acc: 0.9475 - val_recall: 0.8009 - val_precision: 0.9080 - val_iou: 0.7325 - lr: 1.2500e-05\n",
      "Epoch 67/400\n",
      "100/100 [==============================] - ETA: 0s - loss: 0.0093 - acc: 0.9861 - recall: 0.9590 - precision: 0.9964 - iou: 0.9552\n",
      "Epoch 67: val_acc did not improve from 0.95227\n",
      "100/100 [==============================] - 35s 353ms/step - loss: 0.0093 - acc: 0.9861 - recall: 0.9590 - precision: 0.9964 - iou: 0.9552 - val_loss: 0.2054 - val_acc: 0.9480 - val_recall: 0.8135 - val_precision: 0.9000 - val_iou: 0.7373 - lr: 1.2500e-05\n",
      "Epoch 68/400\n",
      "100/100 [==============================] - ETA: 0s - loss: 0.0089 - acc: 0.9863 - recall: 0.9594 - precision: 0.9968 - iou: 0.9566\n",
      "Epoch 68: val_acc did not improve from 0.95227\n",
      "100/100 [==============================] - 35s 353ms/step - loss: 0.0089 - acc: 0.9863 - recall: 0.9594 - precision: 0.9968 - iou: 0.9566 - val_loss: 0.2065 - val_acc: 0.9481 - val_recall: 0.8150 - val_precision: 0.8993 - val_iou: 0.7380 - lr: 1.2500e-05\n",
      "Epoch 69/400\n",
      "100/100 [==============================] - ETA: 0s - loss: 0.0086 - acc: 0.9863 - recall: 0.9597 - precision: 0.9971 - iou: 0.9579\n",
      "Epoch 69: val_acc did not improve from 0.95227\n",
      "100/100 [==============================] - 35s 354ms/step - loss: 0.0086 - acc: 0.9863 - recall: 0.9597 - precision: 0.9971 - iou: 0.9579 - val_loss: 0.2096 - val_acc: 0.9480 - val_recall: 0.8116 - val_precision: 0.9014 - val_iou: 0.7371 - lr: 1.2500e-05\n",
      "Epoch 70/400\n",
      "100/100 [==============================] - ETA: 0s - loss: 0.0083 - acc: 0.9864 - recall: 0.9598 - precision: 0.9973 - iou: 0.9590\n",
      "Epoch 70: val_acc did not improve from 0.95227\n",
      "100/100 [==============================] - 35s 353ms/step - loss: 0.0083 - acc: 0.9864 - recall: 0.9598 - precision: 0.9973 - iou: 0.9590 - val_loss: 0.2137 - val_acc: 0.9478 - val_recall: 0.8080 - val_precision: 0.9029 - val_iou: 0.7358 - lr: 1.2500e-05\n",
      "Epoch 71/400\n",
      "100/100 [==============================] - ETA: 0s - loss: 0.0081 - acc: 0.9864 - recall: 0.9600 - precision: 0.9975 - iou: 0.9600\n",
      "Epoch 71: val_acc did not improve from 0.95227\n",
      "100/100 [==============================] - 35s 353ms/step - loss: 0.0081 - acc: 0.9864 - recall: 0.9600 - precision: 0.9975 - iou: 0.9600 - val_loss: 0.2171 - val_acc: 0.9476 - val_recall: 0.8058 - val_precision: 0.9035 - val_iou: 0.7351 - lr: 1.2500e-05\n",
      "Epoch 72/400\n",
      "100/100 [==============================] - ETA: 0s - loss: 0.0079 - acc: 0.9865 - recall: 0.9601 - precision: 0.9976 - iou: 0.9609\n",
      "Epoch 72: val_acc did not improve from 0.95227\n",
      "100/100 [==============================] - 35s 353ms/step - loss: 0.0079 - acc: 0.9865 - recall: 0.9601 - precision: 0.9976 - iou: 0.9609 - val_loss: 0.2206 - val_acc: 0.9474 - val_recall: 0.8038 - val_precision: 0.9039 - val_iou: 0.7343 - lr: 1.2500e-05\n",
      "Epoch 73/400\n",
      "100/100 [==============================] - ETA: 0s - loss: 0.0077 - acc: 0.9865 - recall: 0.9602 - precision: 0.9978 - iou: 0.9617\n",
      "Epoch 73: val_acc did not improve from 0.95227\n",
      "100/100 [==============================] - 35s 353ms/step - loss: 0.0077 - acc: 0.9865 - recall: 0.9602 - precision: 0.9978 - iou: 0.9617 - val_loss: 0.2225 - val_acc: 0.9474 - val_recall: 0.8042 - val_precision: 0.9034 - val_iou: 0.7347 - lr: 1.2500e-05\n",
      "Epoch 74/400\n",
      "100/100 [==============================] - ETA: 0s - loss: 0.0076 - acc: 0.9865 - recall: 0.9602 - precision: 0.9979 - iou: 0.9625\n",
      "Epoch 74: val_acc did not improve from 0.95227\n",
      "100/100 [==============================] - 35s 353ms/step - loss: 0.0076 - acc: 0.9865 - recall: 0.9602 - precision: 0.9979 - iou: 0.9625 - val_loss: 0.2258 - val_acc: 0.9473 - val_recall: 0.8027 - val_precision: 0.9036 - val_iou: 0.7341 - lr: 1.2500e-05\n",
      "Epoch 75/400\n",
      "100/100 [==============================] - ETA: 0s - loss: 0.0074 - acc: 0.9866 - recall: 0.9603 - precision: 0.9980 - iou: 0.9632\n",
      "Epoch 75: val_acc did not improve from 0.95227\n",
      "100/100 [==============================] - 36s 364ms/step - loss: 0.0074 - acc: 0.9866 - recall: 0.9603 - precision: 0.9980 - iou: 0.9632 - val_loss: 0.2264 - val_acc: 0.9474 - val_recall: 0.8046 - val_precision: 0.9029 - val_iou: 0.7352 - lr: 1.2500e-05\n",
      "Epoch 76/400\n",
      "100/100 [==============================] - ETA: 0s - loss: 0.0073 - acc: 0.9866 - recall: 0.9604 - precision: 0.9981 - iou: 0.9639\n",
      "Epoch 76: val_acc did not improve from 0.95227\n",
      "100/100 [==============================] - 35s 352ms/step - loss: 0.0073 - acc: 0.9866 - recall: 0.9604 - precision: 0.9981 - iou: 0.9639 - val_loss: 0.2305 - val_acc: 0.9471 - val_recall: 0.8012 - val_precision: 0.9042 - val_iou: 0.7337 - lr: 1.2500e-05\n",
      "Epoch 77/400\n",
      "100/100 [==============================] - ETA: 0s - loss: 0.0071 - acc: 0.9866 - recall: 0.9604 - precision: 0.9982 - iou: 0.9645\n",
      "Epoch 77: val_acc did not improve from 0.95227\n",
      "100/100 [==============================] - 36s 363ms/step - loss: 0.0071 - acc: 0.9866 - recall: 0.9604 - precision: 0.9982 - iou: 0.9645 - val_loss: 0.2292 - val_acc: 0.9475 - val_recall: 0.8069 - val_precision: 0.9017 - val_iou: 0.7364 - lr: 1.2500e-05\n",
      "Epoch 78/400\n",
      "100/100 [==============================] - ETA: 0s - loss: 0.0070 - acc: 0.9866 - recall: 0.9605 - precision: 0.9982 - iou: 0.9651\n",
      "Epoch 78: val_acc did not improve from 0.95227\n",
      "100/100 [==============================] - 35s 352ms/step - loss: 0.0070 - acc: 0.9866 - recall: 0.9605 - precision: 0.9982 - iou: 0.9651 - val_loss: 0.2331 - val_acc: 0.9473 - val_recall: 0.8034 - val_precision: 0.9034 - val_iou: 0.7351 - lr: 1.2500e-05\n",
      "Epoch 79/400\n",
      "100/100 [==============================] - ETA: 0s - loss: 0.0070 - acc: 0.9866 - recall: 0.9604 - precision: 0.9982 - iou: 0.9654\n",
      "Epoch 79: val_acc did not improve from 0.95227\n",
      "\n",
      "Epoch 79: ReduceLROnPlateau reducing learning rate to 6.24999984211172e-06.\n",
      "100/100 [==============================] - 35s 354ms/step - loss: 0.0070 - acc: 0.9866 - recall: 0.9604 - precision: 0.9982 - iou: 0.9654 - val_loss: 0.2314 - val_acc: 0.9477 - val_recall: 0.8116 - val_precision: 0.8993 - val_iou: 0.7386 - lr: 1.2500e-05\n",
      "Epoch 80/400\n",
      "100/100 [==============================] - ETA: 0s - loss: 0.0073 - acc: 0.9865 - recall: 0.9603 - precision: 0.9979 - iou: 0.9650\n",
      "Epoch 80: val_acc did not improve from 0.95227\n",
      "100/100 [==============================] - 35s 352ms/step - loss: 0.0073 - acc: 0.9865 - recall: 0.9603 - precision: 0.9979 - iou: 0.9650 - val_loss: 0.2307 - val_acc: 0.9480 - val_recall: 0.8163 - val_precision: 0.8975 - val_iou: 0.7406 - lr: 6.2500e-06\n",
      "Epoch 81/400\n",
      "100/100 [==============================] - ETA: 0s - loss: 0.0072 - acc: 0.9866 - recall: 0.9603 - precision: 0.9980 - iou: 0.9653\n",
      "Epoch 81: val_acc did not improve from 0.95227\n",
      "100/100 [==============================] - 35s 352ms/step - loss: 0.0072 - acc: 0.9866 - recall: 0.9603 - precision: 0.9980 - iou: 0.9653 - val_loss: 0.2304 - val_acc: 0.9482 - val_recall: 0.8184 - val_precision: 0.8970 - val_iou: 0.7416 - lr: 6.2500e-06\n",
      "Epoch 82/400\n",
      "100/100 [==============================] - ETA: 0s - loss: 0.0072 - acc: 0.9866 - recall: 0.9603 - precision: 0.9980 - iou: 0.9653\n",
      "Epoch 82: val_acc did not improve from 0.95227\n",
      "100/100 [==============================] - 35s 353ms/step - loss: 0.0072 - acc: 0.9866 - recall: 0.9603 - precision: 0.9980 - iou: 0.9653 - val_loss: 0.2310 - val_acc: 0.9481 - val_recall: 0.8207 - val_precision: 0.8946 - val_iou: 0.7416 - lr: 6.2500e-06\n",
      "Epoch 83/400\n",
      "100/100 [==============================] - ETA: 0s - loss: 0.0072 - acc: 0.9865 - recall: 0.9602 - precision: 0.9979 - iou: 0.9652\n",
      "Epoch 83: val_acc did not improve from 0.95227\n",
      "100/100 [==============================] - 35s 354ms/step - loss: 0.0072 - acc: 0.9865 - recall: 0.9602 - precision: 0.9979 - iou: 0.9652 - val_loss: 0.2322 - val_acc: 0.9479 - val_recall: 0.8196 - val_precision: 0.8943 - val_iou: 0.7408 - lr: 6.2500e-06\n",
      "Epoch 84/400\n",
      "100/100 [==============================] - ETA: 0s - loss: 0.0073 - acc: 0.9865 - recall: 0.9602 - precision: 0.9979 - iou: 0.9652\n",
      "Epoch 84: val_acc did not improve from 0.95227\n",
      "100/100 [==============================] - 35s 353ms/step - loss: 0.0073 - acc: 0.9865 - recall: 0.9602 - precision: 0.9979 - iou: 0.9652 - val_loss: 0.2325 - val_acc: 0.9478 - val_recall: 0.8200 - val_precision: 0.8940 - val_iou: 0.7405 - lr: 6.2500e-06\n",
      "Epoch 85/400\n",
      "100/100 [==============================] - ETA: 0s - loss: 0.0073 - acc: 0.9865 - recall: 0.9601 - precision: 0.9978 - iou: 0.9652\n",
      "Epoch 85: val_acc did not improve from 0.95227\n",
      "100/100 [==============================] - 35s 353ms/step - loss: 0.0073 - acc: 0.9865 - recall: 0.9601 - precision: 0.9978 - iou: 0.9652 - val_loss: 0.2331 - val_acc: 0.9477 - val_recall: 0.8191 - val_precision: 0.8944 - val_iou: 0.7399 - lr: 6.2500e-06\n",
      "Epoch 86/400\n",
      "100/100 [==============================] - ETA: 0s - loss: 0.0072 - acc: 0.9865 - recall: 0.9601 - precision: 0.9979 - iou: 0.9654\n",
      "Epoch 86: val_acc did not improve from 0.95227\n",
      "100/100 [==============================] - 35s 353ms/step - loss: 0.0072 - acc: 0.9865 - recall: 0.9601 - precision: 0.9979 - iou: 0.9654 - val_loss: 0.2326 - val_acc: 0.9477 - val_recall: 0.8185 - val_precision: 0.8958 - val_iou: 0.7401 - lr: 6.2500e-06\n",
      "Epoch 87/400\n",
      "100/100 [==============================] - ETA: 0s - loss: 0.0071 - acc: 0.9866 - recall: 0.9603 - precision: 0.9980 - iou: 0.9659\n",
      "Epoch 87: val_acc did not improve from 0.95227\n",
      "100/100 [==============================] - 35s 353ms/step - loss: 0.0071 - acc: 0.9866 - recall: 0.9603 - precision: 0.9980 - iou: 0.9659 - val_loss: 0.2312 - val_acc: 0.9480 - val_recall: 0.8184 - val_precision: 0.8978 - val_iou: 0.7414 - lr: 6.2500e-06\n",
      "Epoch 88/400\n",
      "100/100 [==============================] - ETA: 0s - loss: 0.0069 - acc: 0.9866 - recall: 0.9604 - precision: 0.9981 - iou: 0.9665\n",
      "Epoch 88: val_acc did not improve from 0.95227\n",
      "100/100 [==============================] - 35s 353ms/step - loss: 0.0069 - acc: 0.9866 - recall: 0.9604 - precision: 0.9981 - iou: 0.9665 - val_loss: 0.2304 - val_acc: 0.9483 - val_recall: 0.8207 - val_precision: 0.8974 - val_iou: 0.7429 - lr: 6.2500e-06\n",
      "Epoch 89/400\n",
      "100/100 [==============================] - ETA: 0s - loss: 0.0067 - acc: 0.9866 - recall: 0.9605 - precision: 0.9983 - iou: 0.9670\n",
      "Epoch 89: val_acc did not improve from 0.95227\n",
      "100/100 [==============================] - 35s 353ms/step - loss: 0.0067 - acc: 0.9866 - recall: 0.9605 - precision: 0.9983 - iou: 0.9670 - val_loss: 0.2313 - val_acc: 0.9483 - val_recall: 0.8225 - val_precision: 0.8958 - val_iou: 0.7434 - lr: 6.2500e-06\n",
      "Epoch 90/400\n",
      "100/100 [==============================] - ETA: 0s - loss: 0.0066 - acc: 0.9867 - recall: 0.9606 - precision: 0.9983 - iou: 0.9675\n",
      "Epoch 90: val_acc did not improve from 0.95227\n",
      "100/100 [==============================] - 35s 353ms/step - loss: 0.0066 - acc: 0.9867 - recall: 0.9606 - precision: 0.9983 - iou: 0.9675 - val_loss: 0.2327 - val_acc: 0.9482 - val_recall: 0.8238 - val_precision: 0.8941 - val_iou: 0.7435 - lr: 6.2500e-06\n",
      "Epoch 91/400\n",
      "100/100 [==============================] - ETA: 0s - loss: 0.0065 - acc: 0.9867 - recall: 0.9607 - precision: 0.9984 - iou: 0.9679\n",
      "Epoch 91: val_acc did not improve from 0.95227\n",
      "100/100 [==============================] - 36s 364ms/step - loss: 0.0065 - acc: 0.9867 - recall: 0.9607 - precision: 0.9984 - iou: 0.9679 - val_loss: 0.2340 - val_acc: 0.9482 - val_recall: 0.8251 - val_precision: 0.8925 - val_iou: 0.7437 - lr: 6.2500e-06\n",
      "Epoch 92/400\n",
      "100/100 [==============================] - ETA: 0s - loss: 0.0064 - acc: 0.9867 - recall: 0.9607 - precision: 0.9984 - iou: 0.9683\n",
      "Epoch 92: val_acc did not improve from 0.95227\n",
      "100/100 [==============================] - 35s 353ms/step - loss: 0.0064 - acc: 0.9867 - recall: 0.9607 - precision: 0.9984 - iou: 0.9683 - val_loss: 0.2357 - val_acc: 0.9481 - val_recall: 0.8258 - val_precision: 0.8913 - val_iou: 0.7435 - lr: 6.2500e-06\n",
      "Epoch 93/400\n",
      "100/100 [==============================] - ETA: 0s - loss: 0.0064 - acc: 0.9867 - recall: 0.9608 - precision: 0.9985 - iou: 0.9686\n",
      "Epoch 93: val_acc did not improve from 0.95227\n",
      "100/100 [==============================] - 35s 353ms/step - loss: 0.0064 - acc: 0.9867 - recall: 0.9608 - precision: 0.9985 - iou: 0.9686 - val_loss: 0.2370 - val_acc: 0.9481 - val_recall: 0.8283 - val_precision: 0.8892 - val_iou: 0.7441 - lr: 6.2500e-06\n",
      "Epoch 94/400\n",
      "100/100 [==============================] - ETA: 0s - loss: 0.0063 - acc: 0.9867 - recall: 0.9608 - precision: 0.9985 - iou: 0.9689\n",
      "Epoch 94: val_acc did not improve from 0.95227\n",
      "\n",
      "Epoch 94: ReduceLROnPlateau reducing learning rate to 3.12499992105586e-06.\n",
      "100/100 [==============================] - 36s 364ms/step - loss: 0.0063 - acc: 0.9867 - recall: 0.9608 - precision: 0.9985 - iou: 0.9689 - val_loss: 0.2389 - val_acc: 0.9480 - val_recall: 0.8313 - val_precision: 0.8864 - val_iou: 0.7443 - lr: 6.2500e-06\n",
      "Epoch 95/400\n",
      "100/100 [==============================] - ETA: 0s - loss: 0.0067 - acc: 0.9866 - recall: 0.9604 - precision: 0.9981 - iou: 0.9680\n",
      "Epoch 95: val_acc did not improve from 0.95227\n",
      "100/100 [==============================] - 35s 352ms/step - loss: 0.0067 - acc: 0.9866 - recall: 0.9604 - precision: 0.9981 - iou: 0.9680 - val_loss: 0.2429 - val_acc: 0.9476 - val_recall: 0.8538 - val_precision: 0.8707 - val_iou: 0.7471 - lr: 3.1250e-06\n",
      "Epoch 96/400\n",
      "100/100 [==============================] - ETA: 0s - loss: 0.0067 - acc: 0.9866 - recall: 0.9601 - precision: 0.9981 - iou: 0.9679\n",
      "Epoch 96: val_acc did not improve from 0.95227\n",
      "100/100 [==============================] - 35s 352ms/step - loss: 0.0067 - acc: 0.9866 - recall: 0.9601 - precision: 0.9981 - iou: 0.9679 - val_loss: 0.2420 - val_acc: 0.9476 - val_recall: 0.8532 - val_precision: 0.8717 - val_iou: 0.7472 - lr: 3.1250e-06\n",
      "Epoch 97/400\n",
      "100/100 [==============================] - ETA: 0s - loss: 0.0067 - acc: 0.9866 - recall: 0.9602 - precision: 0.9982 - iou: 0.9680\n",
      "Epoch 97: val_acc did not improve from 0.95227\n",
      "100/100 [==============================] - 35s 353ms/step - loss: 0.0067 - acc: 0.9866 - recall: 0.9602 - precision: 0.9982 - iou: 0.9680 - val_loss: 0.2394 - val_acc: 0.9478 - val_recall: 0.8457 - val_precision: 0.8785 - val_iou: 0.7470 - lr: 3.1250e-06\n",
      "Epoch 98/400\n",
      "100/100 [==============================] - ETA: 0s - loss: 0.0066 - acc: 0.9866 - recall: 0.9603 - precision: 0.9982 - iou: 0.9683\n",
      "Epoch 98: val_acc did not improve from 0.95227\n",
      "100/100 [==============================] - 35s 353ms/step - loss: 0.0066 - acc: 0.9866 - recall: 0.9603 - precision: 0.9982 - iou: 0.9683 - val_loss: 0.2388 - val_acc: 0.9479 - val_recall: 0.8398 - val_precision: 0.8832 - val_iou: 0.7466 - lr: 3.1250e-06\n",
      "Epoch 99/400\n",
      "100/100 [==============================] - ETA: 0s - loss: 0.0065 - acc: 0.9867 - recall: 0.9605 - precision: 0.9983 - iou: 0.9687\n",
      "Epoch 99: val_acc did not improve from 0.95227\n",
      "100/100 [==============================] - 35s 353ms/step - loss: 0.0065 - acc: 0.9867 - recall: 0.9605 - precision: 0.9983 - iou: 0.9687 - val_loss: 0.2388 - val_acc: 0.9480 - val_recall: 0.8354 - val_precision: 0.8867 - val_iou: 0.7463 - lr: 3.1250e-06\n",
      "Epoch 100/400\n",
      "100/100 [==============================] - ETA: 0s - loss: 0.0063 - acc: 0.9867 - recall: 0.9607 - precision: 0.9985 - iou: 0.9691\n",
      "Epoch 100: val_acc did not improve from 0.95227\n",
      "100/100 [==============================] - 35s 353ms/step - loss: 0.0063 - acc: 0.9867 - recall: 0.9607 - precision: 0.9985 - iou: 0.9691 - val_loss: 0.2391 - val_acc: 0.9480 - val_recall: 0.8325 - val_precision: 0.8888 - val_iou: 0.7461 - lr: 3.1250e-06\n",
      "Epoch 101/400\n",
      "100/100 [==============================] - ETA: 0s - loss: 0.0062 - acc: 0.9867 - recall: 0.9608 - precision: 0.9986 - iou: 0.9696\n",
      "Epoch 101: val_acc did not improve from 0.95227\n",
      "100/100 [==============================] - 35s 353ms/step - loss: 0.0062 - acc: 0.9867 - recall: 0.9608 - precision: 0.9986 - iou: 0.9696 - val_loss: 0.2394 - val_acc: 0.9480 - val_recall: 0.8308 - val_precision: 0.8900 - val_iou: 0.7460 - lr: 3.1250e-06\n",
      "Epoch 102/400\n",
      "100/100 [==============================] - ETA: 0s - loss: 0.0061 - acc: 0.9867 - recall: 0.9609 - precision: 0.9987 - iou: 0.9700\n",
      "Epoch 102: val_acc did not improve from 0.95227\n",
      "100/100 [==============================] - 35s 353ms/step - loss: 0.0061 - acc: 0.9867 - recall: 0.9609 - precision: 0.9987 - iou: 0.9700 - val_loss: 0.2400 - val_acc: 0.9480 - val_recall: 0.8300 - val_precision: 0.8906 - val_iou: 0.7459 - lr: 3.1250e-06\n",
      "Epoch 103/400\n",
      "100/100 [==============================] - ETA: 0s - loss: 0.0060 - acc: 0.9868 - recall: 0.9609 - precision: 0.9987 - iou: 0.9703\n",
      "Epoch 103: val_acc did not improve from 0.95227\n",
      "100/100 [==============================] - 35s 352ms/step - loss: 0.0060 - acc: 0.9868 - recall: 0.9609 - precision: 0.9987 - iou: 0.9703 - val_loss: 0.2407 - val_acc: 0.9480 - val_recall: 0.8292 - val_precision: 0.8910 - val_iou: 0.7458 - lr: 3.1250e-06\n",
      "Epoch 104/400\n",
      "100/100 [==============================] - ETA: 0s - loss: 0.0059 - acc: 0.9868 - recall: 0.9610 - precision: 0.9988 - iou: 0.9706\n",
      "Epoch 104: val_acc did not improve from 0.95227\n",
      "100/100 [==============================] - 35s 352ms/step - loss: 0.0059 - acc: 0.9868 - recall: 0.9610 - precision: 0.9988 - iou: 0.9706 - val_loss: 0.2415 - val_acc: 0.9480 - val_recall: 0.8287 - val_precision: 0.8913 - val_iou: 0.7457 - lr: 3.1250e-06\n",
      "Epoch 105/400\n",
      "100/100 [==============================] - ETA: 0s - loss: 0.0058 - acc: 0.9868 - recall: 0.9610 - precision: 0.9989 - iou: 0.9709\n",
      "Epoch 105: val_acc did not improve from 0.95227\n",
      "100/100 [==============================] - 35s 352ms/step - loss: 0.0058 - acc: 0.9868 - recall: 0.9610 - precision: 0.9989 - iou: 0.9709 - val_loss: 0.2423 - val_acc: 0.9479 - val_recall: 0.8282 - val_precision: 0.8915 - val_iou: 0.7455 - lr: 3.1250e-06\n",
      "Epoch 106/400\n",
      "100/100 [==============================] - ETA: 0s - loss: 0.0058 - acc: 0.9868 - recall: 0.9610 - precision: 0.9989 - iou: 0.9712\n",
      "Epoch 106: val_acc did not improve from 0.95227\n",
      "100/100 [==============================] - 35s 352ms/step - loss: 0.0058 - acc: 0.9868 - recall: 0.9610 - precision: 0.9989 - iou: 0.9712 - val_loss: 0.2432 - val_acc: 0.9479 - val_recall: 0.8278 - val_precision: 0.8915 - val_iou: 0.7453 - lr: 3.1250e-06\n",
      "Epoch 107/400\n",
      "100/100 [==============================] - ETA: 0s - loss: 0.0057 - acc: 0.9868 - recall: 0.9611 - precision: 0.9989 - iou: 0.9714\n",
      "Epoch 107: val_acc did not improve from 0.95227\n",
      "100/100 [==============================] - 35s 352ms/step - loss: 0.0057 - acc: 0.9868 - recall: 0.9611 - precision: 0.9989 - iou: 0.9714 - val_loss: 0.2441 - val_acc: 0.9479 - val_recall: 0.8273 - val_precision: 0.8917 - val_iou: 0.7452 - lr: 3.1250e-06\n",
      "Epoch 108/400\n",
      "100/100 [==============================] - ETA: 0s - loss: 0.0057 - acc: 0.9868 - recall: 0.9611 - precision: 0.9990 - iou: 0.9716\n",
      "Epoch 108: val_acc did not improve from 0.95227\n",
      "100/100 [==============================] - 35s 353ms/step - loss: 0.0057 - acc: 0.9868 - recall: 0.9611 - precision: 0.9990 - iou: 0.9716 - val_loss: 0.2449 - val_acc: 0.9479 - val_recall: 0.8269 - val_precision: 0.8919 - val_iou: 0.7450 - lr: 3.1250e-06\n",
      "Epoch 109/400\n",
      "100/100 [==============================] - ETA: 0s - loss: 0.0057 - acc: 0.9868 - recall: 0.9611 - precision: 0.9990 - iou: 0.9718\n",
      "Epoch 109: val_acc did not improve from 0.95227\n",
      "\n",
      "Epoch 109: ReduceLROnPlateau reducing learning rate to 1.56249996052793e-06.\n",
      "100/100 [==============================] - 36s 364ms/step - loss: 0.0057 - acc: 0.9868 - recall: 0.9611 - precision: 0.9990 - iou: 0.9718 - val_loss: 0.2458 - val_acc: 0.9478 - val_recall: 0.8265 - val_precision: 0.8920 - val_iou: 0.7449 - lr: 3.1250e-06\n",
      "Epoch 110/400\n",
      "100/100 [==============================] - ETA: 0s - loss: 0.0057 - acc: 0.9868 - recall: 0.9610 - precision: 0.9990 - iou: 0.9719\n",
      "Epoch 110: val_acc did not improve from 0.95227\n",
      "100/100 [==============================] - 35s 353ms/step - loss: 0.0057 - acc: 0.9868 - recall: 0.9610 - precision: 0.9990 - iou: 0.9719 - val_loss: 0.2474 - val_acc: 0.9477 - val_recall: 0.8232 - val_precision: 0.8940 - val_iou: 0.7436 - lr: 1.5625e-06\n",
      "Epoch 111/400\n",
      "100/100 [==============================] - ETA: 0s - loss: 0.0056 - acc: 0.9868 - recall: 0.9611 - precision: 0.9990 - iou: 0.9720\n",
      "Epoch 111: val_acc did not improve from 0.95227\n",
      "100/100 [==============================] - 35s 353ms/step - loss: 0.0056 - acc: 0.9868 - recall: 0.9611 - precision: 0.9990 - iou: 0.9720 - val_loss: 0.2482 - val_acc: 0.9476 - val_recall: 0.8217 - val_precision: 0.8949 - val_iou: 0.7432 - lr: 1.5625e-06\n",
      "Epoch 112/400\n",
      "100/100 [==============================] - ETA: 0s - loss: 0.0056 - acc: 0.9868 - recall: 0.9611 - precision: 0.9990 - iou: 0.9721\n",
      "Epoch 112: val_acc did not improve from 0.95227\n",
      "100/100 [==============================] - 35s 353ms/step - loss: 0.0056 - acc: 0.9868 - recall: 0.9611 - precision: 0.9990 - iou: 0.9721 - val_loss: 0.2488 - val_acc: 0.9476 - val_recall: 0.8207 - val_precision: 0.8955 - val_iou: 0.7429 - lr: 1.5625e-06\n",
      "Epoch 113/400\n",
      "100/100 [==============================] - ETA: 0s - loss: 0.0056 - acc: 0.9868 - recall: 0.9611 - precision: 0.9990 - iou: 0.9722\n",
      "Epoch 113: val_acc did not improve from 0.95227\n",
      "100/100 [==============================] - 36s 364ms/step - loss: 0.0056 - acc: 0.9868 - recall: 0.9611 - precision: 0.9990 - iou: 0.9722 - val_loss: 0.2494 - val_acc: 0.9476 - val_recall: 0.8198 - val_precision: 0.8960 - val_iou: 0.7426 - lr: 1.5625e-06\n",
      "Epoch 114/400\n",
      "100/100 [==============================] - ETA: 0s - loss: 0.0056 - acc: 0.9868 - recall: 0.9611 - precision: 0.9990 - iou: 0.9723\n",
      "Epoch 114: val_acc did not improve from 0.95227\n",
      "100/100 [==============================] - 35s 352ms/step - loss: 0.0056 - acc: 0.9868 - recall: 0.9611 - precision: 0.9990 - iou: 0.9723 - val_loss: 0.2500 - val_acc: 0.9475 - val_recall: 0.8190 - val_precision: 0.8964 - val_iou: 0.7424 - lr: 1.5625e-06\n",
      "Epoch 115/400\n",
      "100/100 [==============================] - ETA: 0s - loss: 0.0056 - acc: 0.9868 - recall: 0.9611 - precision: 0.9990 - iou: 0.9724\n",
      "Epoch 115: val_acc did not improve from 0.95227\n",
      "100/100 [==============================] - 35s 352ms/step - loss: 0.0056 - acc: 0.9868 - recall: 0.9611 - precision: 0.9990 - iou: 0.9724 - val_loss: 0.2506 - val_acc: 0.9475 - val_recall: 0.8184 - val_precision: 0.8968 - val_iou: 0.7422 - lr: 1.5625e-06\n",
      "Epoch 116/400\n",
      "100/100 [==============================] - ETA: 0s - loss: 0.0055 - acc: 0.9868 - recall: 0.9611 - precision: 0.9990 - iou: 0.9725\n",
      "Epoch 116: val_acc did not improve from 0.95227\n",
      "100/100 [==============================] - 35s 352ms/step - loss: 0.0055 - acc: 0.9868 - recall: 0.9611 - precision: 0.9990 - iou: 0.9725 - val_loss: 0.2511 - val_acc: 0.9475 - val_recall: 0.8178 - val_precision: 0.8971 - val_iou: 0.7420 - lr: 1.5625e-06\n",
      "Epoch 117/400\n",
      "100/100 [==============================] - ETA: 0s - loss: 0.0055 - acc: 0.9868 - recall: 0.9611 - precision: 0.9991 - iou: 0.9726\n",
      "Epoch 117: val_acc did not improve from 0.95227\n",
      "100/100 [==============================] - 35s 353ms/step - loss: 0.0055 - acc: 0.9868 - recall: 0.9611 - precision: 0.9991 - iou: 0.9726 - val_loss: 0.2516 - val_acc: 0.9475 - val_recall: 0.8173 - val_precision: 0.8974 - val_iou: 0.7419 - lr: 1.5625e-06\n",
      "Epoch 118/400\n",
      "100/100 [==============================] - ETA: 0s - loss: 0.0055 - acc: 0.9868 - recall: 0.9612 - precision: 0.9991 - iou: 0.9727\n",
      "Epoch 118: val_acc did not improve from 0.95227\n",
      "100/100 [==============================] - 36s 364ms/step - loss: 0.0055 - acc: 0.9868 - recall: 0.9612 - precision: 0.9991 - iou: 0.9727 - val_loss: 0.2521 - val_acc: 0.9474 - val_recall: 0.8169 - val_precision: 0.8976 - val_iou: 0.7418 - lr: 1.5625e-06\n",
      "Epoch 119/400\n",
      "100/100 [==============================] - ETA: 0s - loss: 0.0055 - acc: 0.9868 - recall: 0.9612 - precision: 0.9991 - iou: 0.9728\n",
      "Epoch 119: val_acc did not improve from 0.95227\n",
      "100/100 [==============================] - 35s 352ms/step - loss: 0.0055 - acc: 0.9868 - recall: 0.9612 - precision: 0.9991 - iou: 0.9728 - val_loss: 0.2526 - val_acc: 0.9474 - val_recall: 0.8165 - val_precision: 0.8979 - val_iou: 0.7417 - lr: 1.5625e-06\n",
      "Epoch 120/400\n",
      "100/100 [==============================] - ETA: 0s - loss: 0.0055 - acc: 0.9869 - recall: 0.9612 - precision: 0.9991 - iou: 0.9729\n",
      "Epoch 120: val_acc did not improve from 0.95227\n",
      "100/100 [==============================] - 35s 353ms/step - loss: 0.0055 - acc: 0.9869 - recall: 0.9612 - precision: 0.9991 - iou: 0.9729 - val_loss: 0.2531 - val_acc: 0.9474 - val_recall: 0.8162 - val_precision: 0.8981 - val_iou: 0.7416 - lr: 1.5625e-06\n",
      "Epoch 121/400\n",
      "100/100 [==============================] - ETA: 0s - loss: 0.0054 - acc: 0.9869 - recall: 0.9612 - precision: 0.9991 - iou: 0.9730\n",
      "Epoch 121: val_acc did not improve from 0.95227\n",
      "100/100 [==============================] - 35s 353ms/step - loss: 0.0054 - acc: 0.9869 - recall: 0.9612 - precision: 0.9991 - iou: 0.9730 - val_loss: 0.2536 - val_acc: 0.9474 - val_recall: 0.8159 - val_precision: 0.8982 - val_iou: 0.7415 - lr: 1.5625e-06\n",
      "Epoch 122/400\n",
      "100/100 [==============================] - ETA: 0s - loss: 0.0054 - acc: 0.9869 - recall: 0.9612 - precision: 0.9991 - iou: 0.9731\n",
      "Epoch 122: val_acc did not improve from 0.95227\n",
      "100/100 [==============================] - 35s 353ms/step - loss: 0.0054 - acc: 0.9869 - recall: 0.9612 - precision: 0.9991 - iou: 0.9731 - val_loss: 0.2541 - val_acc: 0.9474 - val_recall: 0.8156 - val_precision: 0.8983 - val_iou: 0.7414 - lr: 1.5625e-06\n",
      "Epoch 123/400\n",
      "100/100 [==============================] - ETA: 0s - loss: 0.0054 - acc: 0.9869 - recall: 0.9612 - precision: 0.9991 - iou: 0.9732\n",
      "Epoch 123: val_acc did not improve from 0.95227\n",
      "100/100 [==============================] - 35s 353ms/step - loss: 0.0054 - acc: 0.9869 - recall: 0.9612 - precision: 0.9991 - iou: 0.9732 - val_loss: 0.2546 - val_acc: 0.9474 - val_recall: 0.8153 - val_precision: 0.8984 - val_iou: 0.7413 - lr: 1.5625e-06\n",
      "Epoch 124/400\n",
      "100/100 [==============================] - ETA: 0s - loss: 0.0054 - acc: 0.9869 - recall: 0.9612 - precision: 0.9991 - iou: 0.9733\n",
      "Epoch 124: val_acc did not improve from 0.95227\n",
      "\n",
      "Epoch 124: ReduceLROnPlateau reducing learning rate to 7.81249980263965e-07.\n",
      "100/100 [==============================] - 35s 353ms/step - loss: 0.0054 - acc: 0.9869 - recall: 0.9612 - precision: 0.9991 - iou: 0.9733 - val_loss: 0.2550 - val_acc: 0.9474 - val_recall: 0.8151 - val_precision: 0.8985 - val_iou: 0.7413 - lr: 1.5625e-06\n",
      "Epoch 125/400\n",
      "100/100 [==============================] - ETA: 0s - loss: 0.0054 - acc: 0.9869 - recall: 0.9611 - precision: 0.9991 - iou: 0.9733\n",
      "Epoch 125: val_acc did not improve from 0.95227\n",
      "100/100 [==============================] - 35s 352ms/step - loss: 0.0054 - acc: 0.9869 - recall: 0.9611 - precision: 0.9991 - iou: 0.9733 - val_loss: 0.2565 - val_acc: 0.9472 - val_recall: 0.8114 - val_precision: 0.9006 - val_iou: 0.7399 - lr: 7.8125e-07\n",
      "Epoch 126/400\n",
      "100/100 [==============================] - ETA: 0s - loss: 0.0054 - acc: 0.9869 - recall: 0.9612 - precision: 0.9991 - iou: 0.9733\n",
      "Epoch 126: val_acc did not improve from 0.95227\n",
      "100/100 [==============================] - 35s 352ms/step - loss: 0.0054 - acc: 0.9869 - recall: 0.9612 - precision: 0.9991 - iou: 0.9733 - val_loss: 0.2569 - val_acc: 0.9471 - val_recall: 0.8103 - val_precision: 0.9012 - val_iou: 0.7396 - lr: 7.8125e-07\n",
      "Epoch 127/400\n",
      "100/100 [==============================] - ETA: 0s - loss: 0.0054 - acc: 0.9869 - recall: 0.9612 - precision: 0.9991 - iou: 0.9734\n",
      "Epoch 127: val_acc did not improve from 0.95227\n",
      "100/100 [==============================] - 35s 352ms/step - loss: 0.0054 - acc: 0.9869 - recall: 0.9612 - precision: 0.9991 - iou: 0.9734 - val_loss: 0.2573 - val_acc: 0.9471 - val_recall: 0.8096 - val_precision: 0.9015 - val_iou: 0.7394 - lr: 7.8125e-07\n",
      "Epoch 128/400\n",
      "100/100 [==============================] - ETA: 0s - loss: 0.0054 - acc: 0.9869 - recall: 0.9612 - precision: 0.9991 - iou: 0.9734\n",
      "Epoch 128: val_acc did not improve from 0.95227\n",
      "100/100 [==============================] - 35s 353ms/step - loss: 0.0054 - acc: 0.9869 - recall: 0.9612 - precision: 0.9991 - iou: 0.9734 - val_loss: 0.2576 - val_acc: 0.9471 - val_recall: 0.8092 - val_precision: 0.9018 - val_iou: 0.7392 - lr: 7.8125e-07\n",
      "Epoch 129/400\n",
      "100/100 [==============================] - ETA: 0s - loss: 0.0053 - acc: 0.9869 - recall: 0.9612 - precision: 0.9991 - iou: 0.9735\n",
      "Epoch 129: val_acc did not improve from 0.95227\n",
      "100/100 [==============================] - 35s 353ms/step - loss: 0.0053 - acc: 0.9869 - recall: 0.9612 - precision: 0.9991 - iou: 0.9735 - val_loss: 0.2578 - val_acc: 0.9471 - val_recall: 0.8088 - val_precision: 0.9019 - val_iou: 0.7391 - lr: 7.8125e-07\n",
      "Epoch 130/400\n",
      "100/100 [==============================] - ETA: 0s - loss: 0.0053 - acc: 0.9869 - recall: 0.9612 - precision: 0.9991 - iou: 0.9735\n",
      "Epoch 130: val_acc did not improve from 0.95227\n",
      "100/100 [==============================] - 36s 364ms/step - loss: 0.0053 - acc: 0.9869 - recall: 0.9612 - precision: 0.9991 - iou: 0.9735 - val_loss: 0.2581 - val_acc: 0.9471 - val_recall: 0.8086 - val_precision: 0.9021 - val_iou: 0.7391 - lr: 7.8125e-07\n",
      "Epoch 131/400\n",
      "100/100 [==============================] - ETA: 0s - loss: 0.0053 - acc: 0.9869 - recall: 0.9612 - precision: 0.9991 - iou: 0.9736\n",
      "Epoch 131: val_acc did not improve from 0.95227\n",
      "100/100 [==============================] - 35s 352ms/step - loss: 0.0053 - acc: 0.9869 - recall: 0.9612 - precision: 0.9991 - iou: 0.9736 - val_loss: 0.2583 - val_acc: 0.9470 - val_recall: 0.8084 - val_precision: 0.9022 - val_iou: 0.7390 - lr: 7.8125e-07\n",
      "Epoch 132/400\n",
      "100/100 [==============================] - ETA: 0s - loss: 0.0053 - acc: 0.9869 - recall: 0.9612 - precision: 0.9992 - iou: 0.9736\n",
      "Epoch 132: val_acc did not improve from 0.95227\n",
      "100/100 [==============================] - 35s 354ms/step - loss: 0.0053 - acc: 0.9869 - recall: 0.9612 - precision: 0.9992 - iou: 0.9736 - val_loss: 0.2585 - val_acc: 0.9470 - val_recall: 0.8083 - val_precision: 0.9022 - val_iou: 0.7390 - lr: 7.8125e-07\n",
      "Epoch 133/400\n",
      "100/100 [==============================] - ETA: 0s - loss: 0.0053 - acc: 0.9869 - recall: 0.9612 - precision: 0.9992 - iou: 0.9737\n",
      "Epoch 133: val_acc did not improve from 0.95227\n",
      "100/100 [==============================] - 35s 354ms/step - loss: 0.0053 - acc: 0.9869 - recall: 0.9612 - precision: 0.9992 - iou: 0.9737 - val_loss: 0.2587 - val_acc: 0.9470 - val_recall: 0.8083 - val_precision: 0.9022 - val_iou: 0.7390 - lr: 7.8125e-07\n",
      "Epoch 134/400\n",
      "100/100 [==============================] - ETA: 0s - loss: 0.0053 - acc: 0.9869 - recall: 0.9612 - precision: 0.9992 - iou: 0.9737\n",
      "Epoch 134: val_acc did not improve from 0.95227\n",
      "100/100 [==============================] - 35s 353ms/step - loss: 0.0053 - acc: 0.9869 - recall: 0.9612 - precision: 0.9992 - iou: 0.9737 - val_loss: 0.2589 - val_acc: 0.9470 - val_recall: 0.8083 - val_precision: 0.9022 - val_iou: 0.7390 - lr: 7.8125e-07\n",
      "Epoch 135/400\n",
      "100/100 [==============================] - ETA: 0s - loss: 0.0053 - acc: 0.9869 - recall: 0.9612 - precision: 0.9992 - iou: 0.9738\n",
      "Epoch 135: val_acc did not improve from 0.95227\n",
      "100/100 [==============================] - 35s 354ms/step - loss: 0.0053 - acc: 0.9869 - recall: 0.9612 - precision: 0.9992 - iou: 0.9738 - val_loss: 0.2591 - val_acc: 0.9470 - val_recall: 0.8083 - val_precision: 0.9022 - val_iou: 0.7390 - lr: 7.8125e-07\n",
      "Epoch 136/400\n",
      "100/100 [==============================] - ETA: 0s - loss: 0.0053 - acc: 0.9869 - recall: 0.9612 - precision: 0.9992 - iou: 0.9738\n",
      "Epoch 136: val_acc did not improve from 0.95227\n",
      "100/100 [==============================] - 35s 354ms/step - loss: 0.0053 - acc: 0.9869 - recall: 0.9612 - precision: 0.9992 - iou: 0.9738 - val_loss: 0.2593 - val_acc: 0.9470 - val_recall: 0.8084 - val_precision: 0.9021 - val_iou: 0.7391 - lr: 7.8125e-07\n",
      "Epoch 137/400\n",
      "100/100 [==============================] - ETA: 0s - loss: 0.0053 - acc: 0.9869 - recall: 0.9612 - precision: 0.9992 - iou: 0.9739\n",
      "Epoch 137: val_acc did not improve from 0.95227\n",
      "100/100 [==============================] - 35s 354ms/step - loss: 0.0053 - acc: 0.9869 - recall: 0.9612 - precision: 0.9992 - iou: 0.9739 - val_loss: 0.2595 - val_acc: 0.9470 - val_recall: 0.8085 - val_precision: 0.9021 - val_iou: 0.7391 - lr: 7.8125e-07\n",
      "Epoch 138/400\n",
      "100/100 [==============================] - ETA: 0s - loss: 0.0052 - acc: 0.9869 - recall: 0.9612 - precision: 0.9992 - iou: 0.9740\n",
      "Epoch 138: val_acc did not improve from 0.95227\n",
      "100/100 [==============================] - 36s 361ms/step - loss: 0.0052 - acc: 0.9869 - recall: 0.9612 - precision: 0.9992 - iou: 0.9740 - val_loss: 0.2596 - val_acc: 0.9470 - val_recall: 0.8086 - val_precision: 0.9020 - val_iou: 0.7391 - lr: 7.8125e-07\n",
      "Epoch 139/400\n",
      "100/100 [==============================] - ETA: 0s - loss: 0.0052 - acc: 0.9869 - recall: 0.9612 - precision: 0.9992 - iou: 0.9740\n",
      "Epoch 139: val_acc did not improve from 0.95227\n",
      "\n",
      "Epoch 139: ReduceLROnPlateau reducing learning rate to 3.906249901319825e-07.\n",
      "100/100 [==============================] - 35s 355ms/step - loss: 0.0052 - acc: 0.9869 - recall: 0.9612 - precision: 0.9992 - iou: 0.9740 - val_loss: 0.2598 - val_acc: 0.9471 - val_recall: 0.8087 - val_precision: 0.9020 - val_iou: 0.7392 - lr: 7.8125e-07\n",
      "Epoch 140/400\n",
      "100/100 [==============================] - ETA: 0s - loss: 0.0053 - acc: 0.9869 - recall: 0.9612 - precision: 0.9992 - iou: 0.9740\n",
      "Epoch 140: val_acc did not improve from 0.95227\n",
      "100/100 [==============================] - 35s 355ms/step - loss: 0.0053 - acc: 0.9869 - recall: 0.9612 - precision: 0.9992 - iou: 0.9740 - val_loss: 0.2600 - val_acc: 0.9470 - val_recall: 0.8084 - val_precision: 0.9020 - val_iou: 0.7391 - lr: 3.9062e-07\n",
      "Epoch 141/400\n",
      "100/100 [==============================] - ETA: 0s - loss: 0.0053 - acc: 0.9869 - recall: 0.9612 - precision: 0.9992 - iou: 0.9740\n",
      "Epoch 141: val_acc did not improve from 0.95227\n",
      "100/100 [==============================] - 35s 354ms/step - loss: 0.0053 - acc: 0.9869 - recall: 0.9612 - precision: 0.9992 - iou: 0.9740 - val_loss: 0.2600 - val_acc: 0.9471 - val_recall: 0.8092 - val_precision: 0.9016 - val_iou: 0.7393 - lr: 3.9062e-07\n",
      "Epoch 142/400\n",
      "100/100 [==============================] - ETA: 0s - loss: 0.0053 - acc: 0.9869 - recall: 0.9612 - precision: 0.9992 - iou: 0.9740\n",
      "Epoch 142: val_acc did not improve from 0.95227\n",
      "100/100 [==============================] - 35s 354ms/step - loss: 0.0053 - acc: 0.9869 - recall: 0.9612 - precision: 0.9992 - iou: 0.9740 - val_loss: 0.2599 - val_acc: 0.9471 - val_recall: 0.8098 - val_precision: 0.9012 - val_iou: 0.7396 - lr: 3.9062e-07\n",
      "Epoch 143/400\n",
      "100/100 [==============================] - ETA: 0s - loss: 0.0052 - acc: 0.9869 - recall: 0.9612 - precision: 0.9992 - iou: 0.9740\n",
      "Epoch 143: val_acc did not improve from 0.95227\n",
      "100/100 [==============================] - 35s 354ms/step - loss: 0.0052 - acc: 0.9869 - recall: 0.9612 - precision: 0.9992 - iou: 0.9740 - val_loss: 0.2598 - val_acc: 0.9471 - val_recall: 0.8103 - val_precision: 0.9009 - val_iou: 0.7398 - lr: 3.9062e-07\n",
      "Epoch 144/400\n",
      "100/100 [==============================] - ETA: 0s - loss: 0.0052 - acc: 0.9869 - recall: 0.9612 - precision: 0.9992 - iou: 0.9740\n",
      "Epoch 144: val_acc did not improve from 0.95227\n",
      "100/100 [==============================] - 35s 354ms/step - loss: 0.0052 - acc: 0.9869 - recall: 0.9612 - precision: 0.9992 - iou: 0.9740 - val_loss: 0.2598 - val_acc: 0.9472 - val_recall: 0.8108 - val_precision: 0.9006 - val_iou: 0.7399 - lr: 3.9062e-07\n",
      "Epoch 145/400\n",
      "100/100 [==============================] - ETA: 0s - loss: 0.0052 - acc: 0.9869 - recall: 0.9612 - precision: 0.9992 - iou: 0.9741\n",
      "Epoch 145: val_acc did not improve from 0.95227\n",
      "100/100 [==============================] - 35s 354ms/step - loss: 0.0052 - acc: 0.9869 - recall: 0.9612 - precision: 0.9992 - iou: 0.9741 - val_loss: 0.2597 - val_acc: 0.9472 - val_recall: 0.8112 - val_precision: 0.9004 - val_iou: 0.7401 - lr: 3.9062e-07\n",
      "Epoch 146/400\n",
      "100/100 [==============================] - ETA: 0s - loss: 0.0052 - acc: 0.9869 - recall: 0.9612 - precision: 0.9992 - iou: 0.9741\n",
      "Epoch 146: val_acc did not improve from 0.95227\n",
      "100/100 [==============================] - 35s 354ms/step - loss: 0.0052 - acc: 0.9869 - recall: 0.9612 - precision: 0.9992 - iou: 0.9741 - val_loss: 0.2597 - val_acc: 0.9472 - val_recall: 0.8115 - val_precision: 0.9002 - val_iou: 0.7402 - lr: 3.9062e-07\n",
      "Epoch 147/400\n",
      "100/100 [==============================] - ETA: 0s - loss: 0.0052 - acc: 0.9869 - recall: 0.9612 - precision: 0.9992 - iou: 0.9741\n",
      "Epoch 147: val_acc did not improve from 0.95227\n",
      "100/100 [==============================] - 35s 354ms/step - loss: 0.0052 - acc: 0.9869 - recall: 0.9612 - precision: 0.9992 - iou: 0.9741 - val_loss: 0.2598 - val_acc: 0.9472 - val_recall: 0.8118 - val_precision: 0.9000 - val_iou: 0.7403 - lr: 3.9062e-07\n",
      "Epoch 148/400\n",
      "100/100 [==============================] - ETA: 0s - loss: 0.0052 - acc: 0.9869 - recall: 0.9612 - precision: 0.9992 - iou: 0.9742\n",
      "Epoch 148: val_acc did not improve from 0.95227\n",
      "100/100 [==============================] - 35s 354ms/step - loss: 0.0052 - acc: 0.9869 - recall: 0.9612 - precision: 0.9992 - iou: 0.9742 - val_loss: 0.2598 - val_acc: 0.9472 - val_recall: 0.8121 - val_precision: 0.8999 - val_iou: 0.7404 - lr: 3.9062e-07\n",
      "Epoch 149/400\n",
      "100/100 [==============================] - ETA: 0s - loss: 0.0052 - acc: 0.9869 - recall: 0.9613 - precision: 0.9992 - iou: 0.9742\n",
      "Epoch 149: val_acc did not improve from 0.95227\n",
      "100/100 [==============================] - 35s 354ms/step - loss: 0.0052 - acc: 0.9869 - recall: 0.9613 - precision: 0.9992 - iou: 0.9742 - val_loss: 0.2599 - val_acc: 0.9472 - val_recall: 0.8122 - val_precision: 0.8998 - val_iou: 0.7404 - lr: 3.9062e-07\n",
      "Epoch 150/400\n",
      "100/100 [==============================] - ETA: 0s - loss: 0.0052 - acc: 0.9869 - recall: 0.9613 - precision: 0.9992 - iou: 0.9742\n",
      "Epoch 150: val_acc did not improve from 0.95227\n",
      "100/100 [==============================] - 35s 354ms/step - loss: 0.0052 - acc: 0.9869 - recall: 0.9613 - precision: 0.9992 - iou: 0.9742 - val_loss: 0.2599 - val_acc: 0.9472 - val_recall: 0.8124 - val_precision: 0.8997 - val_iou: 0.7405 - lr: 3.9062e-07\n",
      "Epoch 151/400\n",
      "100/100 [==============================] - ETA: 0s - loss: 0.0052 - acc: 0.9869 - recall: 0.9613 - precision: 0.9992 - iou: 0.9742\n",
      "Epoch 151: val_acc did not improve from 0.95227\n",
      "100/100 [==============================] - 35s 354ms/step - loss: 0.0052 - acc: 0.9869 - recall: 0.9613 - precision: 0.9992 - iou: 0.9742 - val_loss: 0.2600 - val_acc: 0.9472 - val_recall: 0.8125 - val_precision: 0.8996 - val_iou: 0.7405 - lr: 3.9062e-07\n",
      "Epoch 152/400\n",
      "100/100 [==============================] - ETA: 0s - loss: 0.0052 - acc: 0.9869 - recall: 0.9613 - precision: 0.9992 - iou: 0.9743\n",
      "Epoch 152: val_acc did not improve from 0.95227\n",
      "100/100 [==============================] - 36s 365ms/step - loss: 0.0052 - acc: 0.9869 - recall: 0.9613 - precision: 0.9992 - iou: 0.9743 - val_loss: 0.2601 - val_acc: 0.9472 - val_recall: 0.8126 - val_precision: 0.8995 - val_iou: 0.7405 - lr: 3.9062e-07\n",
      "Epoch 153/400\n",
      "100/100 [==============================] - ETA: 0s - loss: 0.0052 - acc: 0.9869 - recall: 0.9613 - precision: 0.9992 - iou: 0.9743\n",
      "Epoch 153: val_acc did not improve from 0.95227\n",
      "100/100 [==============================] - 35s 354ms/step - loss: 0.0052 - acc: 0.9869 - recall: 0.9613 - precision: 0.9992 - iou: 0.9743 - val_loss: 0.2602 - val_acc: 0.9472 - val_recall: 0.8127 - val_precision: 0.8994 - val_iou: 0.7405 - lr: 3.9062e-07\n",
      "Epoch 154/400\n",
      "100/100 [==============================] - ETA: 0s - loss: 0.0052 - acc: 0.9869 - recall: 0.9613 - precision: 0.9992 - iou: 0.9743\n",
      "Epoch 154: val_acc did not improve from 0.95227\n",
      "\n",
      "Epoch 154: ReduceLROnPlateau reducing learning rate to 1.9531249506599124e-07.\n",
      "100/100 [==============================] - 35s 355ms/step - loss: 0.0052 - acc: 0.9869 - recall: 0.9613 - precision: 0.9992 - iou: 0.9743 - val_loss: 0.2603 - val_acc: 0.9472 - val_recall: 0.8128 - val_precision: 0.8994 - val_iou: 0.7405 - lr: 3.9062e-07\n",
      "Epoch 155/400\n",
      "100/100 [==============================] - ETA: 0s - loss: 0.0052 - acc: 0.9869 - recall: 0.9614 - precision: 0.9992 - iou: 0.9743\n",
      "Epoch 155: val_acc did not improve from 0.95227\n",
      "100/100 [==============================] - 35s 355ms/step - loss: 0.0052 - acc: 0.9869 - recall: 0.9614 - precision: 0.9992 - iou: 0.9743 - val_loss: 0.2600 - val_acc: 0.9473 - val_recall: 0.8137 - val_precision: 0.8987 - val_iou: 0.7409 - lr: 1.9531e-07\n",
      "Epoch 156/400\n",
      "100/100 [==============================] - ETA: 0s - loss: 0.0052 - acc: 0.9869 - recall: 0.9613 - precision: 0.9992 - iou: 0.9743\n",
      "Epoch 156: val_acc did not improve from 0.95227\n",
      "100/100 [==============================] - 35s 355ms/step - loss: 0.0052 - acc: 0.9869 - recall: 0.9613 - precision: 0.9992 - iou: 0.9743 - val_loss: 0.2601 - val_acc: 0.9473 - val_recall: 0.8137 - val_precision: 0.8987 - val_iou: 0.7409 - lr: 1.9531e-07\n",
      "Epoch 157/400\n",
      "100/100 [==============================] - ETA: 0s - loss: 0.0052 - acc: 0.9869 - recall: 0.9613 - precision: 0.9992 - iou: 0.9744\n",
      "Epoch 157: val_acc did not improve from 0.95227\n",
      "100/100 [==============================] - 35s 355ms/step - loss: 0.0052 - acc: 0.9869 - recall: 0.9613 - precision: 0.9992 - iou: 0.9744 - val_loss: 0.2602 - val_acc: 0.9473 - val_recall: 0.8136 - val_precision: 0.8987 - val_iou: 0.7409 - lr: 1.9531e-07\n",
      "Epoch 158/400\n",
      "100/100 [==============================] - ETA: 0s - loss: 0.0052 - acc: 0.9869 - recall: 0.9613 - precision: 0.9992 - iou: 0.9744\n",
      "Epoch 158: val_acc did not improve from 0.95227\n",
      "100/100 [==============================] - 35s 355ms/step - loss: 0.0052 - acc: 0.9869 - recall: 0.9613 - precision: 0.9992 - iou: 0.9744 - val_loss: 0.2603 - val_acc: 0.9473 - val_recall: 0.8136 - val_precision: 0.8987 - val_iou: 0.7409 - lr: 1.9531e-07\n",
      "Epoch 159/400\n",
      "100/100 [==============================] - ETA: 0s - loss: 0.0052 - acc: 0.9869 - recall: 0.9613 - precision: 0.9992 - iou: 0.9744\n",
      "Epoch 159: val_acc did not improve from 0.95227\n",
      "100/100 [==============================] - 35s 355ms/step - loss: 0.0052 - acc: 0.9869 - recall: 0.9613 - precision: 0.9992 - iou: 0.9744 - val_loss: 0.2603 - val_acc: 0.9473 - val_recall: 0.8135 - val_precision: 0.8987 - val_iou: 0.7409 - lr: 1.9531e-07\n",
      "Epoch 160/400\n",
      "100/100 [==============================] - ETA: 0s - loss: 0.0052 - acc: 0.9869 - recall: 0.9613 - precision: 0.9993 - iou: 0.9744\n",
      "Epoch 160: val_acc did not improve from 0.95227\n",
      "100/100 [==============================] - 37s 366ms/step - loss: 0.0052 - acc: 0.9869 - recall: 0.9613 - precision: 0.9993 - iou: 0.9744 - val_loss: 0.2604 - val_acc: 0.9473 - val_recall: 0.8135 - val_precision: 0.8987 - val_iou: 0.7408 - lr: 1.9531e-07\n",
      "Epoch 161/400\n",
      "100/100 [==============================] - ETA: 0s - loss: 0.0052 - acc: 0.9869 - recall: 0.9613 - precision: 0.9993 - iou: 0.9744\n",
      "Epoch 161: val_acc did not improve from 0.95227\n",
      "100/100 [==============================] - 35s 355ms/step - loss: 0.0052 - acc: 0.9869 - recall: 0.9613 - precision: 0.9993 - iou: 0.9744 - val_loss: 0.2605 - val_acc: 0.9473 - val_recall: 0.8134 - val_precision: 0.8987 - val_iou: 0.7408 - lr: 1.9531e-07\n",
      "Epoch 162/400\n",
      "100/100 [==============================] - ETA: 0s - loss: 0.0051 - acc: 0.9869 - recall: 0.9613 - precision: 0.9993 - iou: 0.9744\n",
      "Epoch 162: val_acc did not improve from 0.95227\n",
      "100/100 [==============================] - 35s 355ms/step - loss: 0.0051 - acc: 0.9869 - recall: 0.9613 - precision: 0.9993 - iou: 0.9744 - val_loss: 0.2606 - val_acc: 0.9473 - val_recall: 0.8134 - val_precision: 0.8987 - val_iou: 0.7408 - lr: 1.9531e-07\n",
      "Epoch 163/400\n",
      "100/100 [==============================] - ETA: 0s - loss: 0.0051 - acc: 0.9869 - recall: 0.9613 - precision: 0.9993 - iou: 0.9745\n",
      "Epoch 163: val_acc did not improve from 0.95227\n",
      "100/100 [==============================] - 35s 355ms/step - loss: 0.0051 - acc: 0.9869 - recall: 0.9613 - precision: 0.9993 - iou: 0.9745 - val_loss: 0.2607 - val_acc: 0.9473 - val_recall: 0.8134 - val_precision: 0.8987 - val_iou: 0.7408 - lr: 1.9531e-07\n",
      "Epoch 164/400\n",
      "100/100 [==============================] - ETA: 0s - loss: 0.0051 - acc: 0.9869 - recall: 0.9613 - precision: 0.9993 - iou: 0.9745\n",
      "Epoch 164: val_acc did not improve from 0.95227\n",
      "100/100 [==============================] - 35s 353ms/step - loss: 0.0051 - acc: 0.9869 - recall: 0.9613 - precision: 0.9993 - iou: 0.9745 - val_loss: 0.2607 - val_acc: 0.9473 - val_recall: 0.8134 - val_precision: 0.8986 - val_iou: 0.7407 - lr: 1.9531e-07\n",
      "Epoch 165/400\n",
      "100/100 [==============================] - ETA: 0s - loss: 0.0051 - acc: 0.9869 - recall: 0.9613 - precision: 0.9993 - iou: 0.9745\n",
      "Epoch 165: val_acc did not improve from 0.95227\n",
      "100/100 [==============================] - 35s 353ms/step - loss: 0.0051 - acc: 0.9869 - recall: 0.9613 - precision: 0.9993 - iou: 0.9745 - val_loss: 0.2608 - val_acc: 0.9473 - val_recall: 0.8133 - val_precision: 0.8986 - val_iou: 0.7407 - lr: 1.9531e-07\n",
      "Epoch 166/400\n",
      "100/100 [==============================] - ETA: 0s - loss: 0.0051 - acc: 0.9869 - recall: 0.9613 - precision: 0.9993 - iou: 0.9745\n",
      "Epoch 166: val_acc did not improve from 0.95227\n",
      "100/100 [==============================] - 35s 353ms/step - loss: 0.0051 - acc: 0.9869 - recall: 0.9613 - precision: 0.9993 - iou: 0.9745 - val_loss: 0.2609 - val_acc: 0.9473 - val_recall: 0.8133 - val_precision: 0.8986 - val_iou: 0.7407 - lr: 1.9531e-07\n",
      "Epoch 167/400\n",
      "100/100 [==============================] - ETA: 0s - loss: 0.0051 - acc: 0.9869 - recall: 0.9613 - precision: 0.9993 - iou: 0.9745\n",
      "Epoch 167: val_acc did not improve from 0.95227\n",
      "100/100 [==============================] - 35s 353ms/step - loss: 0.0051 - acc: 0.9869 - recall: 0.9613 - precision: 0.9993 - iou: 0.9745 - val_loss: 0.2610 - val_acc: 0.9473 - val_recall: 0.8133 - val_precision: 0.8986 - val_iou: 0.7407 - lr: 1.9531e-07\n",
      "Epoch 168/400\n",
      "100/100 [==============================] - ETA: 0s - loss: 0.0051 - acc: 0.9869 - recall: 0.9613 - precision: 0.9993 - iou: 0.9745\n",
      "Epoch 168: val_acc did not improve from 0.95227\n",
      "100/100 [==============================] - 35s 353ms/step - loss: 0.0051 - acc: 0.9869 - recall: 0.9613 - precision: 0.9993 - iou: 0.9745 - val_loss: 0.2610 - val_acc: 0.9472 - val_recall: 0.8133 - val_precision: 0.8986 - val_iou: 0.7407 - lr: 1.9531e-07\n",
      "Epoch 169/400\n",
      "100/100 [==============================] - ETA: 0s - loss: 0.0051 - acc: 0.9869 - recall: 0.9613 - precision: 0.9993 - iou: 0.9746\n",
      "Epoch 169: val_acc did not improve from 0.95227\n",
      "\n",
      "Epoch 169: ReduceLROnPlateau reducing learning rate to 9.765624753299562e-08.\n",
      "100/100 [==============================] - 35s 353ms/step - loss: 0.0051 - acc: 0.9869 - recall: 0.9613 - precision: 0.9993 - iou: 0.9746 - val_loss: 0.2611 - val_acc: 0.9472 - val_recall: 0.8133 - val_precision: 0.8986 - val_iou: 0.7407 - lr: 1.9531e-07\n",
      "Epoch 170/400\n",
      "100/100 [==============================] - ETA: 0s - loss: 0.0051 - acc: 0.9869 - recall: 0.9614 - precision: 0.9993 - iou: 0.9746\n",
      "Epoch 170: val_acc did not improve from 0.95227\n",
      "100/100 [==============================] - 35s 353ms/step - loss: 0.0051 - acc: 0.9869 - recall: 0.9614 - precision: 0.9993 - iou: 0.9746 - val_loss: 0.2611 - val_acc: 0.9473 - val_recall: 0.8136 - val_precision: 0.8984 - val_iou: 0.7408 - lr: 9.7656e-08\n",
      "Epoch 171/400\n",
      "100/100 [==============================] - ETA: 0s - loss: 0.0051 - acc: 0.9869 - recall: 0.9613 - precision: 0.9993 - iou: 0.9746\n",
      "Epoch 171: val_acc did not improve from 0.95227\n",
      "100/100 [==============================] - 35s 353ms/step - loss: 0.0051 - acc: 0.9869 - recall: 0.9613 - precision: 0.9993 - iou: 0.9746 - val_loss: 0.2611 - val_acc: 0.9473 - val_recall: 0.8135 - val_precision: 0.8984 - val_iou: 0.7408 - lr: 9.7656e-08\n",
      "Epoch 172/400\n",
      "100/100 [==============================] - ETA: 0s - loss: 0.0051 - acc: 0.9869 - recall: 0.9613 - precision: 0.9993 - iou: 0.9746\n",
      "Epoch 172: val_acc did not improve from 0.95227\n",
      "100/100 [==============================] - 35s 353ms/step - loss: 0.0051 - acc: 0.9869 - recall: 0.9613 - precision: 0.9993 - iou: 0.9746 - val_loss: 0.2612 - val_acc: 0.9473 - val_recall: 0.8135 - val_precision: 0.8984 - val_iou: 0.7407 - lr: 9.7656e-08\n",
      "Epoch 173/400\n",
      "100/100 [==============================] - ETA: 0s - loss: 0.0051 - acc: 0.9869 - recall: 0.9613 - precision: 0.9993 - iou: 0.9746\n",
      "Epoch 173: val_acc did not improve from 0.95227\n",
      "100/100 [==============================] - 35s 353ms/step - loss: 0.0051 - acc: 0.9869 - recall: 0.9613 - precision: 0.9993 - iou: 0.9746 - val_loss: 0.2612 - val_acc: 0.9473 - val_recall: 0.8135 - val_precision: 0.8983 - val_iou: 0.7407 - lr: 9.7656e-08\n",
      "Epoch 174/400\n",
      "100/100 [==============================] - ETA: 0s - loss: 0.0051 - acc: 0.9869 - recall: 0.9613 - precision: 0.9993 - iou: 0.9746\n",
      "Epoch 174: val_acc did not improve from 0.95227\n",
      "100/100 [==============================] - 35s 353ms/step - loss: 0.0051 - acc: 0.9869 - recall: 0.9613 - precision: 0.9993 - iou: 0.9746 - val_loss: 0.2613 - val_acc: 0.9472 - val_recall: 0.8135 - val_precision: 0.8983 - val_iou: 0.7407 - lr: 9.7656e-08\n",
      "Epoch 175/400\n",
      "100/100 [==============================] - ETA: 0s - loss: 0.0051 - acc: 0.9869 - recall: 0.9613 - precision: 0.9993 - iou: 0.9746\n",
      "Epoch 175: val_acc did not improve from 0.95227\n",
      "100/100 [==============================] - 36s 364ms/step - loss: 0.0051 - acc: 0.9869 - recall: 0.9613 - precision: 0.9993 - iou: 0.9746 - val_loss: 0.2613 - val_acc: 0.9472 - val_recall: 0.8136 - val_precision: 0.8983 - val_iou: 0.7407 - lr: 9.7656e-08\n",
      "Epoch 176/400\n",
      "100/100 [==============================] - ETA: 0s - loss: 0.0051 - acc: 0.9869 - recall: 0.9613 - precision: 0.9993 - iou: 0.9746\n",
      "Epoch 176: val_acc did not improve from 0.95227\n",
      "100/100 [==============================] - 35s 352ms/step - loss: 0.0051 - acc: 0.9869 - recall: 0.9613 - precision: 0.9993 - iou: 0.9746 - val_loss: 0.2613 - val_acc: 0.9472 - val_recall: 0.8136 - val_precision: 0.8983 - val_iou: 0.7407 - lr: 9.7656e-08\n",
      "Epoch 177/400\n",
      "100/100 [==============================] - ETA: 0s - loss: 0.0051 - acc: 0.9869 - recall: 0.9613 - precision: 0.9993 - iou: 0.9746\n",
      "Epoch 177: val_acc did not improve from 0.95227\n",
      "100/100 [==============================] - 35s 352ms/step - loss: 0.0051 - acc: 0.9869 - recall: 0.9613 - precision: 0.9993 - iou: 0.9746 - val_loss: 0.2614 - val_acc: 0.9472 - val_recall: 0.8136 - val_precision: 0.8983 - val_iou: 0.7407 - lr: 9.7656e-08\n",
      "Epoch 178/400\n",
      "100/100 [==============================] - ETA: 0s - loss: 0.0051 - acc: 0.9869 - recall: 0.9613 - precision: 0.9993 - iou: 0.9746\n",
      "Epoch 178: val_acc did not improve from 0.95227\n",
      "100/100 [==============================] - 35s 352ms/step - loss: 0.0051 - acc: 0.9869 - recall: 0.9613 - precision: 0.9993 - iou: 0.9746 - val_loss: 0.2614 - val_acc: 0.9472 - val_recall: 0.8135 - val_precision: 0.8983 - val_iou: 0.7407 - lr: 9.7656e-08\n",
      "Epoch 179/400\n",
      "100/100 [==============================] - ETA: 0s - loss: 0.0051 - acc: 0.9869 - recall: 0.9613 - precision: 0.9993 - iou: 0.9746\n",
      "Epoch 179: val_acc did not improve from 0.95227\n",
      "100/100 [==============================] - 35s 353ms/step - loss: 0.0051 - acc: 0.9869 - recall: 0.9613 - precision: 0.9993 - iou: 0.9746 - val_loss: 0.2615 - val_acc: 0.9472 - val_recall: 0.8135 - val_precision: 0.8983 - val_iou: 0.7407 - lr: 9.7656e-08\n",
      "Epoch 180/400\n",
      "100/100 [==============================] - ETA: 0s - loss: 0.0051 - acc: 0.9869 - recall: 0.9613 - precision: 0.9993 - iou: 0.9747\n",
      "Epoch 180: val_acc did not improve from 0.95227\n",
      "100/100 [==============================] - 36s 364ms/step - loss: 0.0051 - acc: 0.9869 - recall: 0.9613 - precision: 0.9993 - iou: 0.9747 - val_loss: 0.2615 - val_acc: 0.9472 - val_recall: 0.8135 - val_precision: 0.8983 - val_iou: 0.7407 - lr: 9.7656e-08\n",
      "Epoch 181/400\n",
      "100/100 [==============================] - ETA: 0s - loss: 0.0051 - acc: 0.9869 - recall: 0.9613 - precision: 0.9993 - iou: 0.9747\n",
      "Epoch 181: val_acc did not improve from 0.95227\n",
      "100/100 [==============================] - 36s 363ms/step - loss: 0.0051 - acc: 0.9869 - recall: 0.9613 - precision: 0.9993 - iou: 0.9747 - val_loss: 0.2615 - val_acc: 0.9472 - val_recall: 0.8135 - val_precision: 0.8982 - val_iou: 0.7407 - lr: 9.7656e-08\n",
      "Epoch 182/400\n",
      "100/100 [==============================] - ETA: 0s - loss: 0.0051 - acc: 0.9869 - recall: 0.9613 - precision: 0.9993 - iou: 0.9747\n",
      "Epoch 182: val_acc did not improve from 0.95227\n",
      "100/100 [==============================] - 35s 352ms/step - loss: 0.0051 - acc: 0.9869 - recall: 0.9613 - precision: 0.9993 - iou: 0.9747 - val_loss: 0.2616 - val_acc: 0.9472 - val_recall: 0.8135 - val_precision: 0.8982 - val_iou: 0.7407 - lr: 9.7656e-08\n",
      "Epoch 183/400\n",
      "100/100 [==============================] - ETA: 0s - loss: 0.0051 - acc: 0.9869 - recall: 0.9613 - precision: 0.9993 - iou: 0.9747\n",
      "Epoch 183: val_acc did not improve from 0.95227\n",
      "100/100 [==============================] - 36s 363ms/step - loss: 0.0051 - acc: 0.9869 - recall: 0.9613 - precision: 0.9993 - iou: 0.9747 - val_loss: 0.2616 - val_acc: 0.9472 - val_recall: 0.8135 - val_precision: 0.8982 - val_iou: 0.7407 - lr: 9.7656e-08\n",
      "Epoch 184/400\n",
      "100/100 [==============================] - ETA: 0s - loss: 0.0051 - acc: 0.9869 - recall: 0.9613 - precision: 0.9993 - iou: 0.9747\n",
      "Epoch 184: val_acc did not improve from 0.95227\n",
      "\n",
      "Epoch 184: ReduceLROnPlateau reducing learning rate to 4.882812376649781e-08.\n",
      "100/100 [==============================] - 35s 352ms/step - loss: 0.0051 - acc: 0.9869 - recall: 0.9613 - precision: 0.9993 - iou: 0.9747 - val_loss: 0.2617 - val_acc: 0.9472 - val_recall: 0.8135 - val_precision: 0.8982 - val_iou: 0.7407 - lr: 9.7656e-08\n",
      "Epoch 185/400\n",
      "100/100 [==============================] - ETA: 0s - loss: 0.0051 - acc: 0.9869 - recall: 0.9613 - precision: 0.9993 - iou: 0.9747\n",
      "Epoch 185: val_acc did not improve from 0.95227\n",
      "100/100 [==============================] - 35s 352ms/step - loss: 0.0051 - acc: 0.9869 - recall: 0.9613 - precision: 0.9993 - iou: 0.9747 - val_loss: 0.2616 - val_acc: 0.9472 - val_recall: 0.8138 - val_precision: 0.8980 - val_iou: 0.7407 - lr: 4.8828e-08\n",
      "Epoch 186/400\n",
      "100/100 [==============================] - ETA: 0s - loss: 0.0051 - acc: 0.9869 - recall: 0.9613 - precision: 0.9993 - iou: 0.9747\n",
      "Epoch 186: val_acc did not improve from 0.95227\n",
      "100/100 [==============================] - 35s 352ms/step - loss: 0.0051 - acc: 0.9869 - recall: 0.9613 - precision: 0.9993 - iou: 0.9747 - val_loss: 0.2617 - val_acc: 0.9472 - val_recall: 0.8138 - val_precision: 0.8980 - val_iou: 0.7407 - lr: 4.8828e-08\n",
      "Epoch 187/400\n",
      "100/100 [==============================] - ETA: 0s - loss: 0.0051 - acc: 0.9869 - recall: 0.9613 - precision: 0.9993 - iou: 0.9747\n",
      "Epoch 187: val_acc did not improve from 0.95227\n",
      "100/100 [==============================] - 35s 352ms/step - loss: 0.0051 - acc: 0.9869 - recall: 0.9613 - precision: 0.9993 - iou: 0.9747 - val_loss: 0.2617 - val_acc: 0.9472 - val_recall: 0.8138 - val_precision: 0.8980 - val_iou: 0.7407 - lr: 4.8828e-08\n",
      "Epoch 188/400\n",
      "100/100 [==============================] - ETA: 0s - loss: 0.0051 - acc: 0.9869 - recall: 0.9613 - precision: 0.9993 - iou: 0.9747\n",
      "Epoch 188: val_acc did not improve from 0.95227\n",
      "100/100 [==============================] - 35s 353ms/step - loss: 0.0051 - acc: 0.9869 - recall: 0.9613 - precision: 0.9993 - iou: 0.9747 - val_loss: 0.2617 - val_acc: 0.9472 - val_recall: 0.8137 - val_precision: 0.8980 - val_iou: 0.7407 - lr: 4.8828e-08\n",
      "Epoch 189/400\n",
      "100/100 [==============================] - ETA: 0s - loss: 0.0051 - acc: 0.9869 - recall: 0.9613 - precision: 0.9993 - iou: 0.9747\n",
      "Epoch 189: val_acc did not improve from 0.95227\n",
      "100/100 [==============================] - 35s 353ms/step - loss: 0.0051 - acc: 0.9869 - recall: 0.9613 - precision: 0.9993 - iou: 0.9747 - val_loss: 0.2617 - val_acc: 0.9472 - val_recall: 0.8137 - val_precision: 0.8980 - val_iou: 0.7407 - lr: 4.8828e-08\n",
      "Epoch 190/400\n",
      "100/100 [==============================] - ETA: 0s - loss: 0.0051 - acc: 0.9869 - recall: 0.9613 - precision: 0.9993 - iou: 0.9747\n",
      "Epoch 190: val_acc did not improve from 0.95227\n",
      "100/100 [==============================] - 35s 352ms/step - loss: 0.0051 - acc: 0.9869 - recall: 0.9613 - precision: 0.9993 - iou: 0.9747 - val_loss: 0.2618 - val_acc: 0.9472 - val_recall: 0.8137 - val_precision: 0.8980 - val_iou: 0.7407 - lr: 4.8828e-08\n",
      "Epoch 191/400\n",
      "100/100 [==============================] - ETA: 0s - loss: 0.0051 - acc: 0.9869 - recall: 0.9613 - precision: 0.9993 - iou: 0.9747\n",
      "Epoch 191: val_acc did not improve from 0.95227\n",
      "100/100 [==============================] - 35s 353ms/step - loss: 0.0051 - acc: 0.9869 - recall: 0.9613 - precision: 0.9993 - iou: 0.9747 - val_loss: 0.2618 - val_acc: 0.9472 - val_recall: 0.8137 - val_precision: 0.8980 - val_iou: 0.7407 - lr: 4.8828e-08\n",
      "Epoch 192/400\n",
      "100/100 [==============================] - ETA: 0s - loss: 0.0051 - acc: 0.9869 - recall: 0.9613 - precision: 0.9993 - iou: 0.9747\n",
      "Epoch 192: val_acc did not improve from 0.95227\n",
      "100/100 [==============================] - 35s 353ms/step - loss: 0.0051 - acc: 0.9869 - recall: 0.9613 - precision: 0.9993 - iou: 0.9747 - val_loss: 0.2618 - val_acc: 0.9472 - val_recall: 0.8137 - val_precision: 0.8980 - val_iou: 0.7407 - lr: 4.8828e-08\n",
      "Epoch 193/400\n",
      "100/100 [==============================] - ETA: 0s - loss: 0.0051 - acc: 0.9869 - recall: 0.9613 - precision: 0.9993 - iou: 0.9747\n",
      "Epoch 193: val_acc did not improve from 0.95227\n",
      "100/100 [==============================] - 35s 352ms/step - loss: 0.0051 - acc: 0.9869 - recall: 0.9613 - precision: 0.9993 - iou: 0.9747 - val_loss: 0.2618 - val_acc: 0.9472 - val_recall: 0.8137 - val_precision: 0.8980 - val_iou: 0.7407 - lr: 4.8828e-08\n",
      "Epoch 194/400\n",
      "100/100 [==============================] - ETA: 0s - loss: 0.0051 - acc: 0.9869 - recall: 0.9613 - precision: 0.9993 - iou: 0.9747\n",
      "Epoch 194: val_acc did not improve from 0.95227\n",
      "100/100 [==============================] - 36s 364ms/step - loss: 0.0051 - acc: 0.9869 - recall: 0.9613 - precision: 0.9993 - iou: 0.9747 - val_loss: 0.2618 - val_acc: 0.9472 - val_recall: 0.8137 - val_precision: 0.8980 - val_iou: 0.7407 - lr: 4.8828e-08\n",
      "Epoch 195/400\n",
      "100/100 [==============================] - ETA: 0s - loss: 0.0051 - acc: 0.9869 - recall: 0.9613 - precision: 0.9993 - iou: 0.9747\n",
      "Epoch 195: val_acc did not improve from 0.95227\n",
      "100/100 [==============================] - 35s 352ms/step - loss: 0.0051 - acc: 0.9869 - recall: 0.9613 - precision: 0.9993 - iou: 0.9747 - val_loss: 0.2619 - val_acc: 0.9472 - val_recall: 0.8137 - val_precision: 0.8980 - val_iou: 0.7407 - lr: 4.8828e-08\n",
      "Epoch 196/400\n",
      "100/100 [==============================] - ETA: 0s - loss: 0.0051 - acc: 0.9869 - recall: 0.9613 - precision: 0.9993 - iou: 0.9747\n",
      "Epoch 196: val_acc did not improve from 0.95227\n",
      "100/100 [==============================] - 35s 353ms/step - loss: 0.0051 - acc: 0.9869 - recall: 0.9613 - precision: 0.9993 - iou: 0.9747 - val_loss: 0.2619 - val_acc: 0.9472 - val_recall: 0.8137 - val_precision: 0.8980 - val_iou: 0.7407 - lr: 4.8828e-08\n",
      "Epoch 197/400\n",
      "100/100 [==============================] - ETA: 0s - loss: 0.0051 - acc: 0.9869 - recall: 0.9613 - precision: 0.9993 - iou: 0.9747\n",
      "Epoch 197: val_acc did not improve from 0.95227\n",
      "100/100 [==============================] - 35s 353ms/step - loss: 0.0051 - acc: 0.9869 - recall: 0.9613 - precision: 0.9993 - iou: 0.9747 - val_loss: 0.2619 - val_acc: 0.9472 - val_recall: 0.8137 - val_precision: 0.8980 - val_iou: 0.7407 - lr: 4.8828e-08\n",
      "Epoch 198/400\n",
      "100/100 [==============================] - ETA: 0s - loss: 0.0051 - acc: 0.9869 - recall: 0.9613 - precision: 0.9993 - iou: 0.9747\n",
      "Epoch 198: val_acc did not improve from 0.95227\n",
      "100/100 [==============================] - 35s 353ms/step - loss: 0.0051 - acc: 0.9869 - recall: 0.9613 - precision: 0.9993 - iou: 0.9747 - val_loss: 0.2619 - val_acc: 0.9472 - val_recall: 0.8137 - val_precision: 0.8980 - val_iou: 0.7407 - lr: 4.8828e-08\n",
      "Epoch 199/400\n",
      "100/100 [==============================] - ETA: 0s - loss: 0.0051 - acc: 0.9869 - recall: 0.9613 - precision: 0.9993 - iou: 0.9748\n",
      "Epoch 199: val_acc did not improve from 0.95227\n",
      "\n",
      "Epoch 199: ReduceLROnPlateau reducing learning rate to 2.4414061883248905e-08.\n",
      "100/100 [==============================] - 35s 353ms/step - loss: 0.0051 - acc: 0.9869 - recall: 0.9613 - precision: 0.9993 - iou: 0.9748 - val_loss: 0.2619 - val_acc: 0.9472 - val_recall: 0.8137 - val_precision: 0.8980 - val_iou: 0.7407 - lr: 4.8828e-08\n",
      "Epoch 200/400\n",
      "100/100 [==============================] - ETA: 0s - loss: 0.0051 - acc: 0.9869 - recall: 0.9613 - precision: 0.9993 - iou: 0.9748\n",
      "Epoch 200: val_acc did not improve from 0.95227\n",
      "100/100 [==============================] - 36s 364ms/step - loss: 0.0051 - acc: 0.9869 - recall: 0.9613 - precision: 0.9993 - iou: 0.9748 - val_loss: 0.2619 - val_acc: 0.9472 - val_recall: 0.8138 - val_precision: 0.8979 - val_iou: 0.7407 - lr: 2.4414e-08\n",
      "Epoch 201/400\n",
      "100/100 [==============================] - ETA: 0s - loss: 0.0051 - acc: 0.9869 - recall: 0.9613 - precision: 0.9993 - iou: 0.9748\n",
      "Epoch 201: val_acc did not improve from 0.95227\n",
      "100/100 [==============================] - 35s 353ms/step - loss: 0.0051 - acc: 0.9869 - recall: 0.9613 - precision: 0.9993 - iou: 0.9748 - val_loss: 0.2619 - val_acc: 0.9472 - val_recall: 0.8138 - val_precision: 0.8979 - val_iou: 0.7407 - lr: 2.4414e-08\n",
      "Epoch 202/400\n",
      "100/100 [==============================] - ETA: 0s - loss: 0.0051 - acc: 0.9869 - recall: 0.9613 - precision: 0.9993 - iou: 0.9748\n",
      "Epoch 202: val_acc did not improve from 0.95227\n",
      "100/100 [==============================] - 35s 352ms/step - loss: 0.0051 - acc: 0.9869 - recall: 0.9613 - precision: 0.9993 - iou: 0.9748 - val_loss: 0.2619 - val_acc: 0.9472 - val_recall: 0.8138 - val_precision: 0.8979 - val_iou: 0.7407 - lr: 2.4414e-08\n",
      "Epoch 203/400\n",
      "100/100 [==============================] - ETA: 0s - loss: 0.0051 - acc: 0.9869 - recall: 0.9613 - precision: 0.9993 - iou: 0.9748\n",
      "Epoch 203: val_acc did not improve from 0.95227\n",
      "100/100 [==============================] - 35s 352ms/step - loss: 0.0051 - acc: 0.9869 - recall: 0.9613 - precision: 0.9993 - iou: 0.9748 - val_loss: 0.2620 - val_acc: 0.9472 - val_recall: 0.8138 - val_precision: 0.8979 - val_iou: 0.7407 - lr: 2.4414e-08\n",
      "Epoch 204/400\n",
      "100/100 [==============================] - ETA: 0s - loss: 0.0051 - acc: 0.9869 - recall: 0.9613 - precision: 0.9993 - iou: 0.9748\n",
      "Epoch 204: val_acc did not improve from 0.95227\n",
      "100/100 [==============================] - 36s 364ms/step - loss: 0.0051 - acc: 0.9869 - recall: 0.9613 - precision: 0.9993 - iou: 0.9748 - val_loss: 0.2620 - val_acc: 0.9472 - val_recall: 0.8138 - val_precision: 0.8979 - val_iou: 0.7407 - lr: 2.4414e-08\n",
      "Epoch 205/400\n",
      "100/100 [==============================] - ETA: 0s - loss: 0.0051 - acc: 0.9869 - recall: 0.9613 - precision: 0.9993 - iou: 0.9748\n",
      "Epoch 205: val_acc did not improve from 0.95227\n",
      "100/100 [==============================] - 35s 352ms/step - loss: 0.0051 - acc: 0.9869 - recall: 0.9613 - precision: 0.9993 - iou: 0.9748 - val_loss: 0.2620 - val_acc: 0.9472 - val_recall: 0.8138 - val_precision: 0.8979 - val_iou: 0.7407 - lr: 2.4414e-08\n",
      "Epoch 206/400\n",
      "100/100 [==============================] - ETA: 0s - loss: 0.0051 - acc: 0.9869 - recall: 0.9613 - precision: 0.9993 - iou: 0.9748\n",
      "Epoch 206: val_acc did not improve from 0.95227\n",
      "100/100 [==============================] - 35s 353ms/step - loss: 0.0051 - acc: 0.9869 - recall: 0.9613 - precision: 0.9993 - iou: 0.9748 - val_loss: 0.2620 - val_acc: 0.9472 - val_recall: 0.8138 - val_precision: 0.8979 - val_iou: 0.7407 - lr: 2.4414e-08\n",
      "Epoch 207/400\n",
      "100/100 [==============================] - ETA: 0s - loss: 0.0051 - acc: 0.9869 - recall: 0.9613 - precision: 0.9993 - iou: 0.9748\n",
      "Epoch 207: val_acc did not improve from 0.95227\n",
      "100/100 [==============================] - 36s 364ms/step - loss: 0.0051 - acc: 0.9869 - recall: 0.9613 - precision: 0.9993 - iou: 0.9748 - val_loss: 0.2620 - val_acc: 0.9472 - val_recall: 0.8138 - val_precision: 0.8979 - val_iou: 0.7407 - lr: 2.4414e-08\n",
      "Epoch 208/400\n",
      "100/100 [==============================] - ETA: 0s - loss: 0.0051 - acc: 0.9869 - recall: 0.9613 - precision: 0.9993 - iou: 0.9748\n",
      "Epoch 208: val_acc did not improve from 0.95227\n",
      "100/100 [==============================] - 36s 363ms/step - loss: 0.0051 - acc: 0.9869 - recall: 0.9613 - precision: 0.9993 - iou: 0.9748 - val_loss: 0.2620 - val_acc: 0.9472 - val_recall: 0.8138 - val_precision: 0.8979 - val_iou: 0.7407 - lr: 2.4414e-08\n",
      "Epoch 209/400\n",
      "100/100 [==============================] - ETA: 0s - loss: 0.0051 - acc: 0.9869 - recall: 0.9613 - precision: 0.9993 - iou: 0.9748\n",
      "Epoch 209: val_acc did not improve from 0.95227\n",
      "100/100 [==============================] - 36s 363ms/step - loss: 0.0051 - acc: 0.9869 - recall: 0.9613 - precision: 0.9993 - iou: 0.9748 - val_loss: 0.2620 - val_acc: 0.9472 - val_recall: 0.8138 - val_precision: 0.8979 - val_iou: 0.7407 - lr: 2.4414e-08\n",
      "Epoch 210/400\n",
      "100/100 [==============================] - ETA: 0s - loss: 0.0051 - acc: 0.9869 - recall: 0.9613 - precision: 0.9993 - iou: 0.9748\n",
      "Epoch 210: val_acc did not improve from 0.95227\n",
      "100/100 [==============================] - 35s 352ms/step - loss: 0.0051 - acc: 0.9869 - recall: 0.9613 - precision: 0.9993 - iou: 0.9748 - val_loss: 0.2620 - val_acc: 0.9472 - val_recall: 0.8138 - val_precision: 0.8979 - val_iou: 0.7407 - lr: 2.4414e-08\n",
      "Epoch 211/400\n",
      "100/100 [==============================] - ETA: 0s - loss: 0.0051 - acc: 0.9869 - recall: 0.9613 - precision: 0.9993 - iou: 0.9748\n",
      "Epoch 211: val_acc did not improve from 0.95227\n",
      "100/100 [==============================] - 35s 352ms/step - loss: 0.0051 - acc: 0.9869 - recall: 0.9613 - precision: 0.9993 - iou: 0.9748 - val_loss: 0.2620 - val_acc: 0.9472 - val_recall: 0.8138 - val_precision: 0.8979 - val_iou: 0.7407 - lr: 2.4414e-08\n",
      "Epoch 212/400\n",
      "100/100 [==============================] - ETA: 0s - loss: 0.0051 - acc: 0.9869 - recall: 0.9613 - precision: 0.9993 - iou: 0.9748\n",
      "Epoch 212: val_acc did not improve from 0.95227\n",
      "100/100 [==============================] - 35s 353ms/step - loss: 0.0051 - acc: 0.9869 - recall: 0.9613 - precision: 0.9993 - iou: 0.9748 - val_loss: 0.2620 - val_acc: 0.9472 - val_recall: 0.8138 - val_precision: 0.8979 - val_iou: 0.7407 - lr: 2.4414e-08\n",
      "Epoch 213/400\n",
      "100/100 [==============================] - ETA: 0s - loss: 0.0051 - acc: 0.9869 - recall: 0.9613 - precision: 0.9993 - iou: 0.9748\n",
      "Epoch 213: val_acc did not improve from 0.95227\n",
      "100/100 [==============================] - 35s 353ms/step - loss: 0.0051 - acc: 0.9869 - recall: 0.9613 - precision: 0.9993 - iou: 0.9748 - val_loss: 0.2621 - val_acc: 0.9472 - val_recall: 0.8138 - val_precision: 0.8979 - val_iou: 0.7407 - lr: 2.4414e-08\n",
      "Epoch 214/400\n",
      "100/100 [==============================] - ETA: 0s - loss: 0.0051 - acc: 0.9869 - recall: 0.9613 - precision: 0.9993 - iou: 0.9748\n",
      "Epoch 214: val_acc did not improve from 0.95227\n",
      "\n",
      "Epoch 214: ReduceLROnPlateau reducing learning rate to 1.2207030941624453e-08.\n",
      "100/100 [==============================] - 36s 364ms/step - loss: 0.0051 - acc: 0.9869 - recall: 0.9613 - precision: 0.9993 - iou: 0.9748 - val_loss: 0.2621 - val_acc: 0.9472 - val_recall: 0.8138 - val_precision: 0.8979 - val_iou: 0.7407 - lr: 2.4414e-08\n",
      "Epoch 215/400\n",
      "100/100 [==============================] - ETA: 0s - loss: 0.0051 - acc: 0.9869 - recall: 0.9613 - precision: 0.9993 - iou: 0.9748\n",
      "Epoch 215: val_acc did not improve from 0.95227\n",
      "100/100 [==============================] - 35s 352ms/step - loss: 0.0051 - acc: 0.9869 - recall: 0.9613 - precision: 0.9993 - iou: 0.9748 - val_loss: 0.2621 - val_acc: 0.9472 - val_recall: 0.8139 - val_precision: 0.8979 - val_iou: 0.7407 - lr: 1.2207e-08\n",
      "Epoch 216/400\n",
      "100/100 [==============================] - ETA: 0s - loss: 0.0051 - acc: 0.9869 - recall: 0.9613 - precision: 0.9993 - iou: 0.9748\n",
      "Epoch 216: val_acc did not improve from 0.95227\n",
      "100/100 [==============================] - 35s 353ms/step - loss: 0.0051 - acc: 0.9869 - recall: 0.9613 - precision: 0.9993 - iou: 0.9748 - val_loss: 0.2621 - val_acc: 0.9472 - val_recall: 0.8139 - val_precision: 0.8978 - val_iou: 0.7407 - lr: 1.2207e-08\n",
      "Epoch 217/400\n",
      "100/100 [==============================] - ETA: 0s - loss: 0.0051 - acc: 0.9869 - recall: 0.9613 - precision: 0.9993 - iou: 0.9748\n",
      "Epoch 217: val_acc did not improve from 0.95227\n",
      "100/100 [==============================] - 35s 353ms/step - loss: 0.0051 - acc: 0.9869 - recall: 0.9613 - precision: 0.9993 - iou: 0.9748 - val_loss: 0.2621 - val_acc: 0.9472 - val_recall: 0.8139 - val_precision: 0.8978 - val_iou: 0.7407 - lr: 1.2207e-08\n",
      "Epoch 218/400\n",
      "100/100 [==============================] - ETA: 0s - loss: 0.0051 - acc: 0.9869 - recall: 0.9613 - precision: 0.9993 - iou: 0.9748\n",
      "Epoch 218: val_acc did not improve from 0.95227\n",
      "100/100 [==============================] - 35s 353ms/step - loss: 0.0051 - acc: 0.9869 - recall: 0.9613 - precision: 0.9993 - iou: 0.9748 - val_loss: 0.2621 - val_acc: 0.9472 - val_recall: 0.8139 - val_precision: 0.8978 - val_iou: 0.7407 - lr: 1.2207e-08\n",
      "Epoch 219/400\n",
      "100/100 [==============================] - ETA: 0s - loss: 0.0051 - acc: 0.9869 - recall: 0.9613 - precision: 0.9993 - iou: 0.9748\n",
      "Epoch 219: val_acc did not improve from 0.95227\n",
      "100/100 [==============================] - 35s 353ms/step - loss: 0.0051 - acc: 0.9869 - recall: 0.9613 - precision: 0.9993 - iou: 0.9748 - val_loss: 0.2621 - val_acc: 0.9472 - val_recall: 0.8139 - val_precision: 0.8978 - val_iou: 0.7407 - lr: 1.2207e-08\n",
      "Epoch 220/400\n",
      "100/100 [==============================] - ETA: 0s - loss: 0.0051 - acc: 0.9869 - recall: 0.9613 - precision: 0.9993 - iou: 0.9748\n",
      "Epoch 220: val_acc did not improve from 0.95227\n",
      "100/100 [==============================] - 35s 353ms/step - loss: 0.0051 - acc: 0.9869 - recall: 0.9613 - precision: 0.9993 - iou: 0.9748 - val_loss: 0.2621 - val_acc: 0.9472 - val_recall: 0.8139 - val_precision: 0.8978 - val_iou: 0.7407 - lr: 1.2207e-08\n",
      "Epoch 221/400\n",
      "100/100 [==============================] - ETA: 0s - loss: 0.0051 - acc: 0.9869 - recall: 0.9613 - precision: 0.9993 - iou: 0.9748\n",
      "Epoch 221: val_acc did not improve from 0.95227\n",
      "100/100 [==============================] - 35s 353ms/step - loss: 0.0051 - acc: 0.9869 - recall: 0.9613 - precision: 0.9993 - iou: 0.9748 - val_loss: 0.2621 - val_acc: 0.9472 - val_recall: 0.8139 - val_precision: 0.8978 - val_iou: 0.7407 - lr: 1.2207e-08\n",
      "Epoch 222/400\n",
      "100/100 [==============================] - ETA: 0s - loss: 0.0051 - acc: 0.9869 - recall: 0.9613 - precision: 0.9993 - iou: 0.9748\n",
      "Epoch 222: val_acc did not improve from 0.95227\n",
      "100/100 [==============================] - 35s 353ms/step - loss: 0.0051 - acc: 0.9869 - recall: 0.9613 - precision: 0.9993 - iou: 0.9748 - val_loss: 0.2621 - val_acc: 0.9472 - val_recall: 0.8139 - val_precision: 0.8978 - val_iou: 0.7407 - lr: 1.2207e-08\n",
      "Epoch 223/400\n",
      "100/100 [==============================] - ETA: 0s - loss: 0.0051 - acc: 0.9869 - recall: 0.9613 - precision: 0.9993 - iou: 0.9748\n",
      "Epoch 223: val_acc did not improve from 0.95227\n",
      "100/100 [==============================] - 35s 353ms/step - loss: 0.0051 - acc: 0.9869 - recall: 0.9613 - precision: 0.9993 - iou: 0.9748 - val_loss: 0.2621 - val_acc: 0.9472 - val_recall: 0.8139 - val_precision: 0.8978 - val_iou: 0.7407 - lr: 1.2207e-08\n",
      "Epoch 224/400\n",
      "100/100 [==============================] - ETA: 0s - loss: 0.0051 - acc: 0.9869 - recall: 0.9613 - precision: 0.9993 - iou: 0.9748\n",
      "Epoch 224: val_acc did not improve from 0.95227\n",
      "100/100 [==============================] - 35s 353ms/step - loss: 0.0051 - acc: 0.9869 - recall: 0.9613 - precision: 0.9993 - iou: 0.9748 - val_loss: 0.2621 - val_acc: 0.9472 - val_recall: 0.8139 - val_precision: 0.8978 - val_iou: 0.7407 - lr: 1.2207e-08\n",
      "Epoch 225/400\n",
      "100/100 [==============================] - ETA: 0s - loss: 0.0051 - acc: 0.9869 - recall: 0.9613 - precision: 0.9993 - iou: 0.9748\n",
      "Epoch 225: val_acc did not improve from 0.95227\n",
      "100/100 [==============================] - 35s 353ms/step - loss: 0.0051 - acc: 0.9869 - recall: 0.9613 - precision: 0.9993 - iou: 0.9748 - val_loss: 0.2621 - val_acc: 0.9472 - val_recall: 0.8139 - val_precision: 0.8978 - val_iou: 0.7407 - lr: 1.2207e-08\n",
      "Epoch 226/400\n",
      "100/100 [==============================] - ETA: 0s - loss: 0.0051 - acc: 0.9869 - recall: 0.9613 - precision: 0.9993 - iou: 0.9748\n",
      "Epoch 226: val_acc did not improve from 0.95227\n",
      "100/100 [==============================] - 35s 353ms/step - loss: 0.0051 - acc: 0.9869 - recall: 0.9613 - precision: 0.9993 - iou: 0.9748 - val_loss: 0.2621 - val_acc: 0.9472 - val_recall: 0.8139 - val_precision: 0.8978 - val_iou: 0.7407 - lr: 1.2207e-08\n",
      "Epoch 227/400\n",
      "100/100 [==============================] - ETA: 0s - loss: 0.0051 - acc: 0.9869 - recall: 0.9613 - precision: 0.9993 - iou: 0.9748\n",
      "Epoch 227: val_acc did not improve from 0.95227\n",
      "100/100 [==============================] - 35s 352ms/step - loss: 0.0051 - acc: 0.9869 - recall: 0.9613 - precision: 0.9993 - iou: 0.9748 - val_loss: 0.2621 - val_acc: 0.9472 - val_recall: 0.8139 - val_precision: 0.8978 - val_iou: 0.7407 - lr: 1.2207e-08\n",
      "Epoch 228/400\n",
      "100/100 [==============================] - ETA: 0s - loss: 0.0051 - acc: 0.9869 - recall: 0.9613 - precision: 0.9993 - iou: 0.9748\n",
      "Epoch 228: val_acc did not improve from 0.95227\n",
      "100/100 [==============================] - 35s 353ms/step - loss: 0.0051 - acc: 0.9869 - recall: 0.9613 - precision: 0.9993 - iou: 0.9748 - val_loss: 0.2621 - val_acc: 0.9472 - val_recall: 0.8139 - val_precision: 0.8978 - val_iou: 0.7407 - lr: 1.2207e-08\n",
      "Epoch 229/400\n",
      "100/100 [==============================] - ETA: 0s - loss: 0.0051 - acc: 0.9869 - recall: 0.9613 - precision: 0.9993 - iou: 0.9748\n",
      "Epoch 229: val_acc did not improve from 0.95227\n",
      "\n",
      "Epoch 229: ReduceLROnPlateau reducing learning rate to 6.103515470812226e-09.\n",
      "100/100 [==============================] - 35s 353ms/step - loss: 0.0051 - acc: 0.9869 - recall: 0.9613 - precision: 0.9993 - iou: 0.9748 - val_loss: 0.2621 - val_acc: 0.9472 - val_recall: 0.8139 - val_precision: 0.8978 - val_iou: 0.7407 - lr: 1.2207e-08\n",
      "Epoch 230/400\n",
      "100/100 [==============================] - ETA: 0s - loss: 0.0051 - acc: 0.9869 - recall: 0.9613 - precision: 0.9993 - iou: 0.9748\n",
      "Epoch 230: val_acc did not improve from 0.95227\n",
      "100/100 [==============================] - 35s 353ms/step - loss: 0.0051 - acc: 0.9869 - recall: 0.9613 - precision: 0.9993 - iou: 0.9748 - val_loss: 0.2621 - val_acc: 0.9472 - val_recall: 0.8139 - val_precision: 0.8978 - val_iou: 0.7407 - lr: 6.1035e-09\n",
      "Epoch 231/400\n",
      "100/100 [==============================] - ETA: 0s - loss: 0.0051 - acc: 0.9869 - recall: 0.9613 - precision: 0.9993 - iou: 0.9748\n",
      "Epoch 231: val_acc did not improve from 0.95227\n",
      "100/100 [==============================] - 35s 352ms/step - loss: 0.0051 - acc: 0.9869 - recall: 0.9613 - precision: 0.9993 - iou: 0.9748 - val_loss: 0.2621 - val_acc: 0.9472 - val_recall: 0.8139 - val_precision: 0.8978 - val_iou: 0.7407 - lr: 6.1035e-09\n",
      "Epoch 232/400\n",
      "100/100 [==============================] - ETA: 0s - loss: 0.0051 - acc: 0.9869 - recall: 0.9613 - precision: 0.9993 - iou: 0.9748\n",
      "Epoch 232: val_acc did not improve from 0.95227\n",
      "100/100 [==============================] - 35s 352ms/step - loss: 0.0051 - acc: 0.9869 - recall: 0.9613 - precision: 0.9993 - iou: 0.9748 - val_loss: 0.2621 - val_acc: 0.9472 - val_recall: 0.8139 - val_precision: 0.8978 - val_iou: 0.7407 - lr: 6.1035e-09\n",
      "Epoch 233/400\n",
      "100/100 [==============================] - ETA: 0s - loss: 0.0051 - acc: 0.9869 - recall: 0.9613 - precision: 0.9993 - iou: 0.9748\n",
      "Epoch 233: val_acc did not improve from 0.95227\n",
      "100/100 [==============================] - 35s 353ms/step - loss: 0.0051 - acc: 0.9869 - recall: 0.9613 - precision: 0.9993 - iou: 0.9748 - val_loss: 0.2621 - val_acc: 0.9472 - val_recall: 0.8139 - val_precision: 0.8978 - val_iou: 0.7407 - lr: 6.1035e-09\n",
      "Epoch 234/400\n",
      "100/100 [==============================] - ETA: 0s - loss: 0.0051 - acc: 0.9869 - recall: 0.9613 - precision: 0.9993 - iou: 0.9748\n",
      "Epoch 234: val_acc did not improve from 0.95227\n",
      "100/100 [==============================] - 35s 355ms/step - loss: 0.0051 - acc: 0.9869 - recall: 0.9613 - precision: 0.9993 - iou: 0.9748 - val_loss: 0.2621 - val_acc: 0.9472 - val_recall: 0.8139 - val_precision: 0.8978 - val_iou: 0.7407 - lr: 6.1035e-09\n",
      "Epoch 235/400\n",
      "100/100 [==============================] - ETA: 0s - loss: 0.0051 - acc: 0.9869 - recall: 0.9613 - precision: 0.9993 - iou: 0.9748\n",
      "Epoch 235: val_acc did not improve from 0.95227\n",
      "100/100 [==============================] - 36s 365ms/step - loss: 0.0051 - acc: 0.9869 - recall: 0.9613 - precision: 0.9993 - iou: 0.9748 - val_loss: 0.2621 - val_acc: 0.9472 - val_recall: 0.8139 - val_precision: 0.8978 - val_iou: 0.7407 - lr: 6.1035e-09\n",
      "Epoch 236/400\n",
      "100/100 [==============================] - ETA: 0s - loss: 0.0051 - acc: 0.9869 - recall: 0.9613 - precision: 0.9993 - iou: 0.9748\n",
      "Epoch 236: val_acc did not improve from 0.95227\n",
      "100/100 [==============================] - 35s 354ms/step - loss: 0.0051 - acc: 0.9869 - recall: 0.9613 - precision: 0.9993 - iou: 0.9748 - val_loss: 0.2621 - val_acc: 0.9472 - val_recall: 0.8139 - val_precision: 0.8978 - val_iou: 0.7407 - lr: 6.1035e-09\n",
      "Epoch 237/400\n",
      "100/100 [==============================] - ETA: 0s - loss: 0.0051 - acc: 0.9869 - recall: 0.9613 - precision: 0.9993 - iou: 0.9748\n",
      "Epoch 237: val_acc did not improve from 0.95227\n",
      "100/100 [==============================] - 35s 355ms/step - loss: 0.0051 - acc: 0.9869 - recall: 0.9613 - precision: 0.9993 - iou: 0.9748 - val_loss: 0.2621 - val_acc: 0.9472 - val_recall: 0.8139 - val_precision: 0.8978 - val_iou: 0.7407 - lr: 6.1035e-09\n",
      "Epoch 238/400\n",
      "100/100 [==============================] - ETA: 0s - loss: 0.0051 - acc: 0.9869 - recall: 0.9613 - precision: 0.9993 - iou: 0.9748\n",
      "Epoch 238: val_acc did not improve from 0.95227\n",
      "100/100 [==============================] - 35s 353ms/step - loss: 0.0051 - acc: 0.9869 - recall: 0.9613 - precision: 0.9993 - iou: 0.9748 - val_loss: 0.2621 - val_acc: 0.9472 - val_recall: 0.8139 - val_precision: 0.8978 - val_iou: 0.7407 - lr: 6.1035e-09\n",
      "Epoch 239/400\n",
      "100/100 [==============================] - ETA: 0s - loss: 0.0051 - acc: 0.9869 - recall: 0.9613 - precision: 0.9993 - iou: 0.9748\n",
      "Epoch 239: val_acc did not improve from 0.95227\n",
      "100/100 [==============================] - 36s 365ms/step - loss: 0.0051 - acc: 0.9869 - recall: 0.9613 - precision: 0.9993 - iou: 0.9748 - val_loss: 0.2621 - val_acc: 0.9472 - val_recall: 0.8139 - val_precision: 0.8978 - val_iou: 0.7407 - lr: 6.1035e-09\n",
      "Epoch 240/400\n",
      "100/100 [==============================] - ETA: 0s - loss: 0.0051 - acc: 0.9869 - recall: 0.9613 - precision: 0.9993 - iou: 0.9748\n",
      "Epoch 240: val_acc did not improve from 0.95227\n",
      "100/100 [==============================] - 36s 365ms/step - loss: 0.0051 - acc: 0.9869 - recall: 0.9613 - precision: 0.9993 - iou: 0.9748 - val_loss: 0.2621 - val_acc: 0.9472 - val_recall: 0.8139 - val_precision: 0.8978 - val_iou: 0.7407 - lr: 6.1035e-09\n",
      "Epoch 241/400\n",
      "100/100 [==============================] - ETA: 0s - loss: 0.0051 - acc: 0.9869 - recall: 0.9613 - precision: 0.9993 - iou: 0.9748\n",
      "Epoch 241: val_acc did not improve from 0.95227\n",
      "100/100 [==============================] - 35s 354ms/step - loss: 0.0051 - acc: 0.9869 - recall: 0.9613 - precision: 0.9993 - iou: 0.9748 - val_loss: 0.2622 - val_acc: 0.9472 - val_recall: 0.8139 - val_precision: 0.8978 - val_iou: 0.7407 - lr: 6.1035e-09\n",
      "Epoch 242/400\n",
      "100/100 [==============================] - ETA: 0s - loss: 0.0051 - acc: 0.9869 - recall: 0.9613 - precision: 0.9993 - iou: 0.9748\n",
      "Epoch 242: val_acc did not improve from 0.95227\n",
      "100/100 [==============================] - 35s 354ms/step - loss: 0.0051 - acc: 0.9869 - recall: 0.9613 - precision: 0.9993 - iou: 0.9748 - val_loss: 0.2622 - val_acc: 0.9472 - val_recall: 0.8139 - val_precision: 0.8978 - val_iou: 0.7407 - lr: 6.1035e-09\n",
      "Epoch 243/400\n",
      "100/100 [==============================] - ETA: 0s - loss: 0.0051 - acc: 0.9869 - recall: 0.9613 - precision: 0.9993 - iou: 0.9748\n",
      "Epoch 243: val_acc did not improve from 0.95227\n",
      "100/100 [==============================] - 35s 354ms/step - loss: 0.0051 - acc: 0.9869 - recall: 0.9613 - precision: 0.9993 - iou: 0.9748 - val_loss: 0.2622 - val_acc: 0.9472 - val_recall: 0.8139 - val_precision: 0.8978 - val_iou: 0.7407 - lr: 6.1035e-09\n",
      "Epoch 244/400\n",
      "100/100 [==============================] - ETA: 0s - loss: 0.0051 - acc: 0.9869 - recall: 0.9613 - precision: 0.9993 - iou: 0.9748\n",
      "Epoch 244: val_acc did not improve from 0.95227\n",
      "\n",
      "Epoch 244: ReduceLROnPlateau reducing learning rate to 3.051757735406113e-09.\n",
      "100/100 [==============================] - 35s 353ms/step - loss: 0.0051 - acc: 0.9869 - recall: 0.9613 - precision: 0.9993 - iou: 0.9748 - val_loss: 0.2622 - val_acc: 0.9472 - val_recall: 0.8139 - val_precision: 0.8978 - val_iou: 0.7407 - lr: 6.1035e-09\n",
      "Epoch 245/400\n",
      "100/100 [==============================] - ETA: 0s - loss: 0.0051 - acc: 0.9869 - recall: 0.9613 - precision: 0.9993 - iou: 0.9748\n",
      "Epoch 245: val_acc did not improve from 0.95227\n",
      "100/100 [==============================] - 35s 354ms/step - loss: 0.0051 - acc: 0.9869 - recall: 0.9613 - precision: 0.9993 - iou: 0.9748 - val_loss: 0.2622 - val_acc: 0.9472 - val_recall: 0.8139 - val_precision: 0.8978 - val_iou: 0.7407 - lr: 3.0518e-09\n",
      "Epoch 246/400\n",
      "100/100 [==============================] - ETA: 0s - loss: 0.0051 - acc: 0.9869 - recall: 0.9613 - precision: 0.9993 - iou: 0.9748\n",
      "Epoch 246: val_acc did not improve from 0.95227\n",
      "100/100 [==============================] - 35s 354ms/step - loss: 0.0051 - acc: 0.9869 - recall: 0.9613 - precision: 0.9993 - iou: 0.9748 - val_loss: 0.2622 - val_acc: 0.9472 - val_recall: 0.8139 - val_precision: 0.8978 - val_iou: 0.7407 - lr: 3.0518e-09\n",
      "Epoch 247/400\n",
      "100/100 [==============================] - ETA: 0s - loss: 0.0051 - acc: 0.9869 - recall: 0.9613 - precision: 0.9993 - iou: 0.9748\n",
      "Epoch 247: val_acc did not improve from 0.95227\n",
      "100/100 [==============================] - 35s 354ms/step - loss: 0.0051 - acc: 0.9869 - recall: 0.9613 - precision: 0.9993 - iou: 0.9748 - val_loss: 0.2622 - val_acc: 0.9472 - val_recall: 0.8139 - val_precision: 0.8978 - val_iou: 0.7407 - lr: 3.0518e-09\n",
      "Epoch 248/400\n",
      "100/100 [==============================] - ETA: 0s - loss: 0.0051 - acc: 0.9869 - recall: 0.9613 - precision: 0.9993 - iou: 0.9748\n",
      "Epoch 248: val_acc did not improve from 0.95227\n",
      "100/100 [==============================] - 35s 354ms/step - loss: 0.0051 - acc: 0.9869 - recall: 0.9613 - precision: 0.9993 - iou: 0.9748 - val_loss: 0.2622 - val_acc: 0.9472 - val_recall: 0.8139 - val_precision: 0.8978 - val_iou: 0.7407 - lr: 3.0518e-09\n",
      "Epoch 249/400\n",
      "100/100 [==============================] - ETA: 0s - loss: 0.0051 - acc: 0.9869 - recall: 0.9613 - precision: 0.9993 - iou: 0.9748\n",
      "Epoch 249: val_acc did not improve from 0.95227\n",
      "100/100 [==============================] - 36s 365ms/step - loss: 0.0051 - acc: 0.9869 - recall: 0.9613 - precision: 0.9993 - iou: 0.9748 - val_loss: 0.2622 - val_acc: 0.9472 - val_recall: 0.8139 - val_precision: 0.8978 - val_iou: 0.7407 - lr: 3.0518e-09\n",
      "Epoch 250/400\n",
      "100/100 [==============================] - ETA: 0s - loss: 0.0051 - acc: 0.9869 - recall: 0.9613 - precision: 0.9993 - iou: 0.9748\n",
      "Epoch 250: val_acc did not improve from 0.95227\n",
      "100/100 [==============================] - 35s 354ms/step - loss: 0.0051 - acc: 0.9869 - recall: 0.9613 - precision: 0.9993 - iou: 0.9748 - val_loss: 0.2622 - val_acc: 0.9472 - val_recall: 0.8139 - val_precision: 0.8978 - val_iou: 0.7407 - lr: 3.0518e-09\n",
      "Epoch 251/400\n",
      "100/100 [==============================] - ETA: 0s - loss: 0.0051 - acc: 0.9869 - recall: 0.9613 - precision: 0.9993 - iou: 0.9748\n",
      "Epoch 251: val_acc did not improve from 0.95227\n",
      "100/100 [==============================] - 35s 354ms/step - loss: 0.0051 - acc: 0.9869 - recall: 0.9613 - precision: 0.9993 - iou: 0.9748 - val_loss: 0.2622 - val_acc: 0.9472 - val_recall: 0.8139 - val_precision: 0.8978 - val_iou: 0.7407 - lr: 3.0518e-09\n",
      "Epoch 252/400\n",
      "100/100 [==============================] - ETA: 0s - loss: 0.0051 - acc: 0.9869 - recall: 0.9613 - precision: 0.9993 - iou: 0.9748\n",
      "Epoch 252: val_acc did not improve from 0.95227\n",
      "100/100 [==============================] - 35s 355ms/step - loss: 0.0051 - acc: 0.9869 - recall: 0.9613 - precision: 0.9993 - iou: 0.9748 - val_loss: 0.2622 - val_acc: 0.9472 - val_recall: 0.8139 - val_precision: 0.8978 - val_iou: 0.7407 - lr: 3.0518e-09\n",
      "Epoch 253/400\n",
      "100/100 [==============================] - ETA: 0s - loss: 0.0051 - acc: 0.9869 - recall: 0.9613 - precision: 0.9993 - iou: 0.9748\n",
      "Epoch 253: val_acc did not improve from 0.95227\n",
      "100/100 [==============================] - 35s 354ms/step - loss: 0.0051 - acc: 0.9869 - recall: 0.9613 - precision: 0.9993 - iou: 0.9748 - val_loss: 0.2622 - val_acc: 0.9472 - val_recall: 0.8139 - val_precision: 0.8978 - val_iou: 0.7407 - lr: 3.0518e-09\n",
      "Epoch 254/400\n",
      "100/100 [==============================] - ETA: 0s - loss: 0.0051 - acc: 0.9869 - recall: 0.9613 - precision: 0.9993 - iou: 0.9748\n",
      "Epoch 254: val_acc did not improve from 0.95227\n",
      "100/100 [==============================] - 35s 355ms/step - loss: 0.0051 - acc: 0.9869 - recall: 0.9613 - precision: 0.9993 - iou: 0.9748 - val_loss: 0.2622 - val_acc: 0.9472 - val_recall: 0.8139 - val_precision: 0.8978 - val_iou: 0.7407 - lr: 3.0518e-09\n",
      "Epoch 255/400\n",
      "100/100 [==============================] - ETA: 0s - loss: 0.0051 - acc: 0.9869 - recall: 0.9613 - precision: 0.9993 - iou: 0.9748\n",
      "Epoch 255: val_acc did not improve from 0.95227\n",
      "100/100 [==============================] - 36s 365ms/step - loss: 0.0051 - acc: 0.9869 - recall: 0.9613 - precision: 0.9993 - iou: 0.9748 - val_loss: 0.2622 - val_acc: 0.9472 - val_recall: 0.8139 - val_precision: 0.8978 - val_iou: 0.7407 - lr: 3.0518e-09\n",
      "Epoch 256/400\n",
      "100/100 [==============================] - ETA: 0s - loss: 0.0051 - acc: 0.9869 - recall: 0.9613 - precision: 0.9993 - iou: 0.9748\n",
      "Epoch 256: val_acc did not improve from 0.95227\n",
      "100/100 [==============================] - 35s 354ms/step - loss: 0.0051 - acc: 0.9869 - recall: 0.9613 - precision: 0.9993 - iou: 0.9748 - val_loss: 0.2622 - val_acc: 0.9472 - val_recall: 0.8139 - val_precision: 0.8978 - val_iou: 0.7407 - lr: 3.0518e-09\n",
      "Epoch 257/400\n",
      "100/100 [==============================] - ETA: 0s - loss: 0.0051 - acc: 0.9869 - recall: 0.9613 - precision: 0.9993 - iou: 0.9748\n",
      "Epoch 257: val_acc did not improve from 0.95227\n",
      "100/100 [==============================] - 35s 355ms/step - loss: 0.0051 - acc: 0.9869 - recall: 0.9613 - precision: 0.9993 - iou: 0.9748 - val_loss: 0.2622 - val_acc: 0.9472 - val_recall: 0.8139 - val_precision: 0.8978 - val_iou: 0.7407 - lr: 3.0518e-09\n",
      "Epoch 258/400\n",
      "100/100 [==============================] - ETA: 0s - loss: 0.0051 - acc: 0.9869 - recall: 0.9613 - precision: 0.9993 - iou: 0.9748\n",
      "Epoch 258: val_acc did not improve from 0.95227\n",
      "100/100 [==============================] - 35s 355ms/step - loss: 0.0051 - acc: 0.9869 - recall: 0.9613 - precision: 0.9993 - iou: 0.9748 - val_loss: 0.2622 - val_acc: 0.9472 - val_recall: 0.8139 - val_precision: 0.8978 - val_iou: 0.7407 - lr: 3.0518e-09\n",
      "Epoch 259/400\n",
      "100/100 [==============================] - ETA: 0s - loss: 0.0051 - acc: 0.9869 - recall: 0.9613 - precision: 0.9993 - iou: 0.9748\n",
      "Epoch 259: val_acc did not improve from 0.95227\n",
      "\n",
      "Epoch 259: ReduceLROnPlateau reducing learning rate to 1.5258788677030566e-09.\n",
      "100/100 [==============================] - 35s 354ms/step - loss: 0.0051 - acc: 0.9869 - recall: 0.9613 - precision: 0.9993 - iou: 0.9748 - val_loss: 0.2622 - val_acc: 0.9472 - val_recall: 0.8139 - val_precision: 0.8978 - val_iou: 0.7407 - lr: 3.0518e-09\n",
      "Epoch 260/400\n",
      "100/100 [==============================] - ETA: 0s - loss: 0.0051 - acc: 0.9869 - recall: 0.9613 - precision: 0.9993 - iou: 0.9748\n",
      "Epoch 260: val_acc did not improve from 0.95227\n",
      "100/100 [==============================] - 35s 354ms/step - loss: 0.0051 - acc: 0.9869 - recall: 0.9613 - precision: 0.9993 - iou: 0.9748 - val_loss: 0.2622 - val_acc: 0.9472 - val_recall: 0.8139 - val_precision: 0.8978 - val_iou: 0.7407 - lr: 1.5259e-09\n",
      "Epoch 261/400\n",
      "100/100 [==============================] - ETA: 0s - loss: 0.0051 - acc: 0.9869 - recall: 0.9613 - precision: 0.9993 - iou: 0.9748\n",
      "Epoch 261: val_acc did not improve from 0.95227\n",
      "100/100 [==============================] - 35s 355ms/step - loss: 0.0051 - acc: 0.9869 - recall: 0.9613 - precision: 0.9993 - iou: 0.9748 - val_loss: 0.2622 - val_acc: 0.9472 - val_recall: 0.8139 - val_precision: 0.8978 - val_iou: 0.7407 - lr: 1.5259e-09\n",
      "Epoch 262/400\n",
      "100/100 [==============================] - ETA: 0s - loss: 0.0051 - acc: 0.9869 - recall: 0.9613 - precision: 0.9993 - iou: 0.9748\n",
      "Epoch 262: val_acc did not improve from 0.95227\n",
      "100/100 [==============================] - 35s 355ms/step - loss: 0.0051 - acc: 0.9869 - recall: 0.9613 - precision: 0.9993 - iou: 0.9748 - val_loss: 0.2622 - val_acc: 0.9472 - val_recall: 0.8139 - val_precision: 0.8978 - val_iou: 0.7407 - lr: 1.5259e-09\n",
      "Epoch 263/400\n",
      "100/100 [==============================] - ETA: 0s - loss: 0.0051 - acc: 0.9869 - recall: 0.9613 - precision: 0.9993 - iou: 0.9748\n",
      "Epoch 263: val_acc did not improve from 0.95227\n",
      "100/100 [==============================] - 35s 355ms/step - loss: 0.0051 - acc: 0.9869 - recall: 0.9613 - precision: 0.9993 - iou: 0.9748 - val_loss: 0.2622 - val_acc: 0.9472 - val_recall: 0.8139 - val_precision: 0.8978 - val_iou: 0.7407 - lr: 1.5259e-09\n",
      "Epoch 264/400\n",
      "100/100 [==============================] - ETA: 0s - loss: 0.0051 - acc: 0.9869 - recall: 0.9613 - precision: 0.9993 - iou: 0.9748\n",
      "Epoch 264: val_acc did not improve from 0.95227\n",
      "100/100 [==============================] - 35s 355ms/step - loss: 0.0051 - acc: 0.9869 - recall: 0.9613 - precision: 0.9993 - iou: 0.9748 - val_loss: 0.2622 - val_acc: 0.9472 - val_recall: 0.8139 - val_precision: 0.8978 - val_iou: 0.7407 - lr: 1.5259e-09\n",
      "Epoch 265/400\n",
      "100/100 [==============================] - ETA: 0s - loss: 0.0051 - acc: 0.9869 - recall: 0.9613 - precision: 0.9993 - iou: 0.9748\n",
      "Epoch 265: val_acc did not improve from 0.95227\n",
      "100/100 [==============================] - 35s 354ms/step - loss: 0.0051 - acc: 0.9869 - recall: 0.9613 - precision: 0.9993 - iou: 0.9748 - val_loss: 0.2622 - val_acc: 0.9472 - val_recall: 0.8139 - val_precision: 0.8978 - val_iou: 0.7407 - lr: 1.5259e-09\n",
      "Epoch 266/400\n",
      "100/100 [==============================] - ETA: 0s - loss: 0.0051 - acc: 0.9869 - recall: 0.9613 - precision: 0.9993 - iou: 0.9748\n",
      "Epoch 266: val_acc did not improve from 0.95227\n",
      "100/100 [==============================] - 35s 354ms/step - loss: 0.0051 - acc: 0.9869 - recall: 0.9613 - precision: 0.9993 - iou: 0.9748 - val_loss: 0.2622 - val_acc: 0.9472 - val_recall: 0.8139 - val_precision: 0.8978 - val_iou: 0.7407 - lr: 1.5259e-09\n",
      "Epoch 267/400\n",
      "100/100 [==============================] - ETA: 0s - loss: 0.0051 - acc: 0.9869 - recall: 0.9613 - precision: 0.9993 - iou: 0.9748\n",
      "Epoch 267: val_acc did not improve from 0.95227\n",
      "100/100 [==============================] - 35s 354ms/step - loss: 0.0051 - acc: 0.9869 - recall: 0.9613 - precision: 0.9993 - iou: 0.9748 - val_loss: 0.2622 - val_acc: 0.9472 - val_recall: 0.8139 - val_precision: 0.8978 - val_iou: 0.7407 - lr: 1.5259e-09\n",
      "Epoch 268/400\n",
      "100/100 [==============================] - ETA: 0s - loss: 0.0051 - acc: 0.9869 - recall: 0.9613 - precision: 0.9993 - iou: 0.9748\n",
      "Epoch 268: val_acc did not improve from 0.95227\n",
      "100/100 [==============================] - 35s 353ms/step - loss: 0.0051 - acc: 0.9869 - recall: 0.9613 - precision: 0.9993 - iou: 0.9748 - val_loss: 0.2622 - val_acc: 0.9472 - val_recall: 0.8139 - val_precision: 0.8978 - val_iou: 0.7407 - lr: 1.5259e-09\n",
      "Epoch 269/400\n",
      "100/100 [==============================] - ETA: 0s - loss: 0.0051 - acc: 0.9869 - recall: 0.9613 - precision: 0.9993 - iou: 0.9748\n",
      "Epoch 269: val_acc did not improve from 0.95227\n",
      "100/100 [==============================] - 35s 353ms/step - loss: 0.0051 - acc: 0.9869 - recall: 0.9613 - precision: 0.9993 - iou: 0.9748 - val_loss: 0.2622 - val_acc: 0.9472 - val_recall: 0.8139 - val_precision: 0.8978 - val_iou: 0.7407 - lr: 1.5259e-09\n",
      "Epoch 270/400\n",
      "100/100 [==============================] - ETA: 0s - loss: 0.0051 - acc: 0.9869 - recall: 0.9613 - precision: 0.9993 - iou: 0.9748\n",
      "Epoch 270: val_acc did not improve from 0.95227\n",
      "100/100 [==============================] - 35s 353ms/step - loss: 0.0051 - acc: 0.9869 - recall: 0.9613 - precision: 0.9993 - iou: 0.9748 - val_loss: 0.2622 - val_acc: 0.9472 - val_recall: 0.8139 - val_precision: 0.8978 - val_iou: 0.7407 - lr: 1.5259e-09\n",
      "Epoch 271/400\n",
      "100/100 [==============================] - ETA: 0s - loss: 0.0051 - acc: 0.9869 - recall: 0.9613 - precision: 0.9993 - iou: 0.9748\n",
      "Epoch 271: val_acc did not improve from 0.95227\n",
      "100/100 [==============================] - 35s 352ms/step - loss: 0.0051 - acc: 0.9869 - recall: 0.9613 - precision: 0.9993 - iou: 0.9748 - val_loss: 0.2622 - val_acc: 0.9472 - val_recall: 0.8139 - val_precision: 0.8978 - val_iou: 0.7407 - lr: 1.5259e-09\n",
      "Epoch 272/400\n",
      "100/100 [==============================] - ETA: 0s - loss: 0.0051 - acc: 0.9869 - recall: 0.9613 - precision: 0.9993 - iou: 0.9748\n",
      "Epoch 272: val_acc did not improve from 0.95227\n",
      "100/100 [==============================] - 35s 352ms/step - loss: 0.0051 - acc: 0.9869 - recall: 0.9613 - precision: 0.9993 - iou: 0.9748 - val_loss: 0.2622 - val_acc: 0.9472 - val_recall: 0.8139 - val_precision: 0.8978 - val_iou: 0.7407 - lr: 1.5259e-09\n",
      "Epoch 273/400\n",
      "100/100 [==============================] - ETA: 0s - loss: 0.0051 - acc: 0.9869 - recall: 0.9613 - precision: 0.9993 - iou: 0.9748\n",
      "Epoch 273: val_acc did not improve from 0.95227\n",
      "100/100 [==============================] - 35s 353ms/step - loss: 0.0051 - acc: 0.9869 - recall: 0.9613 - precision: 0.9993 - iou: 0.9748 - val_loss: 0.2622 - val_acc: 0.9472 - val_recall: 0.8139 - val_precision: 0.8978 - val_iou: 0.7407 - lr: 1.5259e-09\n",
      "Epoch 274/400\n",
      "100/100 [==============================] - ETA: 0s - loss: 0.0051 - acc: 0.9869 - recall: 0.9613 - precision: 0.9993 - iou: 0.9748\n",
      "Epoch 274: val_acc did not improve from 0.95227\n",
      "\n",
      "Epoch 274: ReduceLROnPlateau reducing learning rate to 7.629394338515283e-10.\n",
      "100/100 [==============================] - 35s 352ms/step - loss: 0.0051 - acc: 0.9869 - recall: 0.9613 - precision: 0.9993 - iou: 0.9748 - val_loss: 0.2622 - val_acc: 0.9472 - val_recall: 0.8139 - val_precision: 0.8978 - val_iou: 0.7407 - lr: 1.5259e-09\n",
      "Epoch 275/400\n",
      "100/100 [==============================] - ETA: 0s - loss: 0.0051 - acc: 0.9869 - recall: 0.9613 - precision: 0.9993 - iou: 0.9748\n",
      "Epoch 275: val_acc did not improve from 0.95227\n",
      "100/100 [==============================] - 35s 352ms/step - loss: 0.0051 - acc: 0.9869 - recall: 0.9613 - precision: 0.9993 - iou: 0.9748 - val_loss: 0.2622 - val_acc: 0.9472 - val_recall: 0.8139 - val_precision: 0.8978 - val_iou: 0.7407 - lr: 7.6294e-10\n",
      "Epoch 276/400\n",
      "100/100 [==============================] - ETA: 0s - loss: 0.0051 - acc: 0.9869 - recall: 0.9613 - precision: 0.9993 - iou: 0.9748\n",
      "Epoch 276: val_acc did not improve from 0.95227\n",
      "100/100 [==============================] - 35s 352ms/step - loss: 0.0051 - acc: 0.9869 - recall: 0.9613 - precision: 0.9993 - iou: 0.9748 - val_loss: 0.2622 - val_acc: 0.9472 - val_recall: 0.8139 - val_precision: 0.8978 - val_iou: 0.7407 - lr: 7.6294e-10\n",
      "Epoch 277/400\n",
      "100/100 [==============================] - ETA: 0s - loss: 0.0051 - acc: 0.9869 - recall: 0.9613 - precision: 0.9993 - iou: 0.9748\n",
      "Epoch 277: val_acc did not improve from 0.95227\n",
      "100/100 [==============================] - 35s 353ms/step - loss: 0.0051 - acc: 0.9869 - recall: 0.9613 - precision: 0.9993 - iou: 0.9748 - val_loss: 0.2622 - val_acc: 0.9472 - val_recall: 0.8139 - val_precision: 0.8978 - val_iou: 0.7407 - lr: 7.6294e-10\n",
      "Epoch 278/400\n",
      "100/100 [==============================] - ETA: 0s - loss: 0.0051 - acc: 0.9869 - recall: 0.9613 - precision: 0.9993 - iou: 0.9748\n",
      "Epoch 278: val_acc did not improve from 0.95227\n",
      "100/100 [==============================] - 35s 353ms/step - loss: 0.0051 - acc: 0.9869 - recall: 0.9613 - precision: 0.9993 - iou: 0.9748 - val_loss: 0.2622 - val_acc: 0.9472 - val_recall: 0.8139 - val_precision: 0.8978 - val_iou: 0.7407 - lr: 7.6294e-10\n",
      "Epoch 279/400\n",
      "100/100 [==============================] - ETA: 0s - loss: 0.0051 - acc: 0.9869 - recall: 0.9613 - precision: 0.9993 - iou: 0.9748\n",
      "Epoch 279: val_acc did not improve from 0.95227\n",
      "100/100 [==============================] - 36s 363ms/step - loss: 0.0051 - acc: 0.9869 - recall: 0.9613 - precision: 0.9993 - iou: 0.9748 - val_loss: 0.2622 - val_acc: 0.9472 - val_recall: 0.8139 - val_precision: 0.8978 - val_iou: 0.7407 - lr: 7.6294e-10\n",
      "Epoch 280/400\n",
      "100/100 [==============================] - ETA: 0s - loss: 0.0051 - acc: 0.9869 - recall: 0.9613 - precision: 0.9993 - iou: 0.9748\n",
      "Epoch 280: val_acc did not improve from 0.95227\n",
      "100/100 [==============================] - 35s 353ms/step - loss: 0.0051 - acc: 0.9869 - recall: 0.9613 - precision: 0.9993 - iou: 0.9748 - val_loss: 0.2622 - val_acc: 0.9472 - val_recall: 0.8139 - val_precision: 0.8978 - val_iou: 0.7407 - lr: 7.6294e-10\n",
      "Epoch 281/400\n",
      "100/100 [==============================] - ETA: 0s - loss: 0.0051 - acc: 0.9869 - recall: 0.9613 - precision: 0.9993 - iou: 0.9748\n",
      "Epoch 281: val_acc did not improve from 0.95227\n",
      "100/100 [==============================] - 36s 363ms/step - loss: 0.0051 - acc: 0.9869 - recall: 0.9613 - precision: 0.9993 - iou: 0.9748 - val_loss: 0.2622 - val_acc: 0.9472 - val_recall: 0.8139 - val_precision: 0.8978 - val_iou: 0.7407 - lr: 7.6294e-10\n",
      "Epoch 282/400\n",
      "100/100 [==============================] - ETA: 0s - loss: 0.0051 - acc: 0.9869 - recall: 0.9613 - precision: 0.9993 - iou: 0.9748\n",
      "Epoch 282: val_acc did not improve from 0.95227\n",
      "100/100 [==============================] - 36s 363ms/step - loss: 0.0051 - acc: 0.9869 - recall: 0.9613 - precision: 0.9993 - iou: 0.9748 - val_loss: 0.2622 - val_acc: 0.9472 - val_recall: 0.8139 - val_precision: 0.8978 - val_iou: 0.7407 - lr: 7.6294e-10\n",
      "Epoch 283/400\n",
      "100/100 [==============================] - ETA: 0s - loss: 0.0051 - acc: 0.9869 - recall: 0.9613 - precision: 0.9993 - iou: 0.9748\n",
      "Epoch 283: val_acc did not improve from 0.95227\n",
      "100/100 [==============================] - 35s 352ms/step - loss: 0.0051 - acc: 0.9869 - recall: 0.9613 - precision: 0.9993 - iou: 0.9748 - val_loss: 0.2622 - val_acc: 0.9472 - val_recall: 0.8139 - val_precision: 0.8978 - val_iou: 0.7407 - lr: 7.6294e-10\n",
      "Epoch 284/400\n",
      "100/100 [==============================] - ETA: 0s - loss: 0.0051 - acc: 0.9869 - recall: 0.9613 - precision: 0.9993 - iou: 0.9748\n",
      "Epoch 284: val_acc did not improve from 0.95227\n",
      "100/100 [==============================] - 35s 352ms/step - loss: 0.0051 - acc: 0.9869 - recall: 0.9613 - precision: 0.9993 - iou: 0.9748 - val_loss: 0.2622 - val_acc: 0.9472 - val_recall: 0.8139 - val_precision: 0.8978 - val_iou: 0.7407 - lr: 7.6294e-10\n",
      "Epoch 285/400\n",
      "100/100 [==============================] - ETA: 0s - loss: 0.0051 - acc: 0.9869 - recall: 0.9613 - precision: 0.9993 - iou: 0.9748\n",
      "Epoch 285: val_acc did not improve from 0.95227\n",
      "100/100 [==============================] - 36s 363ms/step - loss: 0.0051 - acc: 0.9869 - recall: 0.9613 - precision: 0.9993 - iou: 0.9748 - val_loss: 0.2622 - val_acc: 0.9472 - val_recall: 0.8139 - val_precision: 0.8978 - val_iou: 0.7407 - lr: 7.6294e-10\n",
      "Epoch 286/400\n",
      "100/100 [==============================] - ETA: 0s - loss: 0.0051 - acc: 0.9869 - recall: 0.9613 - precision: 0.9993 - iou: 0.9748\n",
      "Epoch 286: val_acc did not improve from 0.95227\n",
      "100/100 [==============================] - 35s 352ms/step - loss: 0.0051 - acc: 0.9869 - recall: 0.9613 - precision: 0.9993 - iou: 0.9748 - val_loss: 0.2622 - val_acc: 0.9472 - val_recall: 0.8139 - val_precision: 0.8978 - val_iou: 0.7407 - lr: 7.6294e-10\n",
      "Epoch 287/400\n",
      "100/100 [==============================] - ETA: 0s - loss: 0.0051 - acc: 0.9869 - recall: 0.9613 - precision: 0.9993 - iou: 0.9748\n",
      "Epoch 287: val_acc did not improve from 0.95227\n",
      "100/100 [==============================] - 35s 352ms/step - loss: 0.0051 - acc: 0.9869 - recall: 0.9613 - precision: 0.9993 - iou: 0.9748 - val_loss: 0.2622 - val_acc: 0.9472 - val_recall: 0.8139 - val_precision: 0.8978 - val_iou: 0.7407 - lr: 7.6294e-10\n",
      "Epoch 288/400\n",
      "100/100 [==============================] - ETA: 0s - loss: 0.0051 - acc: 0.9869 - recall: 0.9613 - precision: 0.9993 - iou: 0.9748\n",
      "Epoch 288: val_acc did not improve from 0.95227\n",
      "100/100 [==============================] - 35s 352ms/step - loss: 0.0051 - acc: 0.9869 - recall: 0.9613 - precision: 0.9993 - iou: 0.9748 - val_loss: 0.2622 - val_acc: 0.9472 - val_recall: 0.8139 - val_precision: 0.8978 - val_iou: 0.7407 - lr: 7.6294e-10\n",
      "Epoch 289/400\n",
      "100/100 [==============================] - ETA: 0s - loss: 0.0051 - acc: 0.9869 - recall: 0.9613 - precision: 0.9993 - iou: 0.9748\n",
      "Epoch 289: val_acc did not improve from 0.95227\n",
      "\n",
      "Epoch 289: ReduceLROnPlateau reducing learning rate to 3.8146971692576415e-10.\n",
      "100/100 [==============================] - 36s 363ms/step - loss: 0.0051 - acc: 0.9869 - recall: 0.9613 - precision: 0.9993 - iou: 0.9748 - val_loss: 0.2622 - val_acc: 0.9472 - val_recall: 0.8139 - val_precision: 0.8978 - val_iou: 0.7407 - lr: 7.6294e-10\n",
      "Epoch 290/400\n",
      "100/100 [==============================] - ETA: 0s - loss: 0.0051 - acc: 0.9869 - recall: 0.9613 - precision: 0.9993 - iou: 0.9748\n",
      "Epoch 290: val_acc did not improve from 0.95227\n",
      "100/100 [==============================] - 35s 352ms/step - loss: 0.0051 - acc: 0.9869 - recall: 0.9613 - precision: 0.9993 - iou: 0.9748 - val_loss: 0.2622 - val_acc: 0.9472 - val_recall: 0.8139 - val_precision: 0.8978 - val_iou: 0.7407 - lr: 3.8147e-10\n",
      "Epoch 291/400\n",
      "100/100 [==============================] - ETA: 0s - loss: 0.0051 - acc: 0.9869 - recall: 0.9613 - precision: 0.9993 - iou: 0.9748\n",
      "Epoch 291: val_acc did not improve from 0.95227\n",
      "100/100 [==============================] - 35s 351ms/step - loss: 0.0051 - acc: 0.9869 - recall: 0.9613 - precision: 0.9993 - iou: 0.9748 - val_loss: 0.2622 - val_acc: 0.9472 - val_recall: 0.8139 - val_precision: 0.8978 - val_iou: 0.7407 - lr: 3.8147e-10\n",
      "Epoch 292/400\n",
      "100/100 [==============================] - ETA: 0s - loss: 0.0051 - acc: 0.9869 - recall: 0.9613 - precision: 0.9993 - iou: 0.9748\n",
      "Epoch 292: val_acc did not improve from 0.95227\n",
      "100/100 [==============================] - 35s 352ms/step - loss: 0.0051 - acc: 0.9869 - recall: 0.9613 - precision: 0.9993 - iou: 0.9748 - val_loss: 0.2622 - val_acc: 0.9472 - val_recall: 0.8139 - val_precision: 0.8978 - val_iou: 0.7407 - lr: 3.8147e-10\n",
      "Epoch 293/400\n",
      "100/100 [==============================] - ETA: 0s - loss: 0.0051 - acc: 0.9869 - recall: 0.9613 - precision: 0.9993 - iou: 0.9748\n",
      "Epoch 293: val_acc did not improve from 0.95227\n",
      "100/100 [==============================] - 35s 352ms/step - loss: 0.0051 - acc: 0.9869 - recall: 0.9613 - precision: 0.9993 - iou: 0.9748 - val_loss: 0.2622 - val_acc: 0.9472 - val_recall: 0.8139 - val_precision: 0.8978 - val_iou: 0.7407 - lr: 3.8147e-10\n",
      "Epoch 294/400\n",
      "100/100 [==============================] - ETA: 0s - loss: 0.0051 - acc: 0.9869 - recall: 0.9613 - precision: 0.9993 - iou: 0.9748\n",
      "Epoch 294: val_acc did not improve from 0.95227\n",
      "100/100 [==============================] - 35s 352ms/step - loss: 0.0051 - acc: 0.9869 - recall: 0.9613 - precision: 0.9993 - iou: 0.9748 - val_loss: 0.2622 - val_acc: 0.9472 - val_recall: 0.8139 - val_precision: 0.8978 - val_iou: 0.7407 - lr: 3.8147e-10\n",
      "Epoch 295/400\n",
      "100/100 [==============================] - ETA: 0s - loss: 0.0051 - acc: 0.9869 - recall: 0.9613 - precision: 0.9993 - iou: 0.9748\n",
      "Epoch 295: val_acc did not improve from 0.95227\n",
      "100/100 [==============================] - 35s 352ms/step - loss: 0.0051 - acc: 0.9869 - recall: 0.9613 - precision: 0.9993 - iou: 0.9748 - val_loss: 0.2622 - val_acc: 0.9472 - val_recall: 0.8139 - val_precision: 0.8978 - val_iou: 0.7407 - lr: 3.8147e-10\n",
      "Epoch 296/400\n",
      "100/100 [==============================] - ETA: 0s - loss: 0.0051 - acc: 0.9869 - recall: 0.9613 - precision: 0.9993 - iou: 0.9748\n",
      "Epoch 296: val_acc did not improve from 0.95227\n",
      "100/100 [==============================] - 35s 352ms/step - loss: 0.0051 - acc: 0.9869 - recall: 0.9613 - precision: 0.9993 - iou: 0.9748 - val_loss: 0.2622 - val_acc: 0.9472 - val_recall: 0.8139 - val_precision: 0.8978 - val_iou: 0.7407 - lr: 3.8147e-10\n",
      "Epoch 297/400\n",
      "100/100 [==============================] - ETA: 0s - loss: 0.0051 - acc: 0.9869 - recall: 0.9613 - precision: 0.9993 - iou: 0.9748\n",
      "Epoch 297: val_acc did not improve from 0.95227\n",
      "100/100 [==============================] - 35s 352ms/step - loss: 0.0051 - acc: 0.9869 - recall: 0.9613 - precision: 0.9993 - iou: 0.9748 - val_loss: 0.2622 - val_acc: 0.9472 - val_recall: 0.8139 - val_precision: 0.8978 - val_iou: 0.7407 - lr: 3.8147e-10\n",
      "Epoch 298/400\n",
      "100/100 [==============================] - ETA: 0s - loss: 0.0051 - acc: 0.9869 - recall: 0.9613 - precision: 0.9993 - iou: 0.9748\n",
      "Epoch 298: val_acc did not improve from 0.95227\n",
      "100/100 [==============================] - 35s 352ms/step - loss: 0.0051 - acc: 0.9869 - recall: 0.9613 - precision: 0.9993 - iou: 0.9748 - val_loss: 0.2622 - val_acc: 0.9472 - val_recall: 0.8139 - val_precision: 0.8978 - val_iou: 0.7407 - lr: 3.8147e-10\n",
      "Epoch 299/400\n",
      "100/100 [==============================] - ETA: 0s - loss: 0.0051 - acc: 0.9869 - recall: 0.9613 - precision: 0.9993 - iou: 0.9748\n",
      "Epoch 299: val_acc did not improve from 0.95227\n",
      "100/100 [==============================] - 35s 352ms/step - loss: 0.0051 - acc: 0.9869 - recall: 0.9613 - precision: 0.9993 - iou: 0.9748 - val_loss: 0.2622 - val_acc: 0.9472 - val_recall: 0.8139 - val_precision: 0.8978 - val_iou: 0.7407 - lr: 3.8147e-10\n",
      "Epoch 300/400\n",
      "100/100 [==============================] - ETA: 0s - loss: 0.0051 - acc: 0.9869 - recall: 0.9613 - precision: 0.9993 - iou: 0.9748\n",
      "Epoch 300: val_acc did not improve from 0.95227\n",
      "100/100 [==============================] - 36s 363ms/step - loss: 0.0051 - acc: 0.9869 - recall: 0.9613 - precision: 0.9993 - iou: 0.9748 - val_loss: 0.2622 - val_acc: 0.9472 - val_recall: 0.8139 - val_precision: 0.8978 - val_iou: 0.7407 - lr: 3.8147e-10\n",
      "Epoch 301/400\n",
      "100/100 [==============================] - ETA: 0s - loss: 0.0051 - acc: 0.9869 - recall: 0.9613 - precision: 0.9993 - iou: 0.9748\n",
      "Epoch 301: val_acc did not improve from 0.95227\n",
      "100/100 [==============================] - 35s 352ms/step - loss: 0.0051 - acc: 0.9869 - recall: 0.9613 - precision: 0.9993 - iou: 0.9748 - val_loss: 0.2622 - val_acc: 0.9472 - val_recall: 0.8139 - val_precision: 0.8978 - val_iou: 0.7407 - lr: 3.8147e-10\n",
      "Epoch 302/400\n",
      "100/100 [==============================] - ETA: 0s - loss: 0.0051 - acc: 0.9869 - recall: 0.9613 - precision: 0.9993 - iou: 0.9748\n",
      "Epoch 302: val_acc did not improve from 0.95227\n",
      "100/100 [==============================] - 35s 352ms/step - loss: 0.0051 - acc: 0.9869 - recall: 0.9613 - precision: 0.9993 - iou: 0.9748 - val_loss: 0.2622 - val_acc: 0.9472 - val_recall: 0.8139 - val_precision: 0.8978 - val_iou: 0.7407 - lr: 3.8147e-10\n",
      "Epoch 303/400\n",
      "100/100 [==============================] - ETA: 0s - loss: 0.0051 - acc: 0.9869 - recall: 0.9613 - precision: 0.9993 - iou: 0.9748\n",
      "Epoch 303: val_acc did not improve from 0.95227\n",
      "100/100 [==============================] - 35s 352ms/step - loss: 0.0051 - acc: 0.9869 - recall: 0.9613 - precision: 0.9993 - iou: 0.9748 - val_loss: 0.2622 - val_acc: 0.9472 - val_recall: 0.8139 - val_precision: 0.8978 - val_iou: 0.7407 - lr: 3.8147e-10\n",
      "Epoch 304/400\n",
      "100/100 [==============================] - ETA: 0s - loss: 0.0051 - acc: 0.9869 - recall: 0.9613 - precision: 0.9993 - iou: 0.9748\n",
      "Epoch 304: val_acc did not improve from 0.95227\n",
      "\n",
      "Epoch 304: ReduceLROnPlateau reducing learning rate to 1.9073485846288207e-10.\n",
      "100/100 [==============================] - 35s 352ms/step - loss: 0.0051 - acc: 0.9869 - recall: 0.9613 - precision: 0.9993 - iou: 0.9748 - val_loss: 0.2622 - val_acc: 0.9472 - val_recall: 0.8139 - val_precision: 0.8978 - val_iou: 0.7407 - lr: 3.8147e-10\n",
      "Epoch 305/400\n",
      "100/100 [==============================] - ETA: 0s - loss: 0.0051 - acc: 0.9869 - recall: 0.9613 - precision: 0.9993 - iou: 0.9748\n",
      "Epoch 305: val_acc did not improve from 0.95227\n",
      "100/100 [==============================] - 35s 352ms/step - loss: 0.0051 - acc: 0.9869 - recall: 0.9613 - precision: 0.9993 - iou: 0.9748 - val_loss: 0.2622 - val_acc: 0.9472 - val_recall: 0.8139 - val_precision: 0.8978 - val_iou: 0.7407 - lr: 1.9073e-10\n",
      "Epoch 306/400\n",
      "100/100 [==============================] - ETA: 0s - loss: 0.0051 - acc: 0.9869 - recall: 0.9613 - precision: 0.9993 - iou: 0.9748\n",
      "Epoch 306: val_acc did not improve from 0.95227\n",
      "100/100 [==============================] - 35s 353ms/step - loss: 0.0051 - acc: 0.9869 - recall: 0.9613 - precision: 0.9993 - iou: 0.9748 - val_loss: 0.2622 - val_acc: 0.9472 - val_recall: 0.8139 - val_precision: 0.8978 - val_iou: 0.7407 - lr: 1.9073e-10\n",
      "Epoch 307/400\n",
      "100/100 [==============================] - ETA: 0s - loss: 0.0051 - acc: 0.9869 - recall: 0.9613 - precision: 0.9993 - iou: 0.9748\n",
      "Epoch 307: val_acc did not improve from 0.95227\n",
      "100/100 [==============================] - 35s 352ms/step - loss: 0.0051 - acc: 0.9869 - recall: 0.9613 - precision: 0.9993 - iou: 0.9748 - val_loss: 0.2622 - val_acc: 0.9472 - val_recall: 0.8139 - val_precision: 0.8978 - val_iou: 0.7407 - lr: 1.9073e-10\n",
      "Epoch 308/400\n",
      "100/100 [==============================] - ETA: 0s - loss: 0.0051 - acc: 0.9869 - recall: 0.9613 - precision: 0.9993 - iou: 0.9748\n",
      "Epoch 308: val_acc did not improve from 0.95227\n",
      "100/100 [==============================] - 36s 363ms/step - loss: 0.0051 - acc: 0.9869 - recall: 0.9613 - precision: 0.9993 - iou: 0.9748 - val_loss: 0.2622 - val_acc: 0.9472 - val_recall: 0.8139 - val_precision: 0.8978 - val_iou: 0.7407 - lr: 1.9073e-10\n",
      "Epoch 309/400\n",
      "100/100 [==============================] - ETA: 0s - loss: 0.0051 - acc: 0.9869 - recall: 0.9613 - precision: 0.9993 - iou: 0.9748\n",
      "Epoch 309: val_acc did not improve from 0.95227\n",
      "100/100 [==============================] - 35s 352ms/step - loss: 0.0051 - acc: 0.9869 - recall: 0.9613 - precision: 0.9993 - iou: 0.9748 - val_loss: 0.2622 - val_acc: 0.9472 - val_recall: 0.8139 - val_precision: 0.8978 - val_iou: 0.7407 - lr: 1.9073e-10\n",
      "Epoch 310/400\n",
      "100/100 [==============================] - ETA: 0s - loss: 0.0051 - acc: 0.9869 - recall: 0.9613 - precision: 0.9993 - iou: 0.9748\n",
      "Epoch 310: val_acc did not improve from 0.95227\n",
      "100/100 [==============================] - 36s 363ms/step - loss: 0.0051 - acc: 0.9869 - recall: 0.9613 - precision: 0.9993 - iou: 0.9748 - val_loss: 0.2622 - val_acc: 0.9472 - val_recall: 0.8139 - val_precision: 0.8978 - val_iou: 0.7407 - lr: 1.9073e-10\n",
      "Epoch 311/400\n",
      "100/100 [==============================] - ETA: 0s - loss: 0.0051 - acc: 0.9869 - recall: 0.9613 - precision: 0.9993 - iou: 0.9748\n",
      "Epoch 311: val_acc did not improve from 0.95227\n",
      "100/100 [==============================] - 35s 352ms/step - loss: 0.0051 - acc: 0.9869 - recall: 0.9613 - precision: 0.9993 - iou: 0.9748 - val_loss: 0.2622 - val_acc: 0.9472 - val_recall: 0.8139 - val_precision: 0.8978 - val_iou: 0.7407 - lr: 1.9073e-10\n",
      "Epoch 312/400\n",
      "100/100 [==============================] - ETA: 0s - loss: 0.0051 - acc: 0.9869 - recall: 0.9613 - precision: 0.9993 - iou: 0.9748\n",
      "Epoch 312: val_acc did not improve from 0.95227\n",
      "100/100 [==============================] - 35s 351ms/step - loss: 0.0051 - acc: 0.9869 - recall: 0.9613 - precision: 0.9993 - iou: 0.9748 - val_loss: 0.2622 - val_acc: 0.9472 - val_recall: 0.8139 - val_precision: 0.8978 - val_iou: 0.7407 - lr: 1.9073e-10\n",
      "Epoch 313/400\n",
      "100/100 [==============================] - ETA: 0s - loss: 0.0051 - acc: 0.9869 - recall: 0.9613 - precision: 0.9993 - iou: 0.9748\n",
      "Epoch 313: val_acc did not improve from 0.95227\n",
      "100/100 [==============================] - 35s 352ms/step - loss: 0.0051 - acc: 0.9869 - recall: 0.9613 - precision: 0.9993 - iou: 0.9748 - val_loss: 0.2622 - val_acc: 0.9472 - val_recall: 0.8139 - val_precision: 0.8978 - val_iou: 0.7407 - lr: 1.9073e-10\n",
      "Epoch 314/400\n",
      "100/100 [==============================] - ETA: 0s - loss: 0.0051 - acc: 0.9869 - recall: 0.9613 - precision: 0.9993 - iou: 0.9748\n",
      "Epoch 314: val_acc did not improve from 0.95227\n",
      "100/100 [==============================] - 35s 352ms/step - loss: 0.0051 - acc: 0.9869 - recall: 0.9613 - precision: 0.9993 - iou: 0.9748 - val_loss: 0.2622 - val_acc: 0.9472 - val_recall: 0.8139 - val_precision: 0.8978 - val_iou: 0.7407 - lr: 1.9073e-10\n",
      "Epoch 315/400\n",
      "100/100 [==============================] - ETA: 0s - loss: 0.0051 - acc: 0.9869 - recall: 0.9613 - precision: 0.9993 - iou: 0.9748\n",
      "Epoch 315: val_acc did not improve from 0.95227\n",
      "100/100 [==============================] - 35s 352ms/step - loss: 0.0051 - acc: 0.9869 - recall: 0.9613 - precision: 0.9993 - iou: 0.9748 - val_loss: 0.2622 - val_acc: 0.9472 - val_recall: 0.8139 - val_precision: 0.8978 - val_iou: 0.7407 - lr: 1.9073e-10\n",
      "Epoch 316/400\n",
      "100/100 [==============================] - ETA: 0s - loss: 0.0051 - acc: 0.9869 - recall: 0.9613 - precision: 0.9993 - iou: 0.9748\n",
      "Epoch 316: val_acc did not improve from 0.95227\n",
      "100/100 [==============================] - 36s 363ms/step - loss: 0.0051 - acc: 0.9869 - recall: 0.9613 - precision: 0.9993 - iou: 0.9748 - val_loss: 0.2622 - val_acc: 0.9472 - val_recall: 0.8139 - val_precision: 0.8978 - val_iou: 0.7407 - lr: 1.9073e-10\n",
      "Epoch 317/400\n",
      "100/100 [==============================] - ETA: 0s - loss: 0.0051 - acc: 0.9869 - recall: 0.9613 - precision: 0.9993 - iou: 0.9748\n",
      "Epoch 317: val_acc did not improve from 0.95227\n",
      "100/100 [==============================] - 36s 363ms/step - loss: 0.0051 - acc: 0.9869 - recall: 0.9613 - precision: 0.9993 - iou: 0.9748 - val_loss: 0.2622 - val_acc: 0.9472 - val_recall: 0.8139 - val_precision: 0.8978 - val_iou: 0.7407 - lr: 1.9073e-10\n",
      "Epoch 318/400\n",
      "100/100 [==============================] - ETA: 0s - loss: 0.0051 - acc: 0.9869 - recall: 0.9613 - precision: 0.9993 - iou: 0.9748\n",
      "Epoch 318: val_acc did not improve from 0.95227\n",
      "100/100 [==============================] - 36s 363ms/step - loss: 0.0051 - acc: 0.9869 - recall: 0.9613 - precision: 0.9993 - iou: 0.9748 - val_loss: 0.2622 - val_acc: 0.9472 - val_recall: 0.8139 - val_precision: 0.8978 - val_iou: 0.7407 - lr: 1.9073e-10\n",
      "Epoch 319/400\n",
      "100/100 [==============================] - ETA: 0s - loss: 0.0051 - acc: 0.9869 - recall: 0.9613 - precision: 0.9993 - iou: 0.9748\n",
      "Epoch 319: val_acc did not improve from 0.95227\n",
      "\n",
      "Epoch 319: ReduceLROnPlateau reducing learning rate to 1e-10.\n",
      "100/100 [==============================] - 35s 352ms/step - loss: 0.0051 - acc: 0.9869 - recall: 0.9613 - precision: 0.9993 - iou: 0.9748 - val_loss: 0.2622 - val_acc: 0.9472 - val_recall: 0.8139 - val_precision: 0.8978 - val_iou: 0.7407 - lr: 1.9073e-10\n",
      "Epoch 320/400\n",
      "100/100 [==============================] - ETA: 0s - loss: 0.0051 - acc: 0.9869 - recall: 0.9613 - precision: 0.9993 - iou: 0.9748\n",
      "Epoch 320: val_acc did not improve from 0.95227\n",
      "100/100 [==============================] - 35s 352ms/step - loss: 0.0051 - acc: 0.9869 - recall: 0.9613 - precision: 0.9993 - iou: 0.9748 - val_loss: 0.2622 - val_acc: 0.9472 - val_recall: 0.8139 - val_precision: 0.8978 - val_iou: 0.7407 - lr: 1.0000e-10\n",
      "Epoch 321/400\n",
      "100/100 [==============================] - ETA: 0s - loss: 0.0051 - acc: 0.9869 - recall: 0.9613 - precision: 0.9993 - iou: 0.9748\n",
      "Epoch 321: val_acc did not improve from 0.95227\n",
      "100/100 [==============================] - 35s 353ms/step - loss: 0.0051 - acc: 0.9869 - recall: 0.9613 - precision: 0.9993 - iou: 0.9748 - val_loss: 0.2622 - val_acc: 0.9472 - val_recall: 0.8139 - val_precision: 0.8978 - val_iou: 0.7407 - lr: 1.0000e-10\n",
      "Epoch 322/400\n",
      "100/100 [==============================] - ETA: 0s - loss: 0.0051 - acc: 0.9869 - recall: 0.9613 - precision: 0.9993 - iou: 0.9748\n",
      "Epoch 322: val_acc did not improve from 0.95227\n",
      "100/100 [==============================] - 35s 353ms/step - loss: 0.0051 - acc: 0.9869 - recall: 0.9613 - precision: 0.9993 - iou: 0.9748 - val_loss: 0.2622 - val_acc: 0.9472 - val_recall: 0.8139 - val_precision: 0.8978 - val_iou: 0.7407 - lr: 1.0000e-10\n",
      "Epoch 323/400\n",
      "100/100 [==============================] - ETA: 0s - loss: 0.0051 - acc: 0.9869 - recall: 0.9613 - precision: 0.9993 - iou: 0.9748\n",
      "Epoch 323: val_acc did not improve from 0.95227\n",
      "100/100 [==============================] - 35s 354ms/step - loss: 0.0051 - acc: 0.9869 - recall: 0.9613 - precision: 0.9993 - iou: 0.9748 - val_loss: 0.2622 - val_acc: 0.9472 - val_recall: 0.8139 - val_precision: 0.8978 - val_iou: 0.7407 - lr: 1.0000e-10\n",
      "Epoch 324/400\n",
      "100/100 [==============================] - ETA: 0s - loss: 0.0051 - acc: 0.9869 - recall: 0.9613 - precision: 0.9993 - iou: 0.9748\n",
      "Epoch 324: val_acc did not improve from 0.95227\n",
      "100/100 [==============================] - 36s 364ms/step - loss: 0.0051 - acc: 0.9869 - recall: 0.9613 - precision: 0.9993 - iou: 0.9748 - val_loss: 0.2622 - val_acc: 0.9472 - val_recall: 0.8139 - val_precision: 0.8978 - val_iou: 0.7407 - lr: 1.0000e-10\n",
      "Epoch 325/400\n",
      "100/100 [==============================] - ETA: 0s - loss: 0.0051 - acc: 0.9869 - recall: 0.9613 - precision: 0.9993 - iou: 0.9748\n",
      "Epoch 325: val_acc did not improve from 0.95227\n",
      "100/100 [==============================] - 35s 352ms/step - loss: 0.0051 - acc: 0.9869 - recall: 0.9613 - precision: 0.9993 - iou: 0.9748 - val_loss: 0.2622 - val_acc: 0.9472 - val_recall: 0.8139 - val_precision: 0.8978 - val_iou: 0.7407 - lr: 1.0000e-10\n",
      "Epoch 326/400\n",
      "100/100 [==============================] - ETA: 0s - loss: 0.0051 - acc: 0.9869 - recall: 0.9613 - precision: 0.9993 - iou: 0.9748\n",
      "Epoch 326: val_acc did not improve from 0.95227\n",
      "100/100 [==============================] - 35s 353ms/step - loss: 0.0051 - acc: 0.9869 - recall: 0.9613 - precision: 0.9993 - iou: 0.9748 - val_loss: 0.2622 - val_acc: 0.9472 - val_recall: 0.8139 - val_precision: 0.8978 - val_iou: 0.7407 - lr: 1.0000e-10\n",
      "Epoch 327/400\n",
      "100/100 [==============================] - ETA: 0s - loss: 0.0051 - acc: 0.9869 - recall: 0.9613 - precision: 0.9993 - iou: 0.9748\n",
      "Epoch 327: val_acc did not improve from 0.95227\n",
      "100/100 [==============================] - 35s 353ms/step - loss: 0.0051 - acc: 0.9869 - recall: 0.9613 - precision: 0.9993 - iou: 0.9748 - val_loss: 0.2622 - val_acc: 0.9472 - val_recall: 0.8139 - val_precision: 0.8978 - val_iou: 0.7407 - lr: 1.0000e-10\n",
      "Epoch 328/400\n",
      "100/100 [==============================] - ETA: 0s - loss: 0.0051 - acc: 0.9869 - recall: 0.9613 - precision: 0.9993 - iou: 0.9748\n",
      "Epoch 328: val_acc did not improve from 0.95227\n",
      "100/100 [==============================] - 35s 353ms/step - loss: 0.0051 - acc: 0.9869 - recall: 0.9613 - precision: 0.9993 - iou: 0.9748 - val_loss: 0.2622 - val_acc: 0.9472 - val_recall: 0.8139 - val_precision: 0.8978 - val_iou: 0.7407 - lr: 1.0000e-10\n",
      "Epoch 329/400\n",
      "100/100 [==============================] - ETA: 0s - loss: 0.0051 - acc: 0.9869 - recall: 0.9613 - precision: 0.9993 - iou: 0.9748\n",
      "Epoch 329: val_acc did not improve from 0.95227\n",
      "100/100 [==============================] - 35s 353ms/step - loss: 0.0051 - acc: 0.9869 - recall: 0.9613 - precision: 0.9993 - iou: 0.9748 - val_loss: 0.2622 - val_acc: 0.9472 - val_recall: 0.8139 - val_precision: 0.8978 - val_iou: 0.7407 - lr: 1.0000e-10\n",
      "Epoch 330/400\n",
      "100/100 [==============================] - ETA: 0s - loss: 0.0051 - acc: 0.9869 - recall: 0.9613 - precision: 0.9993 - iou: 0.9748\n",
      "Epoch 330: val_acc did not improve from 0.95227\n",
      "100/100 [==============================] - 35s 352ms/step - loss: 0.0051 - acc: 0.9869 - recall: 0.9613 - precision: 0.9993 - iou: 0.9748 - val_loss: 0.2622 - val_acc: 0.9472 - val_recall: 0.8139 - val_precision: 0.8978 - val_iou: 0.7407 - lr: 1.0000e-10\n",
      "Epoch 331/400\n",
      "100/100 [==============================] - ETA: 0s - loss: 0.0051 - acc: 0.9869 - recall: 0.9613 - precision: 0.9993 - iou: 0.9748\n",
      "Epoch 331: val_acc did not improve from 0.95227\n",
      "100/100 [==============================] - 35s 353ms/step - loss: 0.0051 - acc: 0.9869 - recall: 0.9613 - precision: 0.9993 - iou: 0.9748 - val_loss: 0.2622 - val_acc: 0.9472 - val_recall: 0.8139 - val_precision: 0.8978 - val_iou: 0.7407 - lr: 1.0000e-10\n",
      "Epoch 332/400\n",
      "100/100 [==============================] - ETA: 0s - loss: 0.0051 - acc: 0.9869 - recall: 0.9613 - precision: 0.9993 - iou: 0.9748\n",
      "Epoch 332: val_acc did not improve from 0.95227\n",
      "100/100 [==============================] - 35s 352ms/step - loss: 0.0051 - acc: 0.9869 - recall: 0.9613 - precision: 0.9993 - iou: 0.9748 - val_loss: 0.2622 - val_acc: 0.9472 - val_recall: 0.8139 - val_precision: 0.8978 - val_iou: 0.7407 - lr: 1.0000e-10\n",
      "Epoch 333/400\n",
      "100/100 [==============================] - ETA: 0s - loss: 0.0051 - acc: 0.9869 - recall: 0.9613 - precision: 0.9993 - iou: 0.9748\n",
      "Epoch 333: val_acc did not improve from 0.95227\n",
      "100/100 [==============================] - 36s 363ms/step - loss: 0.0051 - acc: 0.9869 - recall: 0.9613 - precision: 0.9993 - iou: 0.9748 - val_loss: 0.2622 - val_acc: 0.9472 - val_recall: 0.8139 - val_precision: 0.8978 - val_iou: 0.7407 - lr: 1.0000e-10\n",
      "Epoch 334/400\n",
      "100/100 [==============================] - ETA: 0s - loss: 0.0051 - acc: 0.9869 - recall: 0.9613 - precision: 0.9993 - iou: 0.9748\n",
      "Epoch 334: val_acc did not improve from 0.95227\n",
      "100/100 [==============================] - 35s 351ms/step - loss: 0.0051 - acc: 0.9869 - recall: 0.9613 - precision: 0.9993 - iou: 0.9748 - val_loss: 0.2622 - val_acc: 0.9472 - val_recall: 0.8139 - val_precision: 0.8978 - val_iou: 0.7407 - lr: 1.0000e-10\n",
      "Epoch 335/400\n",
      "100/100 [==============================] - ETA: 0s - loss: 0.0051 - acc: 0.9869 - recall: 0.9613 - precision: 0.9993 - iou: 0.9748\n",
      "Epoch 335: val_acc did not improve from 0.95227\n",
      "100/100 [==============================] - 35s 352ms/step - loss: 0.0051 - acc: 0.9869 - recall: 0.9613 - precision: 0.9993 - iou: 0.9748 - val_loss: 0.2622 - val_acc: 0.9472 - val_recall: 0.8139 - val_precision: 0.8978 - val_iou: 0.7407 - lr: 1.0000e-10\n",
      "Epoch 336/400\n",
      "100/100 [==============================] - ETA: 0s - loss: 0.0051 - acc: 0.9869 - recall: 0.9613 - precision: 0.9993 - iou: 0.9748\n",
      "Epoch 336: val_acc did not improve from 0.95227\n",
      "100/100 [==============================] - 35s 355ms/step - loss: 0.0051 - acc: 0.9869 - recall: 0.9613 - precision: 0.9993 - iou: 0.9748 - val_loss: 0.2622 - val_acc: 0.9472 - val_recall: 0.8139 - val_precision: 0.8978 - val_iou: 0.7407 - lr: 1.0000e-10\n",
      "Epoch 337/400\n",
      "100/100 [==============================] - ETA: 0s - loss: 0.0051 - acc: 0.9869 - recall: 0.9613 - precision: 0.9993 - iou: 0.9748\n",
      "Epoch 337: val_acc did not improve from 0.95227\n",
      "100/100 [==============================] - 35s 353ms/step - loss: 0.0051 - acc: 0.9869 - recall: 0.9613 - precision: 0.9993 - iou: 0.9748 - val_loss: 0.2622 - val_acc: 0.9472 - val_recall: 0.8139 - val_precision: 0.8978 - val_iou: 0.7407 - lr: 1.0000e-10\n",
      "Epoch 338/400\n",
      "100/100 [==============================] - ETA: 0s - loss: 0.0051 - acc: 0.9869 - recall: 0.9613 - precision: 0.9993 - iou: 0.9748\n",
      "Epoch 338: val_acc did not improve from 0.95227\n",
      "100/100 [==============================] - 35s 354ms/step - loss: 0.0051 - acc: 0.9869 - recall: 0.9613 - precision: 0.9993 - iou: 0.9748 - val_loss: 0.2622 - val_acc: 0.9472 - val_recall: 0.8139 - val_precision: 0.8978 - val_iou: 0.7407 - lr: 1.0000e-10\n",
      "Epoch 339/400\n",
      "100/100 [==============================] - ETA: 0s - loss: 0.0051 - acc: 0.9869 - recall: 0.9613 - precision: 0.9993 - iou: 0.9748\n",
      "Epoch 339: val_acc did not improve from 0.95227\n",
      "100/100 [==============================] - 36s 365ms/step - loss: 0.0051 - acc: 0.9869 - recall: 0.9613 - precision: 0.9993 - iou: 0.9748 - val_loss: 0.2622 - val_acc: 0.9472 - val_recall: 0.8139 - val_precision: 0.8978 - val_iou: 0.7407 - lr: 1.0000e-10\n",
      "Epoch 340/400\n",
      "100/100 [==============================] - ETA: 0s - loss: 0.0051 - acc: 0.9869 - recall: 0.9613 - precision: 0.9993 - iou: 0.9748\n",
      "Epoch 340: val_acc did not improve from 0.95227\n",
      "100/100 [==============================] - 36s 365ms/step - loss: 0.0051 - acc: 0.9869 - recall: 0.9613 - precision: 0.9993 - iou: 0.9748 - val_loss: 0.2622 - val_acc: 0.9472 - val_recall: 0.8139 - val_precision: 0.8978 - val_iou: 0.7407 - lr: 1.0000e-10\n",
      "Epoch 341/400\n",
      "100/100 [==============================] - ETA: 0s - loss: 0.0051 - acc: 0.9869 - recall: 0.9613 - precision: 0.9993 - iou: 0.9748\n",
      "Epoch 341: val_acc did not improve from 0.95227\n",
      "100/100 [==============================] - 35s 355ms/step - loss: 0.0051 - acc: 0.9869 - recall: 0.9613 - precision: 0.9993 - iou: 0.9748 - val_loss: 0.2622 - val_acc: 0.9472 - val_recall: 0.8139 - val_precision: 0.8978 - val_iou: 0.7407 - lr: 1.0000e-10\n",
      "Epoch 342/400\n",
      "100/100 [==============================] - ETA: 0s - loss: 0.0051 - acc: 0.9869 - recall: 0.9613 - precision: 0.9993 - iou: 0.9748\n",
      "Epoch 342: val_acc did not improve from 0.95227\n",
      "100/100 [==============================] - 35s 355ms/step - loss: 0.0051 - acc: 0.9869 - recall: 0.9613 - precision: 0.9993 - iou: 0.9748 - val_loss: 0.2622 - val_acc: 0.9472 - val_recall: 0.8139 - val_precision: 0.8978 - val_iou: 0.7407 - lr: 1.0000e-10\n",
      "Epoch 343/400\n",
      "100/100 [==============================] - ETA: 0s - loss: 0.0051 - acc: 0.9869 - recall: 0.9613 - precision: 0.9993 - iou: 0.9748\n",
      "Epoch 343: val_acc did not improve from 0.95227\n",
      "100/100 [==============================] - 36s 364ms/step - loss: 0.0051 - acc: 0.9869 - recall: 0.9613 - precision: 0.9993 - iou: 0.9748 - val_loss: 0.2622 - val_acc: 0.9472 - val_recall: 0.8139 - val_precision: 0.8978 - val_iou: 0.7407 - lr: 1.0000e-10\n",
      "Epoch 344/400\n",
      "100/100 [==============================] - ETA: 0s - loss: 0.0051 - acc: 0.9869 - recall: 0.9613 - precision: 0.9993 - iou: 0.9748\n",
      "Epoch 344: val_acc did not improve from 0.95227\n",
      "100/100 [==============================] - 35s 354ms/step - loss: 0.0051 - acc: 0.9869 - recall: 0.9613 - precision: 0.9993 - iou: 0.9748 - val_loss: 0.2622 - val_acc: 0.9472 - val_recall: 0.8139 - val_precision: 0.8978 - val_iou: 0.7407 - lr: 1.0000e-10\n",
      "Epoch 345/400\n",
      "100/100 [==============================] - ETA: 0s - loss: 0.0051 - acc: 0.9869 - recall: 0.9613 - precision: 0.9993 - iou: 0.9748\n",
      "Epoch 345: val_acc did not improve from 0.95227\n",
      "100/100 [==============================] - 35s 354ms/step - loss: 0.0051 - acc: 0.9869 - recall: 0.9613 - precision: 0.9993 - iou: 0.9748 - val_loss: 0.2622 - val_acc: 0.9472 - val_recall: 0.8139 - val_precision: 0.8978 - val_iou: 0.7407 - lr: 1.0000e-10\n",
      "Epoch 346/400\n",
      "100/100 [==============================] - ETA: 0s - loss: 0.0051 - acc: 0.9869 - recall: 0.9613 - precision: 0.9993 - iou: 0.9748\n",
      "Epoch 346: val_acc did not improve from 0.95227\n",
      "100/100 [==============================] - 35s 353ms/step - loss: 0.0051 - acc: 0.9869 - recall: 0.9613 - precision: 0.9993 - iou: 0.9748 - val_loss: 0.2622 - val_acc: 0.9472 - val_recall: 0.8139 - val_precision: 0.8978 - val_iou: 0.7407 - lr: 1.0000e-10\n",
      "Epoch 347/400\n",
      "100/100 [==============================] - ETA: 0s - loss: 0.0051 - acc: 0.9869 - recall: 0.9613 - precision: 0.9993 - iou: 0.9748\n",
      "Epoch 347: val_acc did not improve from 0.95227\n",
      "100/100 [==============================] - 36s 365ms/step - loss: 0.0051 - acc: 0.9869 - recall: 0.9613 - precision: 0.9993 - iou: 0.9748 - val_loss: 0.2622 - val_acc: 0.9472 - val_recall: 0.8139 - val_precision: 0.8978 - val_iou: 0.7407 - lr: 1.0000e-10\n",
      "Epoch 348/400\n",
      "100/100 [==============================] - ETA: 0s - loss: 0.0051 - acc: 0.9869 - recall: 0.9613 - precision: 0.9993 - iou: 0.9748\n",
      "Epoch 348: val_acc did not improve from 0.95227\n",
      "100/100 [==============================] - 35s 354ms/step - loss: 0.0051 - acc: 0.9869 - recall: 0.9613 - precision: 0.9993 - iou: 0.9748 - val_loss: 0.2622 - val_acc: 0.9472 - val_recall: 0.8139 - val_precision: 0.8978 - val_iou: 0.7407 - lr: 1.0000e-10\n",
      "Epoch 349/400\n",
      "100/100 [==============================] - ETA: 0s - loss: 0.0051 - acc: 0.9869 - recall: 0.9613 - precision: 0.9993 - iou: 0.9748\n",
      "Epoch 349: val_acc did not improve from 0.95227\n",
      "100/100 [==============================] - 35s 354ms/step - loss: 0.0051 - acc: 0.9869 - recall: 0.9613 - precision: 0.9993 - iou: 0.9748 - val_loss: 0.2622 - val_acc: 0.9472 - val_recall: 0.8139 - val_precision: 0.8978 - val_iou: 0.7407 - lr: 1.0000e-10\n",
      "Epoch 350/400\n",
      "100/100 [==============================] - ETA: 0s - loss: 0.0051 - acc: 0.9869 - recall: 0.9613 - precision: 0.9993 - iou: 0.9748\n",
      "Epoch 350: val_acc did not improve from 0.95227\n",
      "100/100 [==============================] - 36s 365ms/step - loss: 0.0051 - acc: 0.9869 - recall: 0.9613 - precision: 0.9993 - iou: 0.9748 - val_loss: 0.2622 - val_acc: 0.9472 - val_recall: 0.8139 - val_precision: 0.8978 - val_iou: 0.7407 - lr: 1.0000e-10\n",
      "Epoch 351/400\n",
      "100/100 [==============================] - ETA: 0s - loss: 0.0051 - acc: 0.9869 - recall: 0.9613 - precision: 0.9993 - iou: 0.9748\n",
      "Epoch 351: val_acc did not improve from 0.95227\n",
      "100/100 [==============================] - 36s 365ms/step - loss: 0.0051 - acc: 0.9869 - recall: 0.9613 - precision: 0.9993 - iou: 0.9748 - val_loss: 0.2622 - val_acc: 0.9472 - val_recall: 0.8139 - val_precision: 0.8978 - val_iou: 0.7407 - lr: 1.0000e-10\n",
      "Epoch 352/400\n",
      "100/100 [==============================] - ETA: 0s - loss: 0.0051 - acc: 0.9869 - recall: 0.9613 - precision: 0.9993 - iou: 0.9748\n",
      "Epoch 352: val_acc did not improve from 0.95227\n",
      "100/100 [==============================] - 36s 359ms/step - loss: 0.0051 - acc: 0.9869 - recall: 0.9613 - precision: 0.9993 - iou: 0.9748 - val_loss: 0.2622 - val_acc: 0.9472 - val_recall: 0.8139 - val_precision: 0.8978 - val_iou: 0.7407 - lr: 1.0000e-10\n",
      "Epoch 353/400\n",
      "100/100 [==============================] - ETA: 0s - loss: 0.0051 - acc: 0.9869 - recall: 0.9613 - precision: 0.9993 - iou: 0.9748\n",
      "Epoch 353: val_acc did not improve from 0.95227\n",
      "100/100 [==============================] - 35s 354ms/step - loss: 0.0051 - acc: 0.9869 - recall: 0.9613 - precision: 0.9993 - iou: 0.9748 - val_loss: 0.2622 - val_acc: 0.9472 - val_recall: 0.8139 - val_precision: 0.8978 - val_iou: 0.7407 - lr: 1.0000e-10\n",
      "Epoch 354/400\n",
      "100/100 [==============================] - ETA: 0s - loss: 0.0051 - acc: 0.9869 - recall: 0.9613 - precision: 0.9993 - iou: 0.9748\n",
      "Epoch 354: val_acc did not improve from 0.95227\n",
      "100/100 [==============================] - 35s 354ms/step - loss: 0.0051 - acc: 0.9869 - recall: 0.9613 - precision: 0.9993 - iou: 0.9748 - val_loss: 0.2622 - val_acc: 0.9472 - val_recall: 0.8139 - val_precision: 0.8978 - val_iou: 0.7407 - lr: 1.0000e-10\n",
      "Epoch 355/400\n",
      "100/100 [==============================] - ETA: 0s - loss: 0.0051 - acc: 0.9869 - recall: 0.9613 - precision: 0.9993 - iou: 0.9748\n",
      "Epoch 355: val_acc did not improve from 0.95227\n",
      "100/100 [==============================] - 35s 354ms/step - loss: 0.0051 - acc: 0.9869 - recall: 0.9613 - precision: 0.9993 - iou: 0.9748 - val_loss: 0.2622 - val_acc: 0.9472 - val_recall: 0.8139 - val_precision: 0.8978 - val_iou: 0.7407 - lr: 1.0000e-10\n",
      "Epoch 356/400\n",
      "100/100 [==============================] - ETA: 0s - loss: 0.0051 - acc: 0.9869 - recall: 0.9613 - precision: 0.9993 - iou: 0.9748\n",
      "Epoch 356: val_acc did not improve from 0.95227\n",
      "100/100 [==============================] - 36s 365ms/step - loss: 0.0051 - acc: 0.9869 - recall: 0.9613 - precision: 0.9993 - iou: 0.9748 - val_loss: 0.2622 - val_acc: 0.9472 - val_recall: 0.8139 - val_precision: 0.8978 - val_iou: 0.7407 - lr: 1.0000e-10\n",
      "Epoch 357/400\n",
      "100/100 [==============================] - ETA: 0s - loss: 0.0051 - acc: 0.9869 - recall: 0.9613 - precision: 0.9993 - iou: 0.9748\n",
      "Epoch 357: val_acc did not improve from 0.95227\n",
      "100/100 [==============================] - 36s 365ms/step - loss: 0.0051 - acc: 0.9869 - recall: 0.9613 - precision: 0.9993 - iou: 0.9748 - val_loss: 0.2622 - val_acc: 0.9472 - val_recall: 0.8139 - val_precision: 0.8978 - val_iou: 0.7407 - lr: 1.0000e-10\n",
      "Epoch 358/400\n",
      "100/100 [==============================] - ETA: 0s - loss: 0.0051 - acc: 0.9869 - recall: 0.9613 - precision: 0.9993 - iou: 0.9748\n",
      "Epoch 358: val_acc did not improve from 0.95227\n",
      "100/100 [==============================] - 35s 355ms/step - loss: 0.0051 - acc: 0.9869 - recall: 0.9613 - precision: 0.9993 - iou: 0.9748 - val_loss: 0.2622 - val_acc: 0.9472 - val_recall: 0.8139 - val_precision: 0.8978 - val_iou: 0.7407 - lr: 1.0000e-10\n",
      "Epoch 359/400\n",
      "100/100 [==============================] - ETA: 0s - loss: 0.0051 - acc: 0.9869 - recall: 0.9613 - precision: 0.9993 - iou: 0.9748\n",
      "Epoch 359: val_acc did not improve from 0.95227\n",
      "100/100 [==============================] - 36s 365ms/step - loss: 0.0051 - acc: 0.9869 - recall: 0.9613 - precision: 0.9993 - iou: 0.9748 - val_loss: 0.2622 - val_acc: 0.9472 - val_recall: 0.8139 - val_precision: 0.8978 - val_iou: 0.7407 - lr: 1.0000e-10\n",
      "Epoch 360/400\n",
      "100/100 [==============================] - ETA: 0s - loss: 0.0051 - acc: 0.9869 - recall: 0.9613 - precision: 0.9993 - iou: 0.9748\n",
      "Epoch 360: val_acc did not improve from 0.95227\n",
      "100/100 [==============================] - 36s 365ms/step - loss: 0.0051 - acc: 0.9869 - recall: 0.9613 - precision: 0.9993 - iou: 0.9748 - val_loss: 0.2622 - val_acc: 0.9472 - val_recall: 0.8139 - val_precision: 0.8978 - val_iou: 0.7407 - lr: 1.0000e-10\n",
      "Epoch 361/400\n",
      "100/100 [==============================] - ETA: 0s - loss: 0.0051 - acc: 0.9869 - recall: 0.9613 - precision: 0.9993 - iou: 0.9748\n",
      "Epoch 361: val_acc did not improve from 0.95227\n",
      "100/100 [==============================] - 35s 355ms/step - loss: 0.0051 - acc: 0.9869 - recall: 0.9613 - precision: 0.9993 - iou: 0.9748 - val_loss: 0.2622 - val_acc: 0.9472 - val_recall: 0.8139 - val_precision: 0.8978 - val_iou: 0.7407 - lr: 1.0000e-10\n",
      "Epoch 362/400\n",
      "100/100 [==============================] - ETA: 0s - loss: 0.0051 - acc: 0.9869 - recall: 0.9613 - precision: 0.9993 - iou: 0.9748\n",
      "Epoch 362: val_acc did not improve from 0.95227\n",
      "100/100 [==============================] - 35s 355ms/step - loss: 0.0051 - acc: 0.9869 - recall: 0.9613 - precision: 0.9993 - iou: 0.9748 - val_loss: 0.2622 - val_acc: 0.9472 - val_recall: 0.8139 - val_precision: 0.8978 - val_iou: 0.7407 - lr: 1.0000e-10\n",
      "Epoch 363/400\n",
      "100/100 [==============================] - ETA: 0s - loss: 0.0051 - acc: 0.9869 - recall: 0.9613 - precision: 0.9993 - iou: 0.9748\n",
      "Epoch 363: val_acc did not improve from 0.95227\n",
      "100/100 [==============================] - 37s 365ms/step - loss: 0.0051 - acc: 0.9869 - recall: 0.9613 - precision: 0.9993 - iou: 0.9748 - val_loss: 0.2622 - val_acc: 0.9472 - val_recall: 0.8139 - val_precision: 0.8978 - val_iou: 0.7407 - lr: 1.0000e-10\n",
      "Epoch 364/400\n",
      "100/100 [==============================] - ETA: 0s - loss: 0.0051 - acc: 0.9869 - recall: 0.9613 - precision: 0.9993 - iou: 0.9748\n",
      "Epoch 364: val_acc did not improve from 0.95227\n",
      "100/100 [==============================] - 35s 354ms/step - loss: 0.0051 - acc: 0.9869 - recall: 0.9613 - precision: 0.9993 - iou: 0.9748 - val_loss: 0.2622 - val_acc: 0.9472 - val_recall: 0.8139 - val_precision: 0.8978 - val_iou: 0.7407 - lr: 1.0000e-10\n",
      "Epoch 365/400\n",
      "100/100 [==============================] - ETA: 0s - loss: 0.0051 - acc: 0.9869 - recall: 0.9613 - precision: 0.9993 - iou: 0.9748\n",
      "Epoch 365: val_acc did not improve from 0.95227\n",
      "100/100 [==============================] - 35s 354ms/step - loss: 0.0051 - acc: 0.9869 - recall: 0.9613 - precision: 0.9993 - iou: 0.9748 - val_loss: 0.2622 - val_acc: 0.9472 - val_recall: 0.8139 - val_precision: 0.8978 - val_iou: 0.7407 - lr: 1.0000e-10\n",
      "Epoch 366/400\n",
      "100/100 [==============================] - ETA: 0s - loss: 0.0051 - acc: 0.9869 - recall: 0.9613 - precision: 0.9993 - iou: 0.9748\n",
      "Epoch 366: val_acc did not improve from 0.95227\n",
      "100/100 [==============================] - 36s 364ms/step - loss: 0.0051 - acc: 0.9869 - recall: 0.9613 - precision: 0.9993 - iou: 0.9748 - val_loss: 0.2622 - val_acc: 0.9472 - val_recall: 0.8139 - val_precision: 0.8978 - val_iou: 0.7407 - lr: 1.0000e-10\n",
      "Epoch 367/400\n",
      "100/100 [==============================] - ETA: 0s - loss: 0.0051 - acc: 0.9869 - recall: 0.9613 - precision: 0.9993 - iou: 0.9748\n",
      "Epoch 367: val_acc did not improve from 0.95227\n",
      "100/100 [==============================] - 35s 353ms/step - loss: 0.0051 - acc: 0.9869 - recall: 0.9613 - precision: 0.9993 - iou: 0.9748 - val_loss: 0.2622 - val_acc: 0.9472 - val_recall: 0.8139 - val_precision: 0.8978 - val_iou: 0.7407 - lr: 1.0000e-10\n",
      "Epoch 368/400\n",
      "100/100 [==============================] - ETA: 0s - loss: 0.0051 - acc: 0.9869 - recall: 0.9613 - precision: 0.9993 - iou: 0.9748\n",
      "Epoch 368: val_acc did not improve from 0.95227\n",
      "100/100 [==============================] - 35s 353ms/step - loss: 0.0051 - acc: 0.9869 - recall: 0.9613 - precision: 0.9993 - iou: 0.9748 - val_loss: 0.2622 - val_acc: 0.9472 - val_recall: 0.8139 - val_precision: 0.8978 - val_iou: 0.7407 - lr: 1.0000e-10\n",
      "Epoch 369/400\n",
      "100/100 [==============================] - ETA: 0s - loss: 0.0051 - acc: 0.9869 - recall: 0.9613 - precision: 0.9993 - iou: 0.9748\n",
      "Epoch 369: val_acc did not improve from 0.95227\n",
      "100/100 [==============================] - 35s 353ms/step - loss: 0.0051 - acc: 0.9869 - recall: 0.9613 - precision: 0.9993 - iou: 0.9748 - val_loss: 0.2622 - val_acc: 0.9472 - val_recall: 0.8139 - val_precision: 0.8978 - val_iou: 0.7407 - lr: 1.0000e-10\n",
      "Epoch 370/400\n",
      "100/100 [==============================] - ETA: 0s - loss: 0.0051 - acc: 0.9869 - recall: 0.9613 - precision: 0.9993 - iou: 0.9748\n",
      "Epoch 370: val_acc did not improve from 0.95227\n",
      "100/100 [==============================] - 35s 352ms/step - loss: 0.0051 - acc: 0.9869 - recall: 0.9613 - precision: 0.9993 - iou: 0.9748 - val_loss: 0.2622 - val_acc: 0.9472 - val_recall: 0.8139 - val_precision: 0.8978 - val_iou: 0.7407 - lr: 1.0000e-10\n",
      "Epoch 371/400\n",
      "100/100 [==============================] - ETA: 0s - loss: 0.0051 - acc: 0.9869 - recall: 0.9613 - precision: 0.9993 - iou: 0.9748\n",
      "Epoch 371: val_acc did not improve from 0.95227\n",
      "100/100 [==============================] - 35s 353ms/step - loss: 0.0051 - acc: 0.9869 - recall: 0.9613 - precision: 0.9993 - iou: 0.9748 - val_loss: 0.2622 - val_acc: 0.9472 - val_recall: 0.8139 - val_precision: 0.8978 - val_iou: 0.7407 - lr: 1.0000e-10\n",
      "Epoch 372/400\n",
      "100/100 [==============================] - ETA: 0s - loss: 0.0051 - acc: 0.9869 - recall: 0.9613 - precision: 0.9993 - iou: 0.9748\n",
      "Epoch 372: val_acc did not improve from 0.95227\n",
      "100/100 [==============================] - 36s 364ms/step - loss: 0.0051 - acc: 0.9869 - recall: 0.9613 - precision: 0.9993 - iou: 0.9748 - val_loss: 0.2622 - val_acc: 0.9472 - val_recall: 0.8139 - val_precision: 0.8978 - val_iou: 0.7407 - lr: 1.0000e-10\n",
      "Epoch 373/400\n",
      "100/100 [==============================] - ETA: 0s - loss: 0.0051 - acc: 0.9869 - recall: 0.9613 - precision: 0.9993 - iou: 0.9748\n",
      "Epoch 373: val_acc did not improve from 0.95227\n",
      "100/100 [==============================] - 35s 352ms/step - loss: 0.0051 - acc: 0.9869 - recall: 0.9613 - precision: 0.9993 - iou: 0.9748 - val_loss: 0.2622 - val_acc: 0.9472 - val_recall: 0.8139 - val_precision: 0.8978 - val_iou: 0.7407 - lr: 1.0000e-10\n",
      "Epoch 374/400\n",
      "100/100 [==============================] - ETA: 0s - loss: 0.0051 - acc: 0.9869 - recall: 0.9613 - precision: 0.9993 - iou: 0.9748\n",
      "Epoch 374: val_acc did not improve from 0.95227\n",
      "100/100 [==============================] - 35s 352ms/step - loss: 0.0051 - acc: 0.9869 - recall: 0.9613 - precision: 0.9993 - iou: 0.9748 - val_loss: 0.2622 - val_acc: 0.9472 - val_recall: 0.8139 - val_precision: 0.8978 - val_iou: 0.7407 - lr: 1.0000e-10\n",
      "Epoch 375/400\n",
      "100/100 [==============================] - ETA: 0s - loss: 0.0051 - acc: 0.9869 - recall: 0.9613 - precision: 0.9993 - iou: 0.9748\n",
      "Epoch 375: val_acc did not improve from 0.95227\n",
      "100/100 [==============================] - 35s 353ms/step - loss: 0.0051 - acc: 0.9869 - recall: 0.9613 - precision: 0.9993 - iou: 0.9748 - val_loss: 0.2622 - val_acc: 0.9472 - val_recall: 0.8139 - val_precision: 0.8978 - val_iou: 0.7407 - lr: 1.0000e-10\n",
      "Epoch 376/400\n",
      "100/100 [==============================] - ETA: 0s - loss: 0.0051 - acc: 0.9869 - recall: 0.9613 - precision: 0.9993 - iou: 0.9748\n",
      "Epoch 376: val_acc did not improve from 0.95227\n",
      "100/100 [==============================] - 35s 353ms/step - loss: 0.0051 - acc: 0.9869 - recall: 0.9613 - precision: 0.9993 - iou: 0.9748 - val_loss: 0.2622 - val_acc: 0.9472 - val_recall: 0.8139 - val_precision: 0.8978 - val_iou: 0.7407 - lr: 1.0000e-10\n",
      "Epoch 377/400\n",
      "100/100 [==============================] - ETA: 0s - loss: 0.0051 - acc: 0.9869 - recall: 0.9613 - precision: 0.9993 - iou: 0.9748\n",
      "Epoch 377: val_acc did not improve from 0.95227\n",
      "100/100 [==============================] - 35s 353ms/step - loss: 0.0051 - acc: 0.9869 - recall: 0.9613 - precision: 0.9993 - iou: 0.9748 - val_loss: 0.2622 - val_acc: 0.9472 - val_recall: 0.8139 - val_precision: 0.8978 - val_iou: 0.7407 - lr: 1.0000e-10\n",
      "Epoch 378/400\n",
      "100/100 [==============================] - ETA: 0s - loss: 0.0051 - acc: 0.9869 - recall: 0.9613 - precision: 0.9993 - iou: 0.9748\n",
      "Epoch 378: val_acc did not improve from 0.95227\n",
      "100/100 [==============================] - 35s 352ms/step - loss: 0.0051 - acc: 0.9869 - recall: 0.9613 - precision: 0.9993 - iou: 0.9748 - val_loss: 0.2622 - val_acc: 0.9472 - val_recall: 0.8139 - val_precision: 0.8978 - val_iou: 0.7407 - lr: 1.0000e-10\n",
      "Epoch 379/400\n",
      "100/100 [==============================] - ETA: 0s - loss: 0.0051 - acc: 0.9869 - recall: 0.9613 - precision: 0.9993 - iou: 0.9748\n",
      "Epoch 379: val_acc did not improve from 0.95227\n",
      "100/100 [==============================] - 35s 353ms/step - loss: 0.0051 - acc: 0.9869 - recall: 0.9613 - precision: 0.9993 - iou: 0.9748 - val_loss: 0.2622 - val_acc: 0.9472 - val_recall: 0.8139 - val_precision: 0.8978 - val_iou: 0.7407 - lr: 1.0000e-10\n",
      "Epoch 380/400\n",
      "100/100 [==============================] - ETA: 0s - loss: 0.0051 - acc: 0.9869 - recall: 0.9613 - precision: 0.9993 - iou: 0.9748\n",
      "Epoch 380: val_acc did not improve from 0.95227\n",
      "100/100 [==============================] - 35s 352ms/step - loss: 0.0051 - acc: 0.9869 - recall: 0.9613 - precision: 0.9993 - iou: 0.9748 - val_loss: 0.2622 - val_acc: 0.9472 - val_recall: 0.8139 - val_precision: 0.8978 - val_iou: 0.7407 - lr: 1.0000e-10\n",
      "Epoch 381/400\n",
      "100/100 [==============================] - ETA: 0s - loss: 0.0051 - acc: 0.9869 - recall: 0.9613 - precision: 0.9993 - iou: 0.9748\n",
      "Epoch 381: val_acc did not improve from 0.95227\n",
      "100/100 [==============================] - 36s 363ms/step - loss: 0.0051 - acc: 0.9869 - recall: 0.9613 - precision: 0.9993 - iou: 0.9748 - val_loss: 0.2622 - val_acc: 0.9472 - val_recall: 0.8139 - val_precision: 0.8978 - val_iou: 0.7407 - lr: 1.0000e-10\n",
      "Epoch 382/400\n",
      "100/100 [==============================] - ETA: 0s - loss: 0.0051 - acc: 0.9869 - recall: 0.9613 - precision: 0.9993 - iou: 0.9748\n",
      "Epoch 382: val_acc did not improve from 0.95227\n",
      "100/100 [==============================] - 35s 352ms/step - loss: 0.0051 - acc: 0.9869 - recall: 0.9613 - precision: 0.9993 - iou: 0.9748 - val_loss: 0.2622 - val_acc: 0.9472 - val_recall: 0.8139 - val_precision: 0.8978 - val_iou: 0.7407 - lr: 1.0000e-10\n",
      "Epoch 383/400\n",
      "100/100 [==============================] - ETA: 0s - loss: 0.0051 - acc: 0.9869 - recall: 0.9613 - precision: 0.9993 - iou: 0.9748\n",
      "Epoch 383: val_acc did not improve from 0.95227\n",
      "100/100 [==============================] - 36s 363ms/step - loss: 0.0051 - acc: 0.9869 - recall: 0.9613 - precision: 0.9993 - iou: 0.9748 - val_loss: 0.2622 - val_acc: 0.9472 - val_recall: 0.8139 - val_precision: 0.8978 - val_iou: 0.7407 - lr: 1.0000e-10\n",
      "Epoch 384/400\n",
      "100/100 [==============================] - ETA: 0s - loss: 0.0051 - acc: 0.9869 - recall: 0.9613 - precision: 0.9993 - iou: 0.9748\n",
      "Epoch 384: val_acc did not improve from 0.95227\n",
      "100/100 [==============================] - 35s 352ms/step - loss: 0.0051 - acc: 0.9869 - recall: 0.9613 - precision: 0.9993 - iou: 0.9748 - val_loss: 0.2622 - val_acc: 0.9472 - val_recall: 0.8139 - val_precision: 0.8978 - val_iou: 0.7407 - lr: 1.0000e-10\n",
      "Epoch 385/400\n",
      "100/100 [==============================] - ETA: 0s - loss: 0.0051 - acc: 0.9869 - recall: 0.9613 - precision: 0.9993 - iou: 0.9748\n",
      "Epoch 385: val_acc did not improve from 0.95227\n",
      "100/100 [==============================] - 35s 352ms/step - loss: 0.0051 - acc: 0.9869 - recall: 0.9613 - precision: 0.9993 - iou: 0.9748 - val_loss: 0.2622 - val_acc: 0.9472 - val_recall: 0.8139 - val_precision: 0.8978 - val_iou: 0.7407 - lr: 1.0000e-10\n",
      "Epoch 386/400\n",
      "100/100 [==============================] - ETA: 0s - loss: 0.0051 - acc: 0.9869 - recall: 0.9613 - precision: 0.9993 - iou: 0.9748\n",
      "Epoch 386: val_acc did not improve from 0.95227\n",
      "100/100 [==============================] - 35s 352ms/step - loss: 0.0051 - acc: 0.9869 - recall: 0.9613 - precision: 0.9993 - iou: 0.9748 - val_loss: 0.2622 - val_acc: 0.9472 - val_recall: 0.8139 - val_precision: 0.8978 - val_iou: 0.7407 - lr: 1.0000e-10\n",
      "Epoch 387/400\n",
      "100/100 [==============================] - ETA: 0s - loss: 0.0051 - acc: 0.9869 - recall: 0.9613 - precision: 0.9993 - iou: 0.9748\n",
      "Epoch 387: val_acc did not improve from 0.95227\n",
      "100/100 [==============================] - 35s 352ms/step - loss: 0.0051 - acc: 0.9869 - recall: 0.9613 - precision: 0.9993 - iou: 0.9748 - val_loss: 0.2622 - val_acc: 0.9472 - val_recall: 0.8139 - val_precision: 0.8978 - val_iou: 0.7407 - lr: 1.0000e-10\n",
      "Epoch 388/400\n",
      "100/100 [==============================] - ETA: 0s - loss: 0.0051 - acc: 0.9869 - recall: 0.9613 - precision: 0.9993 - iou: 0.9748\n",
      "Epoch 388: val_acc did not improve from 0.95227\n",
      "100/100 [==============================] - 35s 352ms/step - loss: 0.0051 - acc: 0.9869 - recall: 0.9613 - precision: 0.9993 - iou: 0.9748 - val_loss: 0.2622 - val_acc: 0.9472 - val_recall: 0.8139 - val_precision: 0.8978 - val_iou: 0.7407 - lr: 1.0000e-10\n",
      "Epoch 389/400\n",
      "100/100 [==============================] - ETA: 0s - loss: 0.0051 - acc: 0.9869 - recall: 0.9613 - precision: 0.9993 - iou: 0.9748\n",
      "Epoch 389: val_acc did not improve from 0.95227\n",
      "100/100 [==============================] - 35s 353ms/step - loss: 0.0051 - acc: 0.9869 - recall: 0.9613 - precision: 0.9993 - iou: 0.9748 - val_loss: 0.2622 - val_acc: 0.9472 - val_recall: 0.8139 - val_precision: 0.8978 - val_iou: 0.7407 - lr: 1.0000e-10\n",
      "Epoch 390/400\n",
      "100/100 [==============================] - ETA: 0s - loss: 0.0051 - acc: 0.9869 - recall: 0.9613 - precision: 0.9993 - iou: 0.9748\n",
      "Epoch 390: val_acc did not improve from 0.95227\n",
      "100/100 [==============================] - 35s 352ms/step - loss: 0.0051 - acc: 0.9869 - recall: 0.9613 - precision: 0.9993 - iou: 0.9748 - val_loss: 0.2622 - val_acc: 0.9472 - val_recall: 0.8139 - val_precision: 0.8978 - val_iou: 0.7407 - lr: 1.0000e-10\n",
      "Epoch 391/400\n",
      "100/100 [==============================] - ETA: 0s - loss: 0.0051 - acc: 0.9869 - recall: 0.9613 - precision: 0.9993 - iou: 0.9748\n",
      "Epoch 391: val_acc did not improve from 0.95227\n",
      "100/100 [==============================] - 35s 353ms/step - loss: 0.0051 - acc: 0.9869 - recall: 0.9613 - precision: 0.9993 - iou: 0.9748 - val_loss: 0.2622 - val_acc: 0.9472 - val_recall: 0.8139 - val_precision: 0.8978 - val_iou: 0.7407 - lr: 1.0000e-10\n",
      "Epoch 392/400\n",
      "100/100 [==============================] - ETA: 0s - loss: 0.0051 - acc: 0.9869 - recall: 0.9613 - precision: 0.9993 - iou: 0.9748\n",
      "Epoch 392: val_acc did not improve from 0.95227\n",
      "100/100 [==============================] - 35s 353ms/step - loss: 0.0051 - acc: 0.9869 - recall: 0.9613 - precision: 0.9993 - iou: 0.9748 - val_loss: 0.2622 - val_acc: 0.9472 - val_recall: 0.8139 - val_precision: 0.8978 - val_iou: 0.7407 - lr: 1.0000e-10\n",
      "Epoch 393/400\n",
      "100/100 [==============================] - ETA: 0s - loss: 0.0051 - acc: 0.9869 - recall: 0.9613 - precision: 0.9993 - iou: 0.9748\n",
      "Epoch 393: val_acc did not improve from 0.95227\n",
      "100/100 [==============================] - 36s 363ms/step - loss: 0.0051 - acc: 0.9869 - recall: 0.9613 - precision: 0.9993 - iou: 0.9748 - val_loss: 0.2622 - val_acc: 0.9472 - val_recall: 0.8139 - val_precision: 0.8978 - val_iou: 0.7407 - lr: 1.0000e-10\n",
      "Epoch 394/400\n",
      "100/100 [==============================] - ETA: 0s - loss: 0.0051 - acc: 0.9869 - recall: 0.9613 - precision: 0.9993 - iou: 0.9748\n",
      "Epoch 394: val_acc did not improve from 0.95227\n",
      "100/100 [==============================] - 35s 352ms/step - loss: 0.0051 - acc: 0.9869 - recall: 0.9613 - precision: 0.9993 - iou: 0.9748 - val_loss: 0.2622 - val_acc: 0.9472 - val_recall: 0.8139 - val_precision: 0.8978 - val_iou: 0.7407 - lr: 1.0000e-10\n",
      "Epoch 395/400\n",
      "100/100 [==============================] - ETA: 0s - loss: 0.0051 - acc: 0.9869 - recall: 0.9613 - precision: 0.9993 - iou: 0.9748\n",
      "Epoch 395: val_acc did not improve from 0.95227\n",
      "100/100 [==============================] - 35s 352ms/step - loss: 0.0051 - acc: 0.9869 - recall: 0.9613 - precision: 0.9993 - iou: 0.9748 - val_loss: 0.2622 - val_acc: 0.9472 - val_recall: 0.8139 - val_precision: 0.8978 - val_iou: 0.7407 - lr: 1.0000e-10\n",
      "Epoch 396/400\n",
      "100/100 [==============================] - ETA: 0s - loss: 0.0051 - acc: 0.9869 - recall: 0.9613 - precision: 0.9993 - iou: 0.9748\n",
      "Epoch 396: val_acc did not improve from 0.95227\n",
      "100/100 [==============================] - 35s 353ms/step - loss: 0.0051 - acc: 0.9869 - recall: 0.9613 - precision: 0.9993 - iou: 0.9748 - val_loss: 0.2622 - val_acc: 0.9472 - val_recall: 0.8139 - val_precision: 0.8978 - val_iou: 0.7407 - lr: 1.0000e-10\n",
      "Epoch 397/400\n",
      "100/100 [==============================] - ETA: 0s - loss: 0.0051 - acc: 0.9869 - recall: 0.9613 - precision: 0.9993 - iou: 0.9748\n",
      "Epoch 397: val_acc did not improve from 0.95227\n",
      "100/100 [==============================] - 35s 353ms/step - loss: 0.0051 - acc: 0.9869 - recall: 0.9613 - precision: 0.9993 - iou: 0.9748 - val_loss: 0.2622 - val_acc: 0.9472 - val_recall: 0.8139 - val_precision: 0.8978 - val_iou: 0.7407 - lr: 1.0000e-10\n",
      "Epoch 398/400\n",
      "100/100 [==============================] - ETA: 0s - loss: 0.0051 - acc: 0.9869 - recall: 0.9613 - precision: 0.9993 - iou: 0.9748\n",
      "Epoch 398: val_acc did not improve from 0.95227\n",
      "100/100 [==============================] - 36s 364ms/step - loss: 0.0051 - acc: 0.9869 - recall: 0.9613 - precision: 0.9993 - iou: 0.9748 - val_loss: 0.2622 - val_acc: 0.9472 - val_recall: 0.8139 - val_precision: 0.8978 - val_iou: 0.7407 - lr: 1.0000e-10\n",
      "Epoch 399/400\n",
      "100/100 [==============================] - ETA: 0s - loss: 0.0051 - acc: 0.9869 - recall: 0.9613 - precision: 0.9993 - iou: 0.9748\n",
      "Epoch 399: val_acc did not improve from 0.95227\n",
      "100/100 [==============================] - 35s 352ms/step - loss: 0.0051 - acc: 0.9869 - recall: 0.9613 - precision: 0.9993 - iou: 0.9748 - val_loss: 0.2622 - val_acc: 0.9472 - val_recall: 0.8139 - val_precision: 0.8978 - val_iou: 0.7407 - lr: 1.0000e-10\n",
      "Epoch 400/400\n",
      "100/100 [==============================] - ETA: 0s - loss: 0.0051 - acc: 0.9869 - recall: 0.9613 - precision: 0.9993 - iou: 0.9748\n",
      "Epoch 400: val_acc did not improve from 0.95227\n",
      "100/100 [==============================] - 35s 352ms/step - loss: 0.0051 - acc: 0.9869 - recall: 0.9613 - precision: 0.9993 - iou: 0.9748 - val_loss: 0.2622 - val_acc: 0.9472 - val_recall: 0.8139 - val_precision: 0.8978 - val_iou: 0.7407 - lr: 1.0000e-10\n"
     ]
    },
    {
     "data": {
      "text/plain": [
       "<keras.src.callbacks.History at 0x7b228a6c6e90>"
      ]
     },
     "execution_count": 13,
     "metadata": {},
     "output_type": "execute_result"
    }
   ],
   "source": [
    "train_steps = len(train_x)//batch\n",
    "valid_steps = len(valid_x)//batch\n",
    "\n",
    "if len(train_x) % batch != 0:\n",
    "    train_steps += 1\n",
    "if len(valid_x) % batch != 0:\n",
    "    valid_steps += 1\n",
    "\n",
    "model.fit(train_dataset,\n",
    "        validation_data=valid_dataset,\n",
    "        epochs=epochs,\n",
    "        steps_per_epoch=train_steps,\n",
    "        validation_steps=valid_steps,\n",
    "        callbacks=callbacks)"
   ]
  },
  {
   "cell_type": "code",
   "execution_count": 14,
   "id": "f54346ec",
   "metadata": {
    "execution": {
     "iopub.execute_input": "2023-12-28T01:28:33.753408Z",
     "iopub.status.busy": "2023-12-28T01:28:33.752993Z",
     "iopub.status.idle": "2023-12-28T01:28:33.777926Z",
     "shell.execute_reply": "2023-12-28T01:28:33.777223Z"
    },
    "papermill": {
     "duration": 3.582522,
     "end_time": "2023-12-28T01:28:33.779928",
     "exception": false,
     "start_time": "2023-12-28T01:28:30.197406",
     "status": "completed"
    },
    "tags": []
   },
   "outputs": [],
   "source": [
    "import os\n",
    "import numpy as np\n",
    "import cv2\n",
    "import tensorflow as tf\n",
    "from tensorflow.keras.utils import CustomObjectScope\n",
    "from tqdm import tqdm\n",
    "# from data import load_data, tf_dataset\n",
    "# from train import iou\n"
   ]
  },
  {
   "cell_type": "code",
   "execution_count": 15,
   "id": "705b39a3",
   "metadata": {
    "execution": {
     "iopub.execute_input": "2023-12-28T01:28:40.648136Z",
     "iopub.status.busy": "2023-12-28T01:28:40.647779Z",
     "iopub.status.idle": "2023-12-28T01:28:40.655166Z",
     "shell.execute_reply": "2023-12-28T01:28:40.654211Z"
    },
    "papermill": {
     "duration": 3.473478,
     "end_time": "2023-12-28T01:28:40.657069",
     "exception": false,
     "start_time": "2023-12-28T01:28:37.183591",
     "status": "completed"
    },
    "tags": []
   },
   "outputs": [],
   "source": [
    "def test_read_image(path):\n",
    "    x = cv2.imread(path, cv2.IMREAD_COLOR)\n",
    "    x = cv2.resize(x, (256, 256))\n",
    "    x = x/255.0\n",
    "    return x\n",
    "\n",
    "def test_read_mask(path):\n",
    "    x = cv2.imread(path, cv2.IMREAD_GRAYSCALE)\n",
    "    x = cv2.resize(x, (256, 256))\n",
    "    x = np.expand_dims(x, axis=-1)\n",
    "    return x\n",
    "\n",
    "def test_mask_parse(mask):\n",
    "    mask = np.squeeze(mask)\n",
    "    mask = [mask, mask, mask]\n",
    "    mask = np.transpose(mask, (1, 2, 0))\n",
    "    return mask\n"
   ]
  },
  {
   "cell_type": "code",
   "execution_count": 16,
   "id": "fd9754b2",
   "metadata": {
    "execution": {
     "iopub.execute_input": "2023-12-28T01:28:47.810264Z",
     "iopub.status.busy": "2023-12-28T01:28:47.809882Z",
     "iopub.status.idle": "2023-12-28T01:28:48.002575Z",
     "shell.execute_reply": "2023-12-28T01:28:48.001430Z"
    },
    "papermill": {
     "duration": 3.738446,
     "end_time": "2023-12-28T01:28:48.004724",
     "exception": false,
     "start_time": "2023-12-28T01:28:44.266278",
     "status": "completed"
    },
    "tags": []
   },
   "outputs": [
    {
     "name": "stdout",
     "output_type": "stream",
     "text": [
      "(8, 256, 256, 3) (8, 256, 256, 1)\n"
     ]
    }
   ],
   "source": [
    "test_dataset = tf_dataset(test_x, test_y, batch=batch)\n",
    "for x,y in test_dataset:\n",
    "    print(x.shape,y.shape)\n",
    "    break;"
   ]
  },
  {
   "cell_type": "code",
   "execution_count": 17,
   "id": "d5ebdb2b",
   "metadata": {
    "execution": {
     "iopub.execute_input": "2023-12-28T01:28:54.838958Z",
     "iopub.status.busy": "2023-12-28T01:28:54.838605Z",
     "iopub.status.idle": "2023-12-28T01:29:06.750975Z",
     "shell.execute_reply": "2023-12-28T01:29:06.750010Z"
    },
    "papermill": {
     "duration": 15.380002,
     "end_time": "2023-12-28T01:29:06.752865",
     "exception": false,
     "start_time": "2023-12-28T01:28:51.372863",
     "status": "completed"
    },
    "tags": []
   },
   "outputs": [
    {
     "name": "stdout",
     "output_type": "stream",
     "text": [
      "13/13 [==============================] - 2s 118ms/step - loss: 0.2479 - acc: 0.9497 - recall: 0.8000 - precision: 0.9267 - iou: 0.7550\n"
     ]
    },
    {
     "name": "stderr",
     "output_type": "stream",
     "text": [
      "  0%|          | 0/100 [00:00<?, ?it/s]"
     ]
    },
    {
     "name": "stdout",
     "output_type": "stream",
     "text": [
      "1/1 [==============================] - 2s 2s/step\n"
     ]
    },
    {
     "name": "stderr",
     "output_type": "stream",
     "text": [
      "  1%|          | 1/100 [00:01<02:52,  1.75s/it]"
     ]
    },
    {
     "name": "stdout",
     "output_type": "stream",
     "text": [
      "1/1 [==============================] - 0s 21ms/step\n",
      "1/1 [==============================] - 0s 20ms/step\n"
     ]
    },
    {
     "name": "stderr",
     "output_type": "stream",
     "text": [
      "  3%|▎         | 3/100 [00:01<00:49,  1.96it/s]"
     ]
    },
    {
     "name": "stdout",
     "output_type": "stream",
     "text": [
      "1/1 [==============================] - 0s 21ms/step\n",
      "1/1 [==============================] - 0s 20ms/step\n"
     ]
    },
    {
     "name": "stderr",
     "output_type": "stream",
     "text": [
      "  5%|▌         | 5/100 [00:02<00:27,  3.49it/s]"
     ]
    },
    {
     "name": "stdout",
     "output_type": "stream",
     "text": [
      "1/1 [==============================] - 0s 22ms/step\n",
      "1/1 [==============================] - 0s 21ms/step\n"
     ]
    },
    {
     "name": "stderr",
     "output_type": "stream",
     "text": [
      "  7%|▋         | 7/100 [00:02<00:18,  5.07it/s]"
     ]
    },
    {
     "name": "stdout",
     "output_type": "stream",
     "text": [
      "1/1 [==============================] - 0s 21ms/step\n",
      "1/1 [==============================] - 0s 21ms/step\n"
     ]
    },
    {
     "name": "stderr",
     "output_type": "stream",
     "text": [
      "  9%|▉         | 9/100 [00:02<00:13,  6.55it/s]"
     ]
    },
    {
     "name": "stdout",
     "output_type": "stream",
     "text": [
      "1/1 [==============================] - 0s 21ms/step\n",
      "1/1 [==============================] - 0s 21ms/step\n"
     ]
    },
    {
     "name": "stderr",
     "output_type": "stream",
     "text": [
      " 11%|█         | 11/100 [00:02<00:11,  7.95it/s]"
     ]
    },
    {
     "name": "stdout",
     "output_type": "stream",
     "text": [
      "1/1 [==============================] - 0s 20ms/step\n",
      "1/1 [==============================] - 0s 20ms/step\n"
     ]
    },
    {
     "name": "stderr",
     "output_type": "stream",
     "text": [
      " 13%|█▎        | 13/100 [00:02<00:09,  9.24it/s]"
     ]
    },
    {
     "name": "stdout",
     "output_type": "stream",
     "text": [
      "1/1 [==============================] - 0s 20ms/step\n",
      "1/1 [==============================] - 0s 20ms/step\n"
     ]
    },
    {
     "name": "stderr",
     "output_type": "stream",
     "text": [
      " 15%|█▌        | 15/100 [00:02<00:08, 10.32it/s]"
     ]
    },
    {
     "name": "stdout",
     "output_type": "stream",
     "text": [
      "1/1 [==============================] - 0s 20ms/step\n",
      "1/1 [==============================] - 0s 21ms/step\n"
     ]
    },
    {
     "name": "stderr",
     "output_type": "stream",
     "text": [
      " 17%|█▋        | 17/100 [00:02<00:07, 11.07it/s]"
     ]
    },
    {
     "name": "stdout",
     "output_type": "stream",
     "text": [
      "1/1 [==============================] - 0s 21ms/step\n",
      "1/1 [==============================] - 0s 20ms/step\n"
     ]
    },
    {
     "name": "stderr",
     "output_type": "stream",
     "text": [
      " 19%|█▉        | 19/100 [00:03<00:06, 11.71it/s]"
     ]
    },
    {
     "name": "stdout",
     "output_type": "stream",
     "text": [
      "1/1 [==============================] - 0s 21ms/step\n",
      "1/1 [==============================] - 0s 22ms/step\n"
     ]
    },
    {
     "name": "stderr",
     "output_type": "stream",
     "text": [
      " 21%|██        | 21/100 [00:03<00:06, 12.05it/s]"
     ]
    },
    {
     "name": "stdout",
     "output_type": "stream",
     "text": [
      "1/1 [==============================] - 0s 20ms/step\n",
      "1/1 [==============================] - 0s 20ms/step\n"
     ]
    },
    {
     "name": "stderr",
     "output_type": "stream",
     "text": [
      " 23%|██▎       | 23/100 [00:03<00:06, 12.45it/s]"
     ]
    },
    {
     "name": "stdout",
     "output_type": "stream",
     "text": [
      "1/1 [==============================] - 0s 21ms/step\n",
      "1/1 [==============================] - 0s 22ms/step\n"
     ]
    },
    {
     "name": "stderr",
     "output_type": "stream",
     "text": [
      " 25%|██▌       | 25/100 [00:03<00:05, 12.55it/s]"
     ]
    },
    {
     "name": "stdout",
     "output_type": "stream",
     "text": [
      "1/1 [==============================] - 0s 21ms/step\n",
      "1/1 [==============================] - 0s 20ms/step\n"
     ]
    },
    {
     "name": "stderr",
     "output_type": "stream",
     "text": [
      " 27%|██▋       | 27/100 [00:03<00:05, 12.62it/s]"
     ]
    },
    {
     "name": "stdout",
     "output_type": "stream",
     "text": [
      "1/1 [==============================] - 0s 21ms/step\n",
      "1/1 [==============================] - 0s 21ms/step\n"
     ]
    },
    {
     "name": "stderr",
     "output_type": "stream",
     "text": [
      " 29%|██▉       | 29/100 [00:03<00:05, 12.50it/s]"
     ]
    },
    {
     "name": "stdout",
     "output_type": "stream",
     "text": [
      "1/1 [==============================] - 0s 21ms/step\n",
      "1/1 [==============================] - 0s 20ms/step\n"
     ]
    },
    {
     "name": "stderr",
     "output_type": "stream",
     "text": [
      " 31%|███       | 31/100 [00:04<00:05, 12.50it/s]"
     ]
    },
    {
     "name": "stdout",
     "output_type": "stream",
     "text": [
      "1/1 [==============================] - 0s 21ms/step\n",
      "1/1 [==============================] - 0s 21ms/step\n"
     ]
    },
    {
     "name": "stderr",
     "output_type": "stream",
     "text": [
      " 33%|███▎      | 33/100 [00:04<00:05, 12.18it/s]"
     ]
    },
    {
     "name": "stdout",
     "output_type": "stream",
     "text": [
      "1/1 [==============================] - 0s 21ms/step\n",
      "1/1 [==============================] - 0s 21ms/step\n"
     ]
    },
    {
     "name": "stderr",
     "output_type": "stream",
     "text": [
      " 35%|███▌      | 35/100 [00:04<00:05, 12.10it/s]"
     ]
    },
    {
     "name": "stdout",
     "output_type": "stream",
     "text": [
      "1/1 [==============================] - 0s 20ms/step\n",
      "1/1 [==============================] - 0s 21ms/step\n"
     ]
    },
    {
     "name": "stderr",
     "output_type": "stream",
     "text": [
      " 37%|███▋      | 37/100 [00:04<00:05, 12.12it/s]"
     ]
    },
    {
     "name": "stdout",
     "output_type": "stream",
     "text": [
      "1/1 [==============================] - 0s 20ms/step\n",
      "1/1 [==============================] - 0s 20ms/step\n"
     ]
    },
    {
     "name": "stderr",
     "output_type": "stream",
     "text": [
      " 39%|███▉      | 39/100 [00:04<00:05, 12.07it/s]"
     ]
    },
    {
     "name": "stdout",
     "output_type": "stream",
     "text": [
      "1/1 [==============================] - 0s 20ms/step\n",
      "1/1 [==============================] - 0s 21ms/step\n"
     ]
    },
    {
     "name": "stderr",
     "output_type": "stream",
     "text": [
      " 41%|████      | 41/100 [00:04<00:04, 11.92it/s]"
     ]
    },
    {
     "name": "stdout",
     "output_type": "stream",
     "text": [
      "1/1 [==============================] - 0s 21ms/step\n",
      "1/1 [==============================] - 0s 21ms/step\n"
     ]
    },
    {
     "name": "stderr",
     "output_type": "stream",
     "text": [
      " 43%|████▎     | 43/100 [00:05<00:04, 11.87it/s]"
     ]
    },
    {
     "name": "stdout",
     "output_type": "stream",
     "text": [
      "1/1 [==============================] - 0s 21ms/step\n",
      "1/1 [==============================] - 0s 22ms/step\n"
     ]
    },
    {
     "name": "stderr",
     "output_type": "stream",
     "text": [
      " 45%|████▌     | 45/100 [00:05<00:04, 11.73it/s]"
     ]
    },
    {
     "name": "stdout",
     "output_type": "stream",
     "text": [
      "1/1 [==============================] - 0s 22ms/step\n",
      "1/1 [==============================] - 0s 21ms/step\n"
     ]
    },
    {
     "name": "stderr",
     "output_type": "stream",
     "text": [
      " 47%|████▋     | 47/100 [00:05<00:04, 11.55it/s]"
     ]
    },
    {
     "name": "stdout",
     "output_type": "stream",
     "text": [
      "1/1 [==============================] - 0s 22ms/step\n",
      "1/1 [==============================] - 0s 21ms/step\n"
     ]
    },
    {
     "name": "stderr",
     "output_type": "stream",
     "text": [
      " 49%|████▉     | 49/100 [00:05<00:04, 11.32it/s]"
     ]
    },
    {
     "name": "stdout",
     "output_type": "stream",
     "text": [
      "1/1 [==============================] - 0s 21ms/step\n",
      "1/1 [==============================] - 0s 20ms/step\n"
     ]
    },
    {
     "name": "stderr",
     "output_type": "stream",
     "text": [
      " 51%|█████     | 51/100 [00:05<00:04, 11.40it/s]"
     ]
    },
    {
     "name": "stdout",
     "output_type": "stream",
     "text": [
      "1/1 [==============================] - 0s 20ms/step\n",
      "1/1 [==============================] - 0s 20ms/step\n"
     ]
    },
    {
     "name": "stderr",
     "output_type": "stream",
     "text": [
      " 53%|█████▎    | 53/100 [00:05<00:04, 11.45it/s]"
     ]
    },
    {
     "name": "stdout",
     "output_type": "stream",
     "text": [
      "1/1 [==============================] - 0s 20ms/step\n",
      "1/1 [==============================] - 0s 22ms/step\n"
     ]
    },
    {
     "name": "stderr",
     "output_type": "stream",
     "text": [
      " 55%|█████▌    | 55/100 [00:06<00:03, 11.40it/s]"
     ]
    },
    {
     "name": "stdout",
     "output_type": "stream",
     "text": [
      "1/1 [==============================] - 0s 21ms/step\n",
      "1/1 [==============================] - 0s 21ms/step\n"
     ]
    },
    {
     "name": "stderr",
     "output_type": "stream",
     "text": [
      " 57%|█████▋    | 57/100 [00:06<00:03, 11.27it/s]"
     ]
    },
    {
     "name": "stdout",
     "output_type": "stream",
     "text": [
      "1/1 [==============================] - 0s 20ms/step\n",
      "1/1 [==============================] - 0s 21ms/step\n"
     ]
    },
    {
     "name": "stderr",
     "output_type": "stream",
     "text": [
      " 59%|█████▉    | 59/100 [00:06<00:03, 11.29it/s]"
     ]
    },
    {
     "name": "stdout",
     "output_type": "stream",
     "text": [
      "1/1 [==============================] - 0s 20ms/step\n",
      "1/1 [==============================] - 0s 21ms/step\n"
     ]
    },
    {
     "name": "stderr",
     "output_type": "stream",
     "text": [
      " 61%|██████    | 61/100 [00:06<00:03, 11.37it/s]"
     ]
    },
    {
     "name": "stdout",
     "output_type": "stream",
     "text": [
      "1/1 [==============================] - 0s 20ms/step\n",
      "1/1 [==============================] - 0s 20ms/step\n"
     ]
    },
    {
     "name": "stderr",
     "output_type": "stream",
     "text": [
      " 63%|██████▎   | 63/100 [00:06<00:03, 11.39it/s]"
     ]
    },
    {
     "name": "stdout",
     "output_type": "stream",
     "text": [
      "1/1 [==============================] - 0s 20ms/step\n",
      "1/1 [==============================] - 0s 23ms/step\n"
     ]
    },
    {
     "name": "stderr",
     "output_type": "stream",
     "text": [
      " 65%|██████▌   | 65/100 [00:07<00:03, 11.07it/s]"
     ]
    },
    {
     "name": "stdout",
     "output_type": "stream",
     "text": [
      "1/1 [==============================] - 0s 24ms/step\n",
      "1/1 [==============================] - 0s 21ms/step\n"
     ]
    },
    {
     "name": "stderr",
     "output_type": "stream",
     "text": [
      " 67%|██████▋   | 67/100 [00:07<00:03, 10.59it/s]"
     ]
    },
    {
     "name": "stdout",
     "output_type": "stream",
     "text": [
      "1/1 [==============================] - 0s 21ms/step\n",
      "1/1 [==============================] - 0s 20ms/step\n"
     ]
    },
    {
     "name": "stderr",
     "output_type": "stream",
     "text": [
      " 69%|██████▉   | 69/100 [00:07<00:02, 10.75it/s]"
     ]
    },
    {
     "name": "stdout",
     "output_type": "stream",
     "text": [
      "1/1 [==============================] - 0s 21ms/step\n",
      "1/1 [==============================] - 0s 21ms/step\n"
     ]
    },
    {
     "name": "stderr",
     "output_type": "stream",
     "text": [
      " 71%|███████   | 71/100 [00:07<00:02, 10.67it/s]"
     ]
    },
    {
     "name": "stdout",
     "output_type": "stream",
     "text": [
      "1/1 [==============================] - 0s 21ms/step\n",
      "1/1 [==============================] - 0s 20ms/step\n"
     ]
    },
    {
     "name": "stderr",
     "output_type": "stream",
     "text": [
      " 73%|███████▎  | 73/100 [00:07<00:02, 10.80it/s]"
     ]
    },
    {
     "name": "stdout",
     "output_type": "stream",
     "text": [
      "1/1 [==============================] - 0s 20ms/step\n",
      "1/1 [==============================] - 0s 20ms/step\n"
     ]
    },
    {
     "name": "stderr",
     "output_type": "stream",
     "text": [
      " 75%|███████▌  | 75/100 [00:07<00:02, 11.00it/s]"
     ]
    },
    {
     "name": "stdout",
     "output_type": "stream",
     "text": [
      "1/1 [==============================] - 0s 20ms/step\n",
      "1/1 [==============================] - 0s 21ms/step\n"
     ]
    },
    {
     "name": "stderr",
     "output_type": "stream",
     "text": [
      " 77%|███████▋  | 77/100 [00:08<00:02, 11.10it/s]"
     ]
    },
    {
     "name": "stdout",
     "output_type": "stream",
     "text": [
      "1/1 [==============================] - 0s 21ms/step\n",
      "1/1 [==============================] - 0s 21ms/step\n"
     ]
    },
    {
     "name": "stderr",
     "output_type": "stream",
     "text": [
      " 79%|███████▉  | 79/100 [00:08<00:01, 11.11it/s]"
     ]
    },
    {
     "name": "stdout",
     "output_type": "stream",
     "text": [
      "1/1 [==============================] - 0s 21ms/step\n",
      "1/1 [==============================] - 0s 21ms/step\n"
     ]
    },
    {
     "name": "stderr",
     "output_type": "stream",
     "text": [
      " 81%|████████  | 81/100 [00:08<00:01, 11.10it/s]"
     ]
    },
    {
     "name": "stdout",
     "output_type": "stream",
     "text": [
      "1/1 [==============================] - 0s 21ms/step\n",
      "1/1 [==============================] - 0s 21ms/step\n"
     ]
    },
    {
     "name": "stderr",
     "output_type": "stream",
     "text": [
      " 83%|████████▎ | 83/100 [00:08<00:01, 11.11it/s]"
     ]
    },
    {
     "name": "stdout",
     "output_type": "stream",
     "text": [
      "1/1 [==============================] - 0s 20ms/step\n",
      "1/1 [==============================] - 0s 19ms/step\n"
     ]
    },
    {
     "name": "stderr",
     "output_type": "stream",
     "text": [
      " 85%|████████▌ | 85/100 [00:08<00:01, 11.25it/s]"
     ]
    },
    {
     "name": "stdout",
     "output_type": "stream",
     "text": [
      "1/1 [==============================] - 0s 20ms/step\n",
      "1/1 [==============================] - 0s 20ms/step\n"
     ]
    },
    {
     "name": "stderr",
     "output_type": "stream",
     "text": [
      " 87%|████████▋ | 87/100 [00:09<00:01, 11.31it/s]"
     ]
    },
    {
     "name": "stdout",
     "output_type": "stream",
     "text": [
      "1/1 [==============================] - 0s 21ms/step\n",
      "1/1 [==============================] - 0s 20ms/step\n"
     ]
    },
    {
     "name": "stderr",
     "output_type": "stream",
     "text": [
      " 89%|████████▉ | 89/100 [00:09<00:01, 10.94it/s]"
     ]
    },
    {
     "name": "stdout",
     "output_type": "stream",
     "text": [
      "1/1 [==============================] - 0s 21ms/step\n",
      "1/1 [==============================] - 0s 20ms/step\n"
     ]
    },
    {
     "name": "stderr",
     "output_type": "stream",
     "text": [
      " 91%|█████████ | 91/100 [00:09<00:00, 11.04it/s]"
     ]
    },
    {
     "name": "stdout",
     "output_type": "stream",
     "text": [
      "1/1 [==============================] - 0s 21ms/step\n",
      "1/1 [==============================] - 0s 33ms/step\n"
     ]
    },
    {
     "name": "stderr",
     "output_type": "stream",
     "text": [
      " 93%|█████████▎| 93/100 [00:09<00:00, 10.89it/s]"
     ]
    },
    {
     "name": "stdout",
     "output_type": "stream",
     "text": [
      "1/1 [==============================] - 0s 21ms/step\n",
      "1/1 [==============================] - 0s 27ms/step\n"
     ]
    },
    {
     "name": "stderr",
     "output_type": "stream",
     "text": [
      " 95%|█████████▌| 95/100 [00:09<00:00, 10.58it/s]"
     ]
    },
    {
     "name": "stdout",
     "output_type": "stream",
     "text": [
      "1/1 [==============================] - 0s 21ms/step\n",
      "1/1 [==============================] - 0s 22ms/step\n"
     ]
    },
    {
     "name": "stderr",
     "output_type": "stream",
     "text": [
      " 97%|█████████▋| 97/100 [00:09<00:00, 10.77it/s]"
     ]
    },
    {
     "name": "stdout",
     "output_type": "stream",
     "text": [
      "1/1 [==============================] - 0s 21ms/step\n",
      "1/1 [==============================] - 0s 21ms/step\n"
     ]
    },
    {
     "name": "stderr",
     "output_type": "stream",
     "text": [
      " 99%|█████████▉| 99/100 [00:10<00:00, 10.91it/s]"
     ]
    },
    {
     "name": "stdout",
     "output_type": "stream",
     "text": [
      "1/1 [==============================] - 0s 20ms/step\n"
     ]
    },
    {
     "name": "stderr",
     "output_type": "stream",
     "text": [
      "100%|██████████| 100/100 [00:10<00:00,  9.77it/s]\n"
     ]
    }
   ],
   "source": [
    "test_steps = (len(test_x)//batch)\n",
    "if len(test_x) % batch != 0:\n",
    "    test_steps += 1\n",
    "\n",
    "# with CustomObjectScope({'iou': iou}):\n",
    "#     model = tf.keras.models.load_model(\"files/model.h5\")\n",
    "\n",
    "model.evaluate(test_dataset, steps=test_steps)\n",
    "\n",
    "for i, (x, y) in tqdm(enumerate(zip(test_x, test_y)), total=len(test_x)):\n",
    "    x = test_read_image(x)\n",
    "    y = test_read_mask(y)\n",
    "    y_pred = model.predict(np.expand_dims(x, axis=0))[0] > 0.5\n",
    "    h, w, _ = x.shape\n",
    "    white_line = np.ones((h, 10, 3)) * 255.0\n",
    "\n",
    "    all_images = [\n",
    "            x * 255.0, white_line,\n",
    "            test_mask_parse(y), white_line,\n",
    "            test_mask_parse(y_pred) * 255.0\n",
    "        ]\n",
    "    image = np.concatenate(all_images, axis=1)\n",
    "    cv2.imwrite(f\"results/{i}.png\", image)"
   ]
  }
 ],
 "metadata": {
  "kaggle": {
   "accelerator": "nvidiaTeslaT4",
   "dataSources": [
    {
     "datasetId": 1316959,
     "sourceId": 2250903,
     "sourceType": "datasetVersion"
    }
   ],
   "dockerImageVersionId": 30627,
   "isGpuEnabled": true,
   "isInternetEnabled": true,
   "language": "python",
   "sourceType": "notebook"
  },
  "kernelspec": {
   "display_name": "Python 3",
   "language": "python",
   "name": "python3"
  },
  "language_info": {
   "codemirror_mode": {
    "name": "ipython",
    "version": 3
   },
   "file_extension": ".py",
   "mimetype": "text/x-python",
   "name": "python",
   "nbconvert_exporter": "python",
   "pygments_lexer": "ipython3",
   "version": "3.10.12"
  },
  "papermill": {
   "default_parameters": {},
   "duration": 14284.456535,
   "end_time": "2023-12-28T01:29:14.173004",
   "environment_variables": {},
   "exception": null,
   "input_path": "__notebook__.ipynb",
   "output_path": "__notebook__.ipynb",
   "parameters": {},
   "start_time": "2023-12-27T21:31:09.716469",
   "version": "2.4.0"
  }
 },
 "nbformat": 4,
 "nbformat_minor": 5
}
